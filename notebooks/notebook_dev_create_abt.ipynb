{
 "cells": [
  {
   "attachments": {},
   "cell_type": "markdown",
   "metadata": {},
   "source": [
    "# Create ABT"
   ]
  },
  {
   "attachments": {},
   "cell_type": "markdown",
   "metadata": {},
   "source": [
    "## Initial Configs"
   ]
  },
  {
   "attachments": {},
   "cell_type": "markdown",
   "metadata": {},
   "source": [
    "### Imports"
   ]
  },
  {
   "cell_type": "code",
   "execution_count": 34,
   "metadata": {},
   "outputs": [],
   "source": [
    "import os\n",
    "import sys\n",
    "from pyspark.sql import SparkSession\n",
    "from pyspark.sql.functions import avg, col, expr, count, sum, max, udf, dayofweek, date_format, when, mean, median\n",
    "from pyspark.sql.types import StringType\n",
    "sys.path.append('../src/')\n",
    "from aws.aws import Aws\n",
    "import io\n",
    "import pandas as pd \n",
    "import boto3\n",
    "from datetime import datetime\n",
    "import warnings\n",
    "warnings.filterwarnings(\"ignore\")"
   ]
  },
  {
   "attachments": {},
   "cell_type": "markdown",
   "metadata": {},
   "source": [
    "### Crating spark session"
   ]
  },
  {
   "cell_type": "code",
   "execution_count": 35,
   "metadata": {},
   "outputs": [],
   "source": [
    "spark = SparkSession.builder.appName(\"ValorantDataAnalysis\").getOrCreate()\n",
    "\n",
    "spark.conf.set(\"spark.hadoop.fs.s3a.impl\", \"org.apache.hadoop.fs.s3a.S3AFileSystem\")\n",
    "spark.conf.set(\"spark.hadoop.fs.s3a.access.key\", os.getenv('AWS_ACCESS_KEY_ID'))\n",
    "spark.conf.set(\"spark.hadoop.fs.s3a.secret.key\", os.getenv('AWS_SECRET_ACCESS_KEY'))"
   ]
  },
  {
   "attachments": {},
   "cell_type": "markdown",
   "metadata": {},
   "source": [
    "### Instantiating used classes"
   ]
  },
  {
   "cell_type": "code",
   "execution_count": 36,
   "metadata": {},
   "outputs": [],
   "source": [
    "aws = Aws()"
   ]
  },
  {
   "attachments": {},
   "cell_type": "markdown",
   "metadata": {},
   "source": [
    "## Load dataframes"
   ]
  },
  {
   "attachments": {},
   "cell_type": "markdown",
   "metadata": {},
   "source": [
    "### Utils"
   ]
  },
  {
   "cell_type": "code",
   "execution_count": 37,
   "metadata": {},
   "outputs": [],
   "source": [
    "def get_files(bucket_name : str, folder_path : str) -> list:\n",
    "    \"\"\"\"\"\"\n",
    "    objects = aws.list_objetcs_s3(bucket_name, folder_path)\n",
    "\n",
    "\n",
    "    return objects\n",
    "\n",
    "def concat_files_s3(objects):\n",
    "    \"\"\"\"\"\"\n",
    "\n",
    "    json_files = [obj['Key'] for obj in objects]\n",
    "\n",
    "    for file in json_files:\n",
    "\n",
    "        response = aws.read_s3_v2(bucket_name='s3-tcc-fia-valorant', folder_path=file)\n",
    "        json_data = response['Body'].read().decode('utf-8')\n",
    "\n",
    "    return io.StringIO(json_data)\n",
    "\n",
    "def read_spark(data_io):\n",
    "    \"\"\"\"\"\"\n",
    "    data_io = pd.read_csv(data_io)\n",
    "    return spark.createDataFrame(data_io)\n",
    "\n",
    "def create_dataframe(bucket_name : str, folder_path : str):\n",
    "    \"\"\"\"\"\"\n",
    "    objects = get_files(bucket_name, folder_path)\n",
    "    data_io = concat_files_s3(objects)\n",
    "    df = read_spark(data_io)\n",
    "\n",
    "    return df\n",
    "\n",
    "def save_dataframe_csv(bucket_name, folder_path, file_name, data, file_format):\n",
    "    # Convert DataFrame to CSV string\n",
    "    csv_buffer = io.StringIO()\n",
    "    data.toPandas().to_csv(csv_buffer, index=False)\n",
    "\n",
    "    # Retrieve CSV data from buffer\n",
    "    csv_buffer_value = csv_buffer.getvalue()\n",
    "\n",
    "    date = datetime.now().strftime(\"%Y%m%d_%H%M%S\")\n",
    "    file_name = file_name + '_' + date + file_format\n",
    "    file_path = folder_path + file_name\n",
    "\n",
    "    # Write CSV string to S3\n",
    "    s3 = boto3.resource('s3')\n",
    "\n",
    "    try:\n",
    "        s3.Object(bucket_name, file_path).put(Body=csv_buffer_value)\n",
    "        print(f\"Data was written to S3://{bucket_name}/{folder_path}\")\n",
    "\n",
    "    except Exception as e:\n",
    "\n",
    "        print(f\"Error: {e}\")\n",
    "    \n",
    "        return False"
   ]
  },
  {
   "attachments": {},
   "cell_type": "markdown",
   "metadata": {},
   "source": [
    "### df_player_book"
   ]
  },
  {
   "cell_type": "code",
   "execution_count": 38,
   "metadata": {},
   "outputs": [
    {
     "name": "stdout",
     "output_type": "stream",
     "text": [
      "+--------------------+------------------------+-------------------+------------+----------+------------------+-----------+---------------------+---------------------+-----------+------------+-------------+--------------+------------+----------------------+----------------------------+------------------+------------------+------------------+------------------+-----------------+-----------------+-------------------+--------------------+--------------------+--------------------+-----------------------------+------------------------------+------------------------------+------------------------------+------------+-------------+-----------------+------------------+---------+---------------------------+----------------------------+-----------------+-----------------+----------+--------------+--------------------+---------------------------+--------------------+-------+----------+-------+----------------+-----------------+----------------+----------------+-----------------+------------------+-----------------+-----------+---------------------------+------------+--------------------+-----------+--------+--------------+-------+--------------------+--------+-----------+---------------+--------+--------------------+-------------------+------------------+----------+----------+-------------+----------------------+--------------------+---------------+--------+-----------------+-------------------------+--------------+-----------------+-------------+------------------+-------------------+---------------+---------------+----------------+-----------------+------------------+------------------+------------------+------------------+------------------+-----------------------+------------------------+------------------------+------------------------+------------------+------------------+---------------------+----------------------+-----------------+---------------------+-----------------+------------------+-------------------------------+--------------------+--------------------+---------------------+----------------------+---------------------+\n",
      "|            match_id|platform_user_identifier|total_spent_credits|total_rounds|rank_value|current_rank_value|score_value|score_per_round_value|kills_per_round_value|kills_value|deaths_value|assists_value|kd_ratio_value|damage_value|damage_per_round_value|damage_delta_per_round_value|single_kills_value|double_kills_value|triple_kills_value|quadra_kills_value|penta_kills_value|multi_kills_value|grenade_casts_value|ability1_casts_value|ability2_casts_value|ultimate_casts_value|grenade_casts_per_round_value|ability1_casts_per_round_value|ability2_casts_per_round_value|ultimate_casts_per_round_value|plants_value|defuses_value|first_kills_value|first_deaths_value|esr_value|first_kills_per_round_value|first_deaths_per_round_value|econ_rating_value|hs_accuracy_value|kast_value|clutches_value|rounds_win_pct_value|trn_performance_score_value|            party_id|team_id|agent_name|has_won|rounds_won_value|rounds_lost_value|team_score_value|team_kills_value|team_deaths_value|team_assists_value|team_damage_value|weapon_name|max_total_kills_weapon_name|is_available|           timestamp|season_name|map_name|playtime_value| result|         expiry_date|mode_key|  mode_name|mode_max_rounds|duration|        date_started|total_players_match|total_players_team|date_match|hour_match|minutes_match|playtime_minutes_value|playtime_hours_value|week_day_number|week_day|rank_number_value|current_rank_number_value|team_number_id|agent_name_number|result_number|weapon_name_number|is_available_number|map_name_number|mode_key_number|mode_name_number|avg_spent_credits|   avg_score_value|   avg_kills_value|  avg_deaths_value| avg_assists_value|  avg_damage_value|avg_grenade_casts_value|avg_ability1_casts_value|avg_ability2_casts_value|avg_ultimate_casts_value|  avg_plants_value| avg_defuses_value|avg_first_kills_value|avg_first_deaths_value|    avg_esr_value|avg_econ_rating_value|   avg_kast_value|avg_clutches_value|avg_trn_performance_score_value|avg_team_score_value|avg_team_kills_value|avg_team_deaths_value|avg_team_assists_value|avg_team_damage_value|\n",
      "+--------------------+------------------------+-------------------+------------+----------+------------------+-----------+---------------------+---------------------+-----------+------------+-------------+--------------+------------+----------------------+----------------------------+------------------+------------------+------------------+------------------+-----------------+-----------------+-------------------+--------------------+--------------------+--------------------+-----------------------------+------------------------------+------------------------------+------------------------------+------------+-------------+-----------------+------------------+---------+---------------------------+----------------------------+-----------------+-----------------+----------+--------------+--------------------+---------------------------+--------------------+-------+----------+-------+----------------+-----------------+----------------+----------------+-----------------+------------------+-----------------+-----------+---------------------------+------------+--------------------+-----------+--------+--------------+-------+--------------------+--------+-----------+---------------+--------+--------------------+-------------------+------------------+----------+----------+-------------+----------------------+--------------------+---------------+--------+-----------------+-------------------------+--------------+-----------------+-------------+------------------+-------------------+---------------+---------------+----------------+-----------------+------------------+------------------+------------------+------------------+------------------+-----------------------+------------------------+------------------------+------------------------+------------------+------------------+---------------------+----------------------+-----------------+---------------------+-----------------+------------------+-------------------------------+--------------------+--------------------+---------------------+----------------------+---------------------+\n",
      "|01f95d78-c404-4c9...|            Makitori#BR1|            32550.0|          17|  Bronze 3|          Silver 3|       4282|    251.8823529411765|   0.9411764705882352|         16|          10|            2|           1.6|        2858|    168.11764705882354|                        59.0|                 5|                 4|                 1|                 0|                0|                1|               16.0|                 5.0|                 9.0|                 2.0|           0.9411764705882352|            0.2941176470588235|            0.5294117647058824|            0.1176470588235294|           1|            1|                3|                 0|    100.0|         0.1764705882352941|                         0.0|               89|27.27272727272727|      71.0|             1|   76.47058823529412|                        834|f6aa7b58-3bd2-4b3...|   Blue|   Chamber|   true|              13|                4|           20989|              75|               49|                27|            13406|     Vandal|                          8|        true|2022-10-21T20:09:...|     E5: A3|  Ascent|          1635|victory|2023-05-22T19:51:...|    bomb|Competitive|             25| 1635054|2022-10-21T20:09:...|                 10|                 5|2022-10-21|        20|            9|                 27.25|                0.45|              6|  Friday|                7|                       10|             2|               17|            2|                 2|                  1|              1|              1|               1|             1914| 251.8823529411765|0.9411764705882352|0.5882352941176471|0.1176470588235294|168.11764705882354|     0.9411764705882352|      0.2941176470588235|      0.5294117647058824|      0.1176470588235294|0.0588235294117647|0.0588235294117647|   0.1764705882352941|                   0.0|5.882352941176471|    5.235294117647059|4.176470588235294|0.0588235294117647|              49.05882352941177|  1234.6470588235295|   4.411764705882353|   2.8823529411764706|     1.588235294117647|    788.5882352941177|\n",
      "|01f95d78-c404-4c9...|      PiKaRoSaUrOReX#BR1|            39250.0|          17|  Bronze 2|          Silver 1|       2284|   134.35294117647058|   0.4117647058823529|          7|          16|            2|        0.4375|        1514|     89.05882352941177|           -80.6470588235294|                 5|                 1|                 0|                 0|                0|                0|               21.0|                 7.0|                 4.0|                 1.0|           1.2352941176470589|            0.4117647058823529|            0.2352941176470588|            0.0588235294117647|           3|            0|                0|                 4|      0.0|                        0.0|          0.2352941176470588|               38|8.695652173913043|      53.0|             0|   23.52941176470588|                          3|7c594090-9c27-48a...|    Red|     Reyna|  false|               4|               13|           15783|              49|               75|                16|            10454|     Vandal|                          2|        true|2022-10-21T20:09:...|     E5: A3|  Ascent|          1635|victory|2023-05-22T19:51:...|    bomb|Competitive|             25| 1635054|2022-10-21T20:09:...|                 10|                 5|2022-10-21|        20|            9|                 27.25|                0.45|              6|  Friday|                6|                        8|             1|                6|            2|                 2|                  1|              1|              1|               1|             2308|134.35294117647058|0.4117647058823529|0.9411764705882352|0.1176470588235294| 89.05882352941177|     1.2352941176470589|      0.4117647058823529|      0.2352941176470588|      0.0588235294117647|0.1764705882352941|               0.0|                  0.0|    0.2352941176470588|              0.0|    2.235294117647059|3.117647058823529|               0.0|             0.1764705882352941|   928.4117647058824|  2.8823529411764706|    4.411764705882353|    0.9411764705882352|    614.9411764705883|\n",
      "+--------------------+------------------------+-------------------+------------+----------+------------------+-----------+---------------------+---------------------+-----------+------------+-------------+--------------+------------+----------------------+----------------------------+------------------+------------------+------------------+------------------+-----------------+-----------------+-------------------+--------------------+--------------------+--------------------+-----------------------------+------------------------------+------------------------------+------------------------------+------------+-------------+-----------------+------------------+---------+---------------------------+----------------------------+-----------------+-----------------+----------+--------------+--------------------+---------------------------+--------------------+-------+----------+-------+----------------+-----------------+----------------+----------------+-----------------+------------------+-----------------+-----------+---------------------------+------------+--------------------+-----------+--------+--------------+-------+--------------------+--------+-----------+---------------+--------+--------------------+-------------------+------------------+----------+----------+-------------+----------------------+--------------------+---------------+--------+-----------------+-------------------------+--------------+-----------------+-------------+------------------+-------------------+---------------+---------------+----------------+-----------------+------------------+------------------+------------------+------------------+------------------+-----------------------+------------------------+------------------------+------------------------+------------------+------------------+---------------------+----------------------+-----------------+---------------------+-----------------+------------------+-------------------------------+--------------------+--------------------+---------------------+----------------------+---------------------+\n",
      "only showing top 2 rows\n",
      "\n"
     ]
    }
   ],
   "source": [
    "df_player_book = create_dataframe('s3-tcc-fia-valorant', 'valorant/refined/player-book/')\n",
    "df_player_book.show(2)"
   ]
  },
  {
   "cell_type": "code",
   "execution_count": 39,
   "metadata": {},
   "outputs": [],
   "source": [
    "df_player_abt = (\n",
    "    df_player_book\n",
    "    .select(\n",
    "        'result_number',\n",
    "        'avg_spent_credits',\n",
    "        'avg_score_value',\n",
    "        'avg_deaths_value',\n",
    "        'avg_kills_value',\n",
    "        'avg_assists_value',\n",
    "        'avg_damage_value',\n",
    "        'avg_grenade_casts_value',\n",
    "        'avg_ability1_casts_value',\n",
    "        'avg_ability2_casts_value',\n",
    "        'avg_ultimate_casts_value',\n",
    "        'avg_plants_value',\n",
    "        'avg_defuses_value',\n",
    "        'avg_first_kills_value',\n",
    "        'avg_first_deaths_value',\n",
    "        'avg_esr_value',\n",
    "        'avg_econ_rating_value',\n",
    "        'avg_kast_value',\n",
    "        'avg_clutches_value',\n",
    "        'avg_trn_performance_score_value',\n",
    "        'avg_team_score_value',\n",
    "        'avg_team_kills_value',\n",
    "        'avg_team_deaths_value',\n",
    "        'avg_team_assists_value',\n",
    "        'avg_team_damage_value',\n",
    "        'mode_name_number',\n",
    "        'mode_key_number',\n",
    "        'map_name_number',\n",
    "        'is_available_number',\n",
    "        'weapon_name_number',\n",
    "        'ultimate_casts_per_round_value',\n",
    "        'plants_value',\n",
    "        'hour_match',\n",
    "        'minutes_match',\n",
    "        'playtime_minutes_value',\n",
    "        'playtime_hours_value',\n",
    "        'total_players_match',\n",
    "        'total_players_team',\n",
    "        'week_day_number',\n",
    "        'agent_name_number',\n",
    "        'rank_number_value',\n",
    "        'current_rank_number_value',\n",
    "        'team_number_id',\n",
    "        'defuses_value',\n",
    "        'first_kills_value',\n",
    "        'first_deaths_value',\n",
    "        'esr_value',\n",
    "        'first_kills_per_round_value',\n",
    "        'first_deaths_per_round_value',\n",
    "        'econ_rating_value',\n",
    "        'hs_accuracy_value',\n",
    "        'kast_value',\n",
    "        'clutches_value',\n",
    "        'rounds_win_pct_value',\n",
    "        'trn_performance_score_value',\n",
    "        'rounds_won_value',\n",
    "        'rounds_lost_value',\n",
    "        'team_score_value',\n",
    "        'team_kills_value',\n",
    "        'team_deaths_value',\n",
    "        'team_assists_value',\n",
    "        'team_damage_value',\n",
    "        'max_total_kills_weapon_name',\n",
    "        'total_spent_credits',\n",
    "        'total_rounds',\n",
    "        'score_value',\n",
    "        'score_per_round_value',\n",
    "        'kills_per_round_value',\n",
    "        'kills_per_round_value',\n",
    "        'deaths_value',\n",
    "        'assists_value',\n",
    "        'kd_ratio_value',\n",
    "        'damage_value',\n",
    "        'damage_per_round_value',\n",
    "        'damage_delta_per_round_value',\n",
    "        'single_kills_value',\n",
    "        'double_kills_value',\n",
    "        'triple_kills_value',\n",
    "        'quadra_kills_value',\n",
    "        'penta_kills_value',\n",
    "        'multi_kills_value',\n",
    "        'grenade_casts_value',\n",
    "        'ability1_casts_value',\n",
    "        'ability2_casts_value',\n",
    "        'ultimate_casts_value',\n",
    "        'grenade_casts_per_round_value',\n",
    "        'ability1_casts_per_round_value',\n",
    "        'ability2_casts_per_round_value',\n",
    "                      ))"
   ]
  },
  {
   "cell_type": "code",
   "execution_count": 40,
   "metadata": {},
   "outputs": [
    {
     "name": "stdout",
     "output_type": "stream",
     "text": [
      "+-------------+-----------------+------------------+------------------+------------------+------------------+------------------+-----------------------+------------------------+------------------------+------------------------+------------------+------------------+---------------------+----------------------+-----------------+---------------------+-----------------+------------------+-------------------------------+--------------------+--------------------+---------------------+----------------------+---------------------+----------------+---------------+---------------+-------------------+------------------+------------------------------+------------+----------+-------------+----------------------+--------------------+-------------------+------------------+---------------+-----------------+-----------------+-------------------------+--------------+-------------+-----------------+------------------+---------+---------------------------+----------------------------+-----------------+-----------------+----------+--------------+--------------------+---------------------------+----------------+-----------------+----------------+----------------+-----------------+------------------+-----------------+---------------------------+-------------------+------------+-----------+---------------------+---------------------+---------------------+------------+-------------+--------------+------------+----------------------+----------------------------+------------------+------------------+------------------+------------------+-----------------+-----------------+-------------------+--------------------+--------------------+--------------------+-----------------------------+------------------------------+------------------------------+\n",
      "|result_number|avg_spent_credits|   avg_score_value|  avg_deaths_value|   avg_kills_value| avg_assists_value|  avg_damage_value|avg_grenade_casts_value|avg_ability1_casts_value|avg_ability2_casts_value|avg_ultimate_casts_value|  avg_plants_value| avg_defuses_value|avg_first_kills_value|avg_first_deaths_value|    avg_esr_value|avg_econ_rating_value|   avg_kast_value|avg_clutches_value|avg_trn_performance_score_value|avg_team_score_value|avg_team_kills_value|avg_team_deaths_value|avg_team_assists_value|avg_team_damage_value|mode_name_number|mode_key_number|map_name_number|is_available_number|weapon_name_number|ultimate_casts_per_round_value|plants_value|hour_match|minutes_match|playtime_minutes_value|playtime_hours_value|total_players_match|total_players_team|week_day_number|agent_name_number|rank_number_value|current_rank_number_value|team_number_id|defuses_value|first_kills_value|first_deaths_value|esr_value|first_kills_per_round_value|first_deaths_per_round_value|econ_rating_value|hs_accuracy_value|kast_value|clutches_value|rounds_win_pct_value|trn_performance_score_value|rounds_won_value|rounds_lost_value|team_score_value|team_kills_value|team_deaths_value|team_assists_value|team_damage_value|max_total_kills_weapon_name|total_spent_credits|total_rounds|score_value|score_per_round_value|kills_per_round_value|kills_per_round_value|deaths_value|assists_value|kd_ratio_value|damage_value|damage_per_round_value|damage_delta_per_round_value|single_kills_value|double_kills_value|triple_kills_value|quadra_kills_value|penta_kills_value|multi_kills_value|grenade_casts_value|ability1_casts_value|ability2_casts_value|ultimate_casts_value|grenade_casts_per_round_value|ability1_casts_per_round_value|ability2_casts_per_round_value|\n",
      "+-------------+-----------------+------------------+------------------+------------------+------------------+------------------+-----------------------+------------------------+------------------------+------------------------+------------------+------------------+---------------------+----------------------+-----------------+---------------------+-----------------+------------------+-------------------------------+--------------------+--------------------+---------------------+----------------------+---------------------+----------------+---------------+---------------+-------------------+------------------+------------------------------+------------+----------+-------------+----------------------+--------------------+-------------------+------------------+---------------+-----------------+-----------------+-------------------------+--------------+-------------+-----------------+------------------+---------+---------------------------+----------------------------+-----------------+-----------------+----------+--------------+--------------------+---------------------------+----------------+-----------------+----------------+----------------+-----------------+------------------+-----------------+---------------------------+-------------------+------------+-----------+---------------------+---------------------+---------------------+------------+-------------+--------------+------------+----------------------+----------------------------+------------------+------------------+------------------+------------------+-----------------+-----------------+-------------------+--------------------+--------------------+--------------------+-----------------------------+------------------------------+------------------------------+\n",
      "|            2|             1914| 251.8823529411765|0.5882352941176471|0.9411764705882352|0.1176470588235294|168.11764705882354|     0.9411764705882352|      0.2941176470588235|      0.5294117647058824|      0.1176470588235294|0.0588235294117647|0.0588235294117647|   0.1764705882352941|                   0.0|5.882352941176471|    5.235294117647059|4.176470588235294|0.0588235294117647|              49.05882352941177|  1234.6470588235295|   4.411764705882353|   2.8823529411764706|     1.588235294117647|    788.5882352941177|               1|              1|              1|                  1|                 2|            0.1176470588235294|           1|        20|            9|                 27.25|                0.45|                 10|                 5|              6|               17|                7|                       10|             2|            1|                3|                 0|    100.0|         0.1764705882352941|                         0.0|               89|27.27272727272727|      71.0|             1|   76.47058823529412|                        834|              13|                4|           20989|              75|               49|                27|            13406|                          8|            32550.0|          17|       4282|    251.8823529411765|   0.9411764705882352|   0.9411764705882352|          10|            2|           1.6|        2858|    168.11764705882354|                        59.0|                 5|                 4|                 1|                 0|                0|                1|               16.0|                 5.0|                 9.0|                 2.0|           0.9411764705882352|            0.2941176470588235|            0.5294117647058824|\n",
      "|            2|             2308|134.35294117647058|0.9411764705882352|0.4117647058823529|0.1176470588235294| 89.05882352941177|     1.2352941176470589|      0.4117647058823529|      0.2352941176470588|      0.0588235294117647|0.1764705882352941|               0.0|                  0.0|    0.2352941176470588|              0.0|    2.235294117647059|3.117647058823529|               0.0|             0.1764705882352941|   928.4117647058824|  2.8823529411764706|    4.411764705882353|    0.9411764705882352|    614.9411764705883|               1|              1|              1|                  1|                 2|            0.0588235294117647|           3|        20|            9|                 27.25|                0.45|                 10|                 5|              6|                6|                6|                        8|             1|            0|                0|                 4|      0.0|                        0.0|          0.2352941176470588|               38|8.695652173913043|      53.0|             0|   23.52941176470588|                          3|               4|               13|           15783|              49|               75|                16|            10454|                          2|            39250.0|          17|       2284|   134.35294117647058|   0.4117647058823529|   0.4117647058823529|          16|            2|        0.4375|        1514|     89.05882352941177|           -80.6470588235294|                 5|                 1|                 0|                 0|                0|                0|               21.0|                 7.0|                 4.0|                 1.0|           1.2352941176470589|            0.4117647058823529|            0.2352941176470588|\n",
      "+-------------+-----------------+------------------+------------------+------------------+------------------+------------------+-----------------------+------------------------+------------------------+------------------------+------------------+------------------+---------------------+----------------------+-----------------+---------------------+-----------------+------------------+-------------------------------+--------------------+--------------------+---------------------+----------------------+---------------------+----------------+---------------+---------------+-------------------+------------------+------------------------------+------------+----------+-------------+----------------------+--------------------+-------------------+------------------+---------------+-----------------+-----------------+-------------------------+--------------+-------------+-----------------+------------------+---------+---------------------------+----------------------------+-----------------+-----------------+----------+--------------+--------------------+---------------------------+----------------+-----------------+----------------+----------------+-----------------+------------------+-----------------+---------------------------+-------------------+------------+-----------+---------------------+---------------------+---------------------+------------+-------------+--------------+------------+----------------------+----------------------------+------------------+------------------+------------------+------------------+-----------------+-----------------+-------------------+--------------------+--------------------+--------------------+-----------------------------+------------------------------+------------------------------+\n",
      "only showing top 2 rows\n",
      "\n"
     ]
    }
   ],
   "source": [
    "df_player_abt.show(2)"
   ]
  },
  {
   "cell_type": "code",
   "execution_count": 41,
   "metadata": {},
   "outputs": [
    {
     "data": {
      "text/plain": [
       "2992"
      ]
     },
     "execution_count": 41,
     "metadata": {},
     "output_type": "execute_result"
    }
   ],
   "source": [
    "df_player_abt.count()"
   ]
  },
  {
   "cell_type": "code",
   "execution_count": 42,
   "metadata": {},
   "outputs": [
    {
     "data": {
      "text/plain": [
       "2193"
      ]
     },
     "execution_count": 42,
     "metadata": {},
     "output_type": "execute_result"
    }
   ],
   "source": [
    "df_player_abt = df_player_abt.dropna()\n",
    "df_player_abt.count()"
   ]
  },
  {
   "cell_type": "code",
   "execution_count": 43,
   "metadata": {},
   "outputs": [
    {
     "data": {
      "text/plain": [
       "2159"
      ]
     },
     "execution_count": 43,
     "metadata": {},
     "output_type": "execute_result"
    }
   ],
   "source": [
    "df_player_abt = df_player_abt.where((df_player_abt.total_players_team >= 5) & (df_player_abt.total_players_match >= 10))\n",
    "df_player_abt.count()"
   ]
  },
  {
   "cell_type": "code",
   "execution_count": 44,
   "metadata": {},
   "outputs": [
    {
     "name": "stdout",
     "output_type": "stream",
     "text": [
      "Data was written to S3://s3-tcc-fia-valorant/valorant/refined/player-abt/\n"
     ]
    }
   ],
   "source": [
    "save_dataframe_csv('s3-tcc-fia-valorant', 'valorant/refined/player-abt/', 'player-book', df_player_abt, '.csv')"
   ]
  }
 ],
 "metadata": {
  "kernelspec": {
   "display_name": "Python 3",
   "language": "python",
   "name": "python3"
  },
  "language_info": {
   "codemirror_mode": {
    "name": "ipython",
    "version": 3
   },
   "file_extension": ".py",
   "mimetype": "text/x-python",
   "name": "python",
   "nbconvert_exporter": "python",
   "pygments_lexer": "ipython3",
   "version": "3.10.6"
  },
  "orig_nbformat": 4
 },
 "nbformat": 4,
 "nbformat_minor": 2
}
