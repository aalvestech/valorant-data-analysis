{
 "cells": [
  {
   "attachments": {},
   "cell_type": "markdown",
   "metadata": {},
   "source": [
    "# Data Analisys Valorant"
   ]
  },
  {
   "attachments": {},
   "cell_type": "markdown",
   "metadata": {},
   "source": [
    "## Initial Configs"
   ]
  },
  {
   "attachments": {},
   "cell_type": "markdown",
   "metadata": {},
   "source": [
    "### Imports"
   ]
  },
  {
   "cell_type": "code",
   "execution_count": 73,
   "metadata": {},
   "outputs": [],
   "source": [
    "from pyspark.sql import SparkSession\n",
    "from pyspark.sql.functions import avg, col, expr, count, sum\n",
    "# from ..src.aws.aws import Aws\n",
    "import sys\n",
    "sys.path.append('../src/')\n",
    "from aws.aws import Aws\n",
    "import io\n",
    "import pandas as pd "
   ]
  },
  {
   "attachments": {},
   "cell_type": "markdown",
   "metadata": {},
   "source": [
    "### Creating a Spark Session"
   ]
  },
  {
   "cell_type": "code",
   "execution_count": 2,
   "metadata": {},
   "outputs": [],
   "source": [
    "spark = SparkSession.builder.appName(\"CreateDataFrame\").getOrCreate()"
   ]
  },
  {
   "attachments": {},
   "cell_type": "markdown",
   "metadata": {},
   "source": [
    "### Instantiating used classes"
   ]
  },
  {
   "cell_type": "code",
   "execution_count": 3,
   "metadata": {},
   "outputs": [],
   "source": [
    "aws = Aws()"
   ]
  },
  {
   "attachments": {},
   "cell_type": "markdown",
   "metadata": {},
   "source": [
    "## Load Dataframes"
   ]
  },
  {
   "attachments": {},
   "cell_type": "markdown",
   "metadata": {},
   "source": [
    "### Utils"
   ]
  },
  {
   "cell_type": "code",
   "execution_count": 4,
   "metadata": {},
   "outputs": [],
   "source": [
    "def get_files(bucket_name : str, folder_path : str) -> list:\n",
    "    \"\"\"\"\"\"\n",
    "    # objects = aws.list_objetcs_s3(bucket_name = 's3-tcc-fia-valorant', folder_path = 'valorant/raw/summary/matches/')\n",
    "    objects = aws.list_objetcs_s3(bucket_name, folder_path)\n",
    "\n",
    "\n",
    "    return objects"
   ]
  },
  {
   "cell_type": "code",
   "execution_count": 5,
   "metadata": {},
   "outputs": [],
   "source": [
    "def concat_files_s3(objects):\n",
    "    \"\"\"\"\"\"\n",
    "\n",
    "    json_files = [obj['Key'] for obj in objects]\n",
    "\n",
    "    for file in json_files:\n",
    "\n",
    "        response = aws.read_s3_v2(bucket_name='s3-tcc-fia-valorant', folder_path=file)\n",
    "        json_data = response['Body'].read().decode('utf-8')\n",
    "\n",
    "    return io.StringIO(json_data)"
   ]
  },
  {
   "cell_type": "code",
   "execution_count": 6,
   "metadata": {},
   "outputs": [],
   "source": [
    "def read_spark(data_io):\n",
    "    \"\"\"\"\"\"\n",
    "    data_io = pd.read_csv(data_io)\n",
    "    return spark.createDataFrame(data_io)"
   ]
  },
  {
   "cell_type": "code",
   "execution_count": 7,
   "metadata": {},
   "outputs": [],
   "source": [
    "def create_dataframe(bucket_name : str, folder_path : str):\n",
    "    \"\"\"\"\"\"\n",
    "    objects = get_files(bucket_name, folder_path)\n",
    "    data_io = concat_files_s3(objects)\n",
    "    df = read_spark(data_io)\n",
    "\n",
    "    return df"
   ]
  },
  {
   "attachments": {},
   "cell_type": "markdown",
   "metadata": {},
   "source": [
    "### df_matches_summary_data"
   ]
  },
  {
   "cell_type": "code",
   "execution_count": 8,
   "metadata": {},
   "outputs": [
    {
     "name": "stdout",
     "output_type": "stream",
     "text": [
      "+---------------+--------------------+--------------------+--------------------+-------+-----------+--------------------+-------------+-----------+--------------------+--------------+--------------------+-------+--------------------+----------+------+-------+---------+-------------+--------------------+-----------------+------------------------+--------------+---------------------+---------------+----------------------+-----------------------+------------------------------+--------------+---------------------+----------+-----------------+----------+-----------------+-----------+------------------+------------+-------------------+-----------+------------------+-------------------+--------------------------+--------------+---------------------+-----------------+------------------------+------------------+-------------------------+------------------+-------------------------+------------------+-------------------------+-------------------+--------------------------+-------------------+--------------------------+------------------+-------------------------+---------------+----------------------+-------------+--------------------+------------+-------------------+----------------+-----------------------+----------------+-----------------------+---------------+----------------------+-------------+--------------------+-----------+------------------+-----------+------------------+---------+----------------+-------------+--------------------+------------+-------------------+---------+----------------+-------------+--------------------+-------------+--------------------+-----------------+------------------------+-----------+------------------+------------+-------------------+------------------+-------------------+------------------+-------------------------+-------------------+--------------------------+------------------------+-------------------------------+----------------+-----------------------+------------------------+-------------------------------+---------+----------------+------------------------+-------------------------------+\n",
      "|         userId|             matchId|               mapId|              modeId|modeKey|   modeName|        modeImageUrl|modeMaxRounds|isAvailable|           timestamp|metadataResult|                 map|mapName|         mapImageUrl|seasonName|hasWon| result|agentName|playtimeValue|playtimeDisplayValue|roundsPlayedValue|roundsPlayedDisplayValue|roundsWonValue|roundsWonDisplayValue|roundsLostValue|roundsLostDisplayValue|roundsDisconnectedValue|roundsDisconnectedDisplayValue|placementValue|placementDisplayValue|scoreValue|scoreDisplayValue|killsValue|killsDisplayValue|deathsValue|deathsDisplayValue|assistsValue|assistsDisplayValue|damageValue|damageDisplayValue|damageReceivedValue|damageReceivedDisplayValue|headshotsValue|headshotsDisplayValue|grenadeCastsValue|grenadeCastsDisplayValue|ability1CastsValue|ability1CastsDisplayValue|ability2CastsValue|ability2CastsDisplayValue|ultimateCastsValue|ultimateCastsDisplayValue|dealtHeadshotsValue|dealtHeadshotsDisplayValue|dealtBodyshotsValue|dealtBodyshotsDisplayValue|dealtLegshotsValue|dealtLegshotsDisplayValue|econRatingValue|econRatingDisplayValue|suicidesValue|suicidesDisplayValue|revivedValue|revivedDisplayValue|firstBloodsValue|firstBloodsDisplayValue|firstDeathsValue|firstDeathsDisplayValue|lastDeathsValue|lastDeathsDisplayValue|survivedValue|survivedDisplayValue|tradedValue|tradedDisplayValue|kastedValue|kastedDisplayValue|kASTValue|kASTDisplayValue|flawlessValue|flawlessDisplayValue|thriftyValue|thriftyDisplayValue|acesValue|acesDisplayValue|teamAcesValue|teamAcesDisplayValue|clutchesValue|clutchesDisplayValue|clutchesLostValue|clutchesLostDisplayValue|plantsValue|plantsDisplayValue|defusesValue|defusesDisplayValue|      kdRatioValue|kdRatioDisplayValue|scorePerRoundValue|scorePerRoundDisplayValue|damagePerRoundValue|damagePerRoundDisplayValue|headshotsPercentageValue|headshotsPercentageDisplayValue|damageDeltaValue|damageDeltaDisplayValue|damageDeltaPerRoundValue|damageDeltaPerRoundDisplayValue|rankValue|rankDisplayValue|trnPerformanceScoreValue|trnPerformanceScoreDisplayValue|\n",
      "+---------------+--------------------+--------------------+--------------------+-------+-----------+--------------------+-------------+-----------+--------------------+--------------+--------------------+-------+--------------------+----------+------+-------+---------+-------------+--------------------+-----------------+------------------------+--------------+---------------------+---------------+----------------------+-----------------------+------------------------------+--------------+---------------------+----------+-----------------+----------+-----------------+-----------+------------------+------------+-------------------+-----------+------------------+-------------------+--------------------------+--------------+---------------------+-----------------+------------------------+------------------+-------------------------+------------------+-------------------------+------------------+-------------------------+-------------------+--------------------------+-------------------+--------------------------+------------------+-------------------------+---------------+----------------------+-------------+--------------------+------------+-------------------+----------------+-----------------------+----------------+-----------------------+---------------+----------------------+-------------+--------------------+-----------+------------------+-----------+------------------+---------+----------------+-------------+--------------------+------------+-------------------+---------+----------------+-------------+--------------------+-------------+--------------------+-----------------+------------------------+-----------+------------------+------------+-------------------+------------------+-------------------+------------------+-------------------------+-------------------+--------------------------+------------------------+-------------------------------+----------------+-----------------------+------------------------+-------------------------------+---------+----------------+------------------------+-------------------------------+\n",
      "|RayzenSama#6999|a8713cc0-c452-450...|/Game/Maps/Dualit...|/Game/GameModes/B...|   bomb|Competitive|https://trackercd...|           25|       true|2023-05-18T03:51:...|       victory|2c9d57ec-4431-9c5...|   Bind|https://trackercd...|    E6: A3|  true|victory|     Fade|         2568|             42m 48s|               22|                      22|            13|                   13|              9|                     9|                    0.0|                           0.0|             5|                    5|      4736|            4,736|        14|               14|         17|                17|           6|                  6|       2938|             2,938|               3098|                     3,098|             7|                    7|             26.0|                    26.0|               6.0|                      6.0|              23.0|                     23.0|               3.0|                      3.0|                  9|                         9|                 50|                        50|                20|                       20|             51|                    51|            0|                   0|         0.0|                0.0|               3|                      3|               3|                      3|              1|                     1|            5|                   5|          1|                 1|        NaN|               NaN|     64.0|           64.0%|            0|                   0|         NaN|                NaN|        0|               0|            0|                   0|          NaN|                 NaN|              1.0|                     1.0|          1|                 1|           0|                  0|0.8235294117647058|                0.8|215.27272727272728|                      215| 133.54545454545453|                       134|       11.39240506329114|                             11|            -160|                   -160|      -7.272727272727272|                             -7|      NaN|             NaN|                     449|                            449|\n",
      "|RayzenSama#6999|ad35f083-1177-412...|/Game/Maps/Bonsai...|/Game/GameModes/B...|   bomb|Competitive|https://trackercd...|           25|       true|2023-05-18T03:14:...|        defeat|d960549e-485c-e86...|  Split|https://trackercd...|    E6: A3| false| defeat|     Raze|         1962|             32m 42s|               18|                      18|             5|                    5|             13|                    13|                    0.0|                           0.0|             6|                    6|      3335|            3,335|        10|               10|         15|                15|           4|                  4|       2073|             2,073|               2944|                     2,944|             2|                    2|             16.0|                    16.0|              11.0|                     11.0|              17.0|                     17.0|               2.0|                      2.0|                  5|                         5|                 43|                        43|                14|                       14|             46|                    46|            0|                   0|         0.0|                0.0|               2|                      2|               4|                      4|              3|                     3|            3|                   3|          3|                 3|        NaN|               NaN|     56.0|           56.0%|            0|                   0|         NaN|                NaN|        0|               0|            0|                   0|          NaN|                 NaN|              5.0|                     5.0|          0|                 0|           0|                  0|0.6666666666666666|                0.7|185.27777777777777|                      185| 115.16666666666669|                       115|       8.064516129032258|                              8|            -871|                   -871|     -48.388888888888886|                            -48|      NaN|             NaN|                      57|                             57|\n",
      "|RayzenSama#6999|f3f9571a-8e74-413...|/Game/Maps/Dualit...|/Game/GameModes/B...|   bomb|Competitive|https://trackercd...|           25|       true|2023-05-18T02:39:...|        defeat|2c9d57ec-4431-9c5...|   Bind|https://trackercd...|    E6: A3| false| defeat|     Fade|         1829|             30m 29s|               18|                      18|             5|                    5|             13|                    13|                    0.0|                           0.0|             7|                    7|      3095|            3,095|         8|                8|         16|                16|           6|                  6|       2360|             2,360|               2637|                     2,637|             3|                    3|             13.0|                    13.0|               3.0|                      3.0|              20.0|                     20.0|               2.0|                      2.0|                  3|                         3|                 44|                        44|                 7|                        7|             56|                    56|            0|                   0|         0.0|                0.0|               0|                      0|               6|                      6|              3|                     3|            2|                   2|          2|                 2|        NaN|               NaN|     56.0|           56.0%|            0|                   0|         NaN|                NaN|        0|               0|            0|                   0|          NaN|                 NaN|              3.0|                     3.0|          0|                 0|           0|                  0|               0.5|                0.5|171.94444444444446|                      172| 131.11111111111111|                       131|       5.555555555555555|                              6|            -277|                   -277|      -15.38888888888889|                            -15|      NaN|             NaN|                      85|                             85|\n",
      "|RayzenSama#6999|e8fa4f68-e04c-4a8...|  /Game/Maps/Jam/Jam|/Game/GameModes/B...|   bomb|Competitive|https://trackercd...|           25|       true|2023-05-17T19:24:...|        defeat|2fe4ed3a-450a-948...|  Lotus|https://titles.tr...|    E6: A3| false| defeat|     Raze|         2718|             45m 18s|               26|                      26|            12|                   12|             14|                    14|                    0.0|                           0.0|             1|                    1|      7372|            7,372|        25|               25|         21|                21|           3|                  3|       4394|             4,394|               3436|                     3,436|             7|                    7|             21.0|                    21.0|              18.0|                     18.0|              24.0|                     24.0|               4.0|                      4.0|                  8|                         8|                 79|                        79|                20|                       20|             55|                    55|            0|                   0|         0.0|                0.0|               6|                      6|               1|                      1|              3|                     3|            5|                   5|          5|                 5|        NaN|               NaN|     73.0|           73.0%|            0|                   0|         NaN|                NaN|        0|               0|            0|                   0|          NaN|                 NaN|              2.0|                     2.0|          0|                 0|           0|                  0|1.1904761904761905|                1.2|283.53846153846155|                      284|              169.0|                       169|       7.476635514018691|                              7|             958|                    958|       36.84615384615385|                             37|      NaN|             NaN|                     720|                            720|\n",
      "|RayzenSama#6999|5a39151b-4f99-45c...|/Game/Maps/Pitt/Pitt|/Game/GameModes/B...|   bomb|Competitive|https://trackercd...|           25|       true|2023-05-17T17:31:...|        defeat|fd267378-4d1d-484...|  Pearl|https://trackercd...|    E6: A3| false| defeat|     Raze|         2133|             35m 33s|               22|                      22|             9|                    9|             13|                    13|                    0.0|                           0.0|             9|                    9|      3488|            3,488|        13|               13|         17|                17|           5|                  5|       2235|             2,235|               2856|                     2,856|             6|                    6|             17.0|                    17.0|              10.0|                     10.0|              16.0|                     16.0|               3.0|                      3.0|                  6|                         6|                 42|                        42|                 7|                        7|             40|                    40|            1|                   1|         0.0|                0.0|               3|                      3|               2|                      2|              0|                     0|            5|                   5|          2|                 2|        NaN|               NaN|     73.0|           73.0%|            0|                   0|         NaN|                NaN|        0|               0|            0|                   0|          NaN|                 NaN|              1.0|                     1.0|          1|                 1|           0|                  0|0.7647058823529411|                0.8|158.54545454545453|                      159|  101.5909090909091|                       102|      10.909090909090908|                             11|            -621|                   -621|     -28.227272727272727|                            -28|      NaN|             NaN|                     240|                            240|\n",
      "+---------------+--------------------+--------------------+--------------------+-------+-----------+--------------------+-------------+-----------+--------------------+--------------+--------------------+-------+--------------------+----------+------+-------+---------+-------------+--------------------+-----------------+------------------------+--------------+---------------------+---------------+----------------------+-----------------------+------------------------------+--------------+---------------------+----------+-----------------+----------+-----------------+-----------+------------------+------------+-------------------+-----------+------------------+-------------------+--------------------------+--------------+---------------------+-----------------+------------------------+------------------+-------------------------+------------------+-------------------------+------------------+-------------------------+-------------------+--------------------------+-------------------+--------------------------+------------------+-------------------------+---------------+----------------------+-------------+--------------------+------------+-------------------+----------------+-----------------------+----------------+-----------------------+---------------+----------------------+-------------+--------------------+-----------+------------------+-----------+------------------+---------+----------------+-------------+--------------------+------------+-------------------+---------+----------------+-------------+--------------------+-------------+--------------------+-----------------+------------------------+-----------+------------------+------------+-------------------+------------------+-------------------+------------------+-------------------------+-------------------+--------------------------+------------------------+-------------------------------+----------------+-----------------------+------------------------+-------------------------------+---------+----------------+------------------------+-------------------------------+\n",
      "only showing top 5 rows\n",
      "\n"
     ]
    }
   ],
   "source": [
    "df_matches_summary_data = create_dataframe('s3-tcc-fia-valorant', 'valorant/raw/summary/matches/')\n",
    "df_matches_summary_data.show(5)"
   ]
  },
  {
   "attachments": {},
   "cell_type": "markdown",
   "metadata": {},
   "source": [
    "### df_match_metadata_data"
   ]
  },
  {
   "cell_type": "code",
   "execution_count": 9,
   "metadata": {},
   "outputs": [
    {
     "name": "stdout",
     "output_type": "stream",
     "text": [
      "+--------------------+--------------------+-------+-----------+--------------------+-------------+--------+--------------------+------+--------+-----------+--------------------+--------------------+-------+--------------------+\n",
      "|             matchId|          expiryDate|modeKey|   modeName|        modeImageUrl|modeMaxRounds|duration|         dateStarted|rounds|isRanked|    queueId|            seasonId|                 map|mapName|         mapImageUrl|\n",
      "+--------------------+--------------------+-------+-----------+--------------------+-------------+--------+--------------------+------+--------+-----------+--------------------+--------------------+-------+--------------------+\n",
      "|01a8725d-fed5-468...|2023-05-23T19:06:...|   bomb|Competitive|https://trackercd...|           25| 2260290|2022-06-11T03:01:...|    22|    true|competitive|3e47230a-463c-a30...|2fb9a4fd-47b8-4e7...| Breeze|https://trackercd...|\n",
      "|01d95487-8f75-47e...|2023-05-23T19:05:...|   bomb|Competitive|https://trackercd...|           25| 2760162|2022-09-24T02:56:...|    28|    true|competitive|7a85de9a-4032-61a...|fd267378-4d1d-484...|  Pearl|https://trackercd...|\n",
      "|01f95d78-c404-4c9...|2023-05-22T19:51:...|   bomb|Competitive|https://trackercd...|           25| 1635054|2022-10-21T20:09:...|    17|    true|competitive|aca29595-40e4-01f...|7eaecc1b-4337-bbf...| Ascent|https://trackercd...|\n",
      "|06b77f0e-32a3-408...|2023-05-23T19:11:...|   bomb|Competitive|https://trackercd...|           25| 2115774|2022-01-03T15:19:...|    22|    true|competitive|a16955a5-4ad0-f76...|2bee0dc9-4ffe-519...|  Haven|https://trackercd...|\n",
      "|081d7e9f-4562-4e3...|2023-05-23T19:09:...|   bomb|Competitive|https://trackercd...|           25| 2146853|2022-05-01T04:39:...|    22|    true|competitive|3e47230a-463c-a30...|2bee0dc9-4ffe-519...|  Haven|https://trackercd...|\n",
      "+--------------------+--------------------+-------+-----------+--------------------+-------------+--------+--------------------+------+--------+-----------+--------------------+--------------------+-------+--------------------+\n",
      "only showing top 5 rows\n",
      "\n"
     ]
    }
   ],
   "source": [
    "df_match_metadata_data = create_dataframe('s3-tcc-fia-valorant', 'valorant/cleaned/details/metadata/')\n",
    "df_match_metadata_data.show(5)"
   ]
  },
  {
   "attachments": {},
   "cell_type": "markdown",
   "metadata": {},
   "source": [
    "### df_round_summary_data"
   ]
  },
  {
   "cell_type": "code",
   "execution_count": 10,
   "metadata": {},
   "outputs": [
    {
     "name": "stdout",
     "output_type": "stream",
     "text": [
      "+--------------------+-----+----------------+-----------------------+----------------+-----------------------+\n",
      "|             matchId|Round|RoundresultValue|RoundresultDisplayValue|WinningteamValue|WinningteamDisplayValue|\n",
      "+--------------------+-----+----------------+-----------------------+----------------+-----------------------+\n",
      "|01a8725d-fed5-468...|    1|     Elimination|            Elimination|             Red|                    Red|\n",
      "|01a8725d-fed5-468...|    2|          Defuse|                 Defuse|            Blue|                   Blue|\n",
      "|01a8725d-fed5-468...|    3|     Elimination|            Elimination|            Blue|                   Blue|\n",
      "|01a8725d-fed5-468...|    4|        Detonate|               Detonate|             Red|                    Red|\n",
      "|01a8725d-fed5-468...|    5|     Elimination|            Elimination|             Red|                    Red|\n",
      "+--------------------+-----+----------------+-----------------------+----------------+-----------------------+\n",
      "only showing top 5 rows\n",
      "\n"
     ]
    }
   ],
   "source": [
    "df_round_summary_data = create_dataframe('s3-tcc-fia-valorant', 'valorant/cleaned/details/round_summary/')\n",
    "df_round_summary_data.show(5)"
   ]
  },
  {
   "attachments": {},
   "cell_type": "markdown",
   "metadata": {},
   "source": [
    "### df_player_summary_data"
   ]
  },
  {
   "cell_type": "code",
   "execution_count": 11,
   "metadata": {},
   "outputs": [
    {
     "name": "stdout",
     "output_type": "stream",
     "text": [
      "+--------------------+----------------------+---------+----------------+-------------+--------------------+----------+-----------------+------------------+-------------------------+------------------+-------------------------+----------+-----------------+-----------+------------------+------------+-------------------+------------------+-------------------+-----------+------------------+-------------------+--------------------------+------------------------+-------------------------------+----------------+-----------------------+----------------+-----------------------+----------------+-----------------------+----------------+-----------------------+---------------+----------------------+---------------+----------------------+-----------------+------------------------+------------------+-------------------------+------------------+-------------------------+------------------+-------------------------+-------------------------+--------------------------------+--------------------------+---------------------------------+--------------------------+---------------------------------+--------------------------+---------------------------------+-----------+------------------+------------+-------------------+---------------+----------------------+----------------+-----------------------+-----------------+---------------+-----------------------+------------------------------+------------------------+-------------------------------+---------------+----------------------+------------------+----------------------+---------+----------------+-------------+--------------------+------------------+------------------------+------------------------+-------------------------------+--------------------+------+--------------------+---------+----------+--------------------+--------------------+-----------+-------------------------+---------------------------+-------------------------------+-----------------------------------+----------------------+---------------------------------+\n",
      "|             MatchId|platformUserIdentifier|RankValue|RankDisplayValue|CurrrankValue|CurrrankDisplayValue|ScoreValue|ScoreDisplayValue|ScoreperroundValue|ScoreperroundDisplayValue|KillsperroundValue|KillsperroundDisplayValue|KillsValue|KillsDisplayValue|DeathsValue|DeathsDisplayValue|AssistsValue|AssistsDisplayValue|      KdratioValue|KdratioDisplayValue|DamageValue|DamageDisplayValue|DamageperroundValue|DamageperroundDisplayValue|DamagedeltaperroundValue|DamagedeltaperroundDisplayValue|SinglekillsValue|SinglekillsDisplayValue|DoublekillsValue|DoublekillsDisplayValue|TriplekillsValue|TriplekillsDisplayValue|QuadrakillsValue|QuadrakillsDisplayValue|PentakillsValue|PentakillsDisplayValue|MultikillsValue|MultikillsDisplayValue|GrenadecastsValue|GrenadecastsDisplayValue|Ability1CastsValue|Ability1CastsDisplayValue|Ability2CastsValue|Ability2CastsDisplayValue|UltimatecastsValue|UltimatecastsDisplayValue|GrenadecastsperroundValue|GrenadecastsperroundDisplayValue|Ability1CastsperroundValue|Ability1CastsperroundDisplayValue|Ability2CastsperroundValue|Ability2CastsperroundDisplayValue|UltimatecastsperroundValue|UltimatecastsperroundDisplayValue|PlantsValue|PlantsDisplayValue|DefusesValue|DefusesDisplayValue|FirstkillsValue|FirstkillsDisplayValue|FirstdeathsValue|FirstdeathsDisplayValue|         EsrValue|EsrDisplayValue|FirstkillsperroundValue|FirstkillsperroundDisplayValue|FirstdeathsperroundValue|FirstdeathsperroundDisplayValue|EconratingValue|EconratingDisplayValue|   HsaccuracyValue|HsaccuracyDisplayValue|KastValue|KastDisplayValue|ClutchesValue|ClutchesDisplayValue| RoundswinpctValue|RoundswinpctDisplayValue|TrnperformancescoreValue|TrnperformancescoreDisplayValue|             Partyid|Teamid|            Agentkey|Agentname|Agentcolor|       Agentimageurl|    Agentportraiturl|Countrycode|Platforminfo_Platformslug|Platforminfo_Platformuserid|Platforminfo_Platformuserhandle|Platforminfo_Platformuseridentifier|Platforminfo_Avatarurl|Platforminfo_Additionalparameters|\n",
      "+--------------------+----------------------+---------+----------------+-------------+--------------------+----------+-----------------+------------------+-------------------------+------------------+-------------------------+----------+-----------------+-----------+------------------+------------+-------------------+------------------+-------------------+-----------+------------------+-------------------+--------------------------+------------------------+-------------------------------+----------------+-----------------------+----------------+-----------------------+----------------+-----------------------+----------------+-----------------------+---------------+----------------------+---------------+----------------------+-----------------+------------------------+------------------+-------------------------+------------------+-------------------------+------------------+-------------------------+-------------------------+--------------------------------+--------------------------+---------------------------------+--------------------------+---------------------------------+--------------------------+---------------------------------+-----------+------------------+------------+-------------------+---------------+----------------------+----------------+-----------------------+-----------------+---------------+-----------------------+------------------------------+------------------------+-------------------------------+---------------+----------------------+------------------+----------------------+---------+----------------+-------------+--------------------+------------------+------------------------+------------------------+-------------------------------+--------------------+------+--------------------+---------+----------+--------------------+--------------------+-----------+-------------------------+---------------------------+-------------------------------+-----------------------------------+----------------------+---------------------------------+\n",
      "|01a8725d-fed5-468...|             noumu#yoi| Silver 2|        Silver 2|     Silver 1|            Silver 1|      5430|            5,430| 246.8181818181818|                      247|0.9090909090909092|                      0.9|        20|               20|         16|                16|           6|                  6|              1.25|                1.2|       3255|             3,255| 147.95454545454547|                     148.0|       5.727272727272728|                              6|               2|                      2|               3|                      3|               4|                      4|               0|                      0|              0|                     0|              4|                     4|              9.0|                     9.0|               9.0|                      9.0|               8.0|                      8.0|               2.0|                      2.0|       0.4090909090909091|                             0.4|        0.4090909090909091|                              0.4|        0.3636363636363636|                              0.4|        0.0909090909090909|                              0.1|          2|                 2|           1|                  1|              2|                     2|               4|                      4|33.33333333333333|          33.3%|     0.0909090909090909|                           0.1|      0.1818181818181818|                            0.2|             61|                    61| 22.58064516129032|                 22.6%|     55.0|           55.0%|            1|                   1| 59.09090909090909|                   59.1%|                     577|                            577|3608b368-652c-4a4...|  Blue|707eab51-4836-f48...|    Viper|   #1BB728|https://titles.tr...|https://trackercd...|        NaN|                     riot|                        NaN|                      noumu#yoi|                          noumu#yoi|                   NaN|                              NaN|\n",
      "|01a8725d-fed5-468...|         obedear#knoxx| Silver 3|        Silver 3|   Platinum 2|          Platinum 2|      4033|            4,033| 183.3181818181818|                      183|0.5909090909090909|                      0.6|        13|               13|         17|                17|           2|                  2|0.7647058823529411|                0.8|       2332|             2,332|              106.0|                     106.0|     -25.181818181818183|                            -25|               6|                      6|               2|                      2|               1|                      1|               0|                      0|              0|                     0|              1|                     1|              2.0|                     2.0|              15.0|                     15.0|              17.0|                     17.0|               2.0|                      2.0|       0.0909090909090909|                             0.1|        0.6818181818181818|                              0.7|        0.7727272727272727|                              0.8|        0.0909090909090909|                              0.1|          2|                 2|           0|                  0|              4|                     4|               2|                      2|66.66666666666666|          66.7%|     0.1818181818181818|                           0.2|      0.0909090909090909|                            0.1|             37|                    37|  18.6046511627907|                 18.6%|     59.0|           59.0%|            0|                   0| 59.09090909090909|                   59.1%|                     276|                            276|3608b368-652c-4a4...|  Blue|320b2a48-4d9b-a07...|     Sova|   #2688FF|https://titles.tr...|https://trackercd...|        NaN|                     riot|                        NaN|                  obedear#knoxx|                      obedear#knoxx|                   NaN|                              NaN|\n",
      "|01a8725d-fed5-468...|  Huell Babineaux#0124| Silver 1|        Silver 1|     Unranked|            Unranked|      4165|            4,165| 189.3181818181818|                      189|0.6363636363636364|                      0.6|        14|               14|         16|                16|           3|                  3|             0.875|                0.9|       2786|             2,786| 126.63636363636364|                     126.6|                     6.5|                              6|               7|                      7|               2|                      2|               1|                      1|               0|                      0|              0|                     0|              1|                     1|             13.0|                    13.0|               4.0|                      4.0|               8.0|                      8.0|               2.0|                      2.0|       0.5909090909090909|                             0.6|        0.1818181818181818|                              0.2|        0.3636363636363636|                              0.4|        0.0909090909090909|                              0.1|          1|                 1|           1|                  1|              0|                     0|               2|                      2|              0.0|           0.0%|                    0.0|                           0.0|      0.0909090909090909|                            0.1|             55|                    55|13.043478260869565|                 13.0%|     77.0|           77.0%|            0|                   0| 59.09090909090909|                   59.1%|                     676|                            676|d5a8c87b-0acf-44b...|  Blue|22697a3d-45bf-8dd...|  Chamber|   #d3564f|https://titles.tr...|https://trackercd...|        NaN|                     riot|                        NaN|           Huell Babineaux#0124|               Huell Babineaux#0124|                   NaN|                              NaN|\n",
      "|01a8725d-fed5-468...|         SeuVagem#8197| Silver 1|        Silver 1|       Gold 1|              Gold 1|      2859|            2,859|129.95454545454547|                      130|0.4090909090909091|                      0.4|         9|                9|         17|                17|           3|                  3|0.5294117647058824|                0.5|       1918|             1,918|  87.18181818181819|                      87.2|      -50.22727272727273|                            -50|               7|                      7|               1|                      1|               0|                      0|               0|                      0|              0|                     0|              0|                     0|              9.0|                     9.0|              12.0|                     12.0|               3.0|                      3.0|               2.0|                      2.0|       0.4090909090909091|                             0.4|        0.5454545454545454|                              0.5|        0.1363636363636363|                              0.1|        0.0909090909090909|                              0.1|          0|                 0|           0|                  0|              0|                     0|               2|                      2|              0.0|           0.0%|                    0.0|                           0.0|      0.0909090909090909|                            0.1|             36|                    36| 3.508771929824561|                  3.5%|     59.0|           59.0%|            0|                   0|40.909090909090914|                   40.9%|                       9|                              9|ebacdaae-d665-4d5...|   Red|1e58de9c-4950-512...|  Killjoy|   #FEC0CB|https://titles.tr...|https://trackercd...|        NaN|                     riot|                        NaN|                  SeuVagem#8197|                      SeuVagem#8197|                   NaN|                              NaN|\n",
      "|01a8725d-fed5-468...|       RayzenSama#6999| Silver 1|        Silver 1|     Bronze 3|            Bronze 3|      1942|            1,942| 88.27272727272727|                       88|0.3181818181818182|                      0.3|         7|                7|         15|                15|           2|                  2|0.4666666666666667|                0.5|       1380|             1,380|  62.72727272727273|                      62.7|      -57.59090909090909|                            -58|               3|                      3|               2|                      2|               0|                      0|               0|                      0|              0|                     0|              0|                     0|             12.0|                    12.0|              19.0|                     19.0|              16.0|                     16.0|               2.0|                      2.0|       0.5454545454545454|                             0.5|        0.8636363636363636|                              0.9|        0.7272727272727273|                              0.7|        0.0909090909090909|                              0.1|          2|                 2|           0|                  0|              0|                     0|               5|                      5|              0.0|           0.0%|                    0.0|                           0.0|      0.2272727272727272|                            0.2|             30|                    30| 5.714285714285714|                  5.7%|     68.0|           68.0%|            0|                   0|40.909090909090914|                   40.9%|                      65|                             65|c7ac08d1-8b9f-4b3...|   Red|7f94d92c-4234-0a3...|     Yoru|   #414e94|https://titles.tr...|https://trackercd...|        NaN|                     riot|                        NaN|                RayzenSama#6999|                    RayzenSama#6999|                   NaN|                              NaN|\n",
      "+--------------------+----------------------+---------+----------------+-------------+--------------------+----------+-----------------+------------------+-------------------------+------------------+-------------------------+----------+-----------------+-----------+------------------+------------+-------------------+------------------+-------------------+-----------+------------------+-------------------+--------------------------+------------------------+-------------------------------+----------------+-----------------------+----------------+-----------------------+----------------+-----------------------+----------------+-----------------------+---------------+----------------------+---------------+----------------------+-----------------+------------------------+------------------+-------------------------+------------------+-------------------------+------------------+-------------------------+-------------------------+--------------------------------+--------------------------+---------------------------------+--------------------------+---------------------------------+--------------------------+---------------------------------+-----------+------------------+------------+-------------------+---------------+----------------------+----------------+-----------------------+-----------------+---------------+-----------------------+------------------------------+------------------------+-------------------------------+---------------+----------------------+------------------+----------------------+---------+----------------+-------------+--------------------+------------------+------------------------+------------------------+-------------------------------+--------------------+------+--------------------+---------+----------+--------------------+--------------------+-----------+-------------------------+---------------------------+-------------------------------+-----------------------------------+----------------------+---------------------------------+\n",
      "only showing top 5 rows\n",
      "\n"
     ]
    }
   ],
   "source": [
    "df_player_summary_data = create_dataframe('s3-tcc-fia-valorant', 'valorant/cleaned/details/player_summary/')\n",
    "df_player_summary_data.show(5)"
   ]
  },
  {
   "attachments": {},
   "cell_type": "markdown",
   "metadata": {},
   "source": [
    "### df_player_loadout_data"
   ]
  },
  {
   "cell_type": "code",
   "execution_count": 12,
   "metadata": {},
   "outputs": [
    {
     "name": "stdout",
     "output_type": "stream",
     "text": [
      "+--------------------+----------------------+-------+------------+---------+----------------+\n",
      "|             MatchId|PlatformUserIdentifier|Loadout|    StatName|StatValue|StatDisplayValue|\n",
      "+--------------------+----------------------+-------+------------+---------+----------------+\n",
      "|01a8725d-fed5-468...|             noumu#yoi| pistol|       Kills|      0.0|               0|\n",
      "|01a8725d-fed5-468...|             noumu#yoi| pistol|      Deaths|      2.0|               2|\n",
      "|01a8725d-fed5-468...|             noumu#yoi| pistol|     Kdratio|      0.0|            0.00|\n",
      "|01a8725d-fed5-468...|             noumu#yoi| pistol|     Assists|      0.0|               0|\n",
      "|01a8725d-fed5-468...|             noumu#yoi| pistol|Roundsplayed|      2.0|               2|\n",
      "+--------------------+----------------------+-------+------------+---------+----------------+\n",
      "only showing top 5 rows\n",
      "\n"
     ]
    }
   ],
   "source": [
    "df_player_loadout_data = create_dataframe('s3-tcc-fia-valorant', 'valorant/cleaned/details/player_loadout/')\n",
    "df_player_loadout_data.show(5)"
   ]
  },
  {
   "attachments": {},
   "cell_type": "markdown",
   "metadata": {},
   "source": [
    "### df_player_round_damage_data"
   ]
  },
  {
   "cell_type": "code",
   "execution_count": 13,
   "metadata": {},
   "outputs": [
    {
     "name": "stdout",
     "output_type": "stream",
     "text": [
      "+--------------------+----------------------+------------------------------+-----+-----------+------------------+-------------+--------------------+--------------+---------------------+--------------+---------------------+\n",
      "|             MatchId|platformUserIdentifier|opponentPlatformUserIdentifier|Round|DamageValue|DamageDisplayValue|LegshotsValue|LegshotsDisplayValue|BodyshotsValue|BodyshotsDisplayValue|HeadshotsValue|HeadshotsDisplayValue|\n",
      "+--------------------+----------------------+------------------------------+-----+-----------+------------------+-------------+--------------------+--------------+---------------------+--------------+---------------------+\n",
      "|01a8725d-fed5-468...|           Brunno#9168|                     X4TO#8453|    1|       78.0|                78|          NaN|                 NaN|           NaN|                  NaN|           NaN|                  NaN|\n",
      "|01a8725d-fed5-468...|           Brunno#9168|                     X4TO#8453|    1|        NaN|               NaN|          0.0|                 0.0|           NaN|                  NaN|           NaN|                  NaN|\n",
      "|01a8725d-fed5-468...|           Brunno#9168|                     X4TO#8453|    1|        NaN|               NaN|          NaN|                 NaN|           0.0|                  0.0|           NaN|                  NaN|\n",
      "|01a8725d-fed5-468...|           Brunno#9168|                     X4TO#8453|    1|        NaN|               NaN|          NaN|                 NaN|           NaN|                  NaN|           1.0|                  1.0|\n",
      "|01a8725d-fed5-468...|       RayzenSama#6999|                   ELOII#prime|    1|       21.0|                21|          NaN|                 NaN|           NaN|                  NaN|           NaN|                  NaN|\n",
      "+--------------------+----------------------+------------------------------+-----+-----------+------------------+-------------+--------------------+--------------+---------------------+--------------+---------------------+\n",
      "only showing top 5 rows\n",
      "\n"
     ]
    }
   ],
   "source": [
    "df_player_round_damage_data = create_dataframe('s3-tcc-fia-valorant', 'valorant/cleaned/details/player_round_damage/')\n",
    "df_player_round_damage_data.show(5)"
   ]
  },
  {
   "attachments": {},
   "cell_type": "markdown",
   "metadata": {},
   "source": [
    "### df_player_round_kills_data"
   ]
  },
  {
   "cell_type": "code",
   "execution_count": 14,
   "metadata": {},
   "outputs": [
    {
     "name": "stdout",
     "output_type": "stream",
     "text": [
      "+--------------------+----------------------+------------------------------+-----+-----------+------------------+-------------------------+---------------------------+-------------------------------+-----------------------------------+----------------------+---------------------------------+---------------------------------+-----------------------------------+---------------------------------------+-------------------------------------------+------------------------------+-----------------------------------------+------------------+------------------+--------------------+--------------------------+--------------------------+-----------------------------------+--------------------+----------+--------------+--------+---------+--------------------+---+---+---+\n",
      "|             MatchId|platformUserIdentifier|opponentPlatformUserIdentifier|Round|DamageValue|DamageDisplayValue|Platforminfo_Platformslug|Platforminfo_Platformuserid|Platforminfo_Platformuserhandle|Platforminfo_Platformuseridentifier|Platforminfo_Avatarurl|Platforminfo_Additionalparameters|Opponentplatforminfo_Platformslug|Opponentplatforminfo_Platformuserid|Opponentplatforminfo_Platformuserhandle|Opponentplatforminfo_Platformuseridentifier|Opponentplatforminfo_Avatarurl|Opponentplatforminfo_Additionalparameters|Opponentlocation_X|Opponentlocation_Y|     Playerlocations|Finishingdamage_Damagetype|Finishingdamage_Damageitem|Finishingdamage_Issecondaryfiremode|      Weaponimageurl|Weaponname|Weaponcategory|Gametime|Roundtime|                   0|  1|  2|  3|\n",
      "+--------------------+----------------------+------------------------------+-----+-----------+------------------+-------------------------+---------------------------+-------------------------------+-----------------------------------+----------------------+---------------------------------+---------------------------------+-----------------------------------+---------------------------------------+-------------------------------------------+------------------------------+-----------------------------------------+------------------+------------------+--------------------+--------------------------+--------------------------+-----------------------------------+--------------------+----------+--------------+--------+---------+--------------------+---+---+---+\n",
      "|01a8725d-fed5-468...|           Brunno#9168|                     X4TO#8453|    1|        100|               100|                     riot|                        NaN|                    Brunno#9168|                        Brunno#9168|                   NaN|                              NaN|                             riot|                                NaN|                              X4TO#8453|                                  X4TO#8453|                           NaN|                                      NaN|              8994|             -5381|[{'puuid': 'nw_Cp...|                    Weapon|      29A0CFAB-485B-F5D...|                              false|https://titles.tr...|   Classic|      Sidearms|  116569|    50202|                 NaN|NaN|NaN|NaN|\n",
      "|01a8725d-fed5-468...|      Blackwilson#8380|                     noumu#yoi|    1|        104|               104|                     riot|                        NaN|               Blackwilson#8380|                   Blackwilson#8380|                   NaN|                              NaN|                             riot|                                NaN|                              noumu#yoi|                                  noumu#yoi|                           NaN|                                      NaN|              1859|              -478|[{'puuid': 'nw_Cp...|                    Weapon|      29A0CFAB-485B-F5D...|                              false|https://titles.tr...|   Classic|      Sidearms|   80846|    14479|                 NaN|NaN|NaN|NaN|\n",
      "|01a8725d-fed5-468...|      Blackwilson#8380|                 obedear#knoxx|    1|        105|               105|                     riot|                        NaN|               Blackwilson#8380|                   Blackwilson#8380|                   NaN|                              NaN|                             riot|                                NaN|                          obedear#knoxx|                              obedear#knoxx|                           NaN|                                      NaN|              5216|              1546|[{'puuid': 'nw_Cp...|                    Weapon|      1BAA85B4-4C70-128...|                              false|https://titles.tr...|     Ghost|      Sidearms|  114970|    48603|                 NaN|NaN|NaN|NaN|\n",
      "|01a8725d-fed5-468...|      Blackwilson#8380|                   ELOII#prime|    1|        111|               111|                     riot|                        NaN|               Blackwilson#8380|                   Blackwilson#8380|                   NaN|                              NaN|                             riot|                                NaN|                            ELOII#prime|                                ELOII#prime|                           NaN|                                      NaN|              8111|             -2787|[{'puuid': 'nw_Cp...|                    Weapon|      1BAA85B4-4C70-128...|                              false|https://titles.tr...|     Ghost|      Sidearms|  130344|    63977|{'platformSlug': ...|NaN|NaN|NaN|\n",
      "|01a8725d-fed5-468...|         obedear#knoxx|                 Pizza B0Y#BR1|    1|        108|               108|                     riot|                        NaN|                  obedear#knoxx|                      obedear#knoxx|                   NaN|                              NaN|                             riot|                                NaN|                          Pizza B0Y#BR1|                              Pizza B0Y#BR1|                           NaN|                                      NaN|              2893|              4434|[{'puuid': 'nw_Cp...|                    Weapon|      1BAA85B4-4C70-128...|                              false|https://titles.tr...|     Ghost|      Sidearms|  100884|    34517|                 NaN|NaN|NaN|NaN|\n",
      "+--------------------+----------------------+------------------------------+-----+-----------+------------------+-------------------------+---------------------------+-------------------------------+-----------------------------------+----------------------+---------------------------------+---------------------------------+-----------------------------------+---------------------------------------+-------------------------------------------+------------------------------+-----------------------------------------+------------------+------------------+--------------------+--------------------------+--------------------------+-----------------------------------+--------------------+----------+--------------+--------+---------+--------------------+---+---+---+\n",
      "only showing top 5 rows\n",
      "\n"
     ]
    }
   ],
   "source": [
    "df_player_round_kills_data = create_dataframe('s3-tcc-fia-valorant', 'valorant/cleaned/details/player_round_kills/')\n",
    "df_player_round_kills_data.show(5)"
   ]
  },
  {
   "attachments": {},
   "cell_type": "markdown",
   "metadata": {},
   "source": [
    "### df_player_round_data"
   ]
  },
  {
   "cell_type": "code",
   "execution_count": 15,
   "metadata": {},
   "outputs": [
    {
     "name": "stdout",
     "output_type": "stream",
     "text": [
      "+--------------------+----------------------+-----+------------------------+-----------------------+-----------------------+------------------------+----------------------+-----------------------------+---------------------------------+----------------------+-----------------------------+-----------------+----------------+----------------+-----------------+---------------+----------------------+--------------------------+---------------+----------------------+\n",
      "|             MatchId|platformUserIdentifier|Round|StatDisplayValue_Assists|StatDisplayValue_Damage|StatDisplayValue_Deaths|StatDisplayValue_Kdratio|StatDisplayValue_Kills|StatDisplayValue_Loadoutvalue|StatDisplayValue_Remainingcredits|StatDisplayValue_Score|StatDisplayValue_Spentcredits|StatValue_Assists|StatValue_Damage|StatValue_Deaths|StatValue_Kdratio|StatValue_Kills|StatValue_Loadoutvalue|StatValue_Remainingcredits|StatValue_Score|StatValue_Spentcredits|\n",
      "+--------------------+----------------------+-----+------------------------+-----------------------+-----------------------+------------------------+----------------------+-----------------------------+---------------------------------+----------------------+-----------------------------+-----------------+----------------+----------------+-----------------+---------------+----------------------+--------------------------+---------------+----------------------+\n",
      "|01a8725d-fed5-468...|      Blackwilson#8380|    1|                     0.0|                  324.0|                    0.0|                     3.0|                   3.0|                        800.0|                            200.0|                 733.0|                        600.0|              0.0|           324.0|             0.0|              3.0|            3.0|                 800.0|                     200.0|          733.0|                 600.0|\n",
      "|01a8725d-fed5-468...|      Blackwilson#8380|    2|                     0.0|                  114.0|                    1.0|                     1.0|                   1.0|                          4.8|                              0.0|                 250.0|                          4.1|              0.0|           114.0|             1.0|              1.0|            1.0|                4800.0|                       0.0|          250.0|                4100.0|\n",
      "|01a8725d-fed5-468...|      Blackwilson#8380|    3|                     0.0|                  320.0|                    1.0|                     1.0|                   1.0|                        200.0|                              2.4|                 434.0|                          0.0|              0.0|           320.0|             1.0|              1.0|            1.0|                 200.0|                    2400.0|          434.0|                   0.0|\n",
      "|01a8725d-fed5-468...|      Blackwilson#8380|    4|                     0.0|                  480.0|                    1.0|                     3.0|                   3.0|                          4.8|                            400.0|                 940.0|                          4.6|              0.0|           480.0|             1.0|              3.0|            3.0|                4800.0|                     400.0|          940.0|                4600.0|\n",
      "|01a8725d-fed5-468...|      Blackwilson#8380|    5|                     0.0|                  555.0|                    0.0|                     3.0|                   3.0|                         6.35|                            150.0|                 740.0|                         5.95|              0.0|           555.0|             0.0|              3.0|            3.0|                6350.0|                     150.0|          740.0|                5950.0|\n",
      "+--------------------+----------------------+-----+------------------------+-----------------------+-----------------------+------------------------+----------------------+-----------------------------+---------------------------------+----------------------+-----------------------------+-----------------+----------------+----------------+-----------------+---------------+----------------------+--------------------------+---------------+----------------------+\n",
      "only showing top 5 rows\n",
      "\n"
     ]
    }
   ],
   "source": [
    "df_player_round_data = create_dataframe('s3-tcc-fia-valorant', 'valorant/cleaned/details/player_round/')\n",
    "df_player_round_data.show(5)"
   ]
  },
  {
   "attachments": {},
   "cell_type": "markdown",
   "metadata": {},
   "source": [
    "### df_team_summary_data"
   ]
  },
  {
   "cell_type": "code",
   "execution_count": 16,
   "metadata": {},
   "outputs": [
    {
     "name": "stdout",
     "output_type": "stream",
     "text": [
      "+--------------------+------+------+--------------+---------------------+---------------+----------------------+----------+-----------------+----------+-----------------+-----------+------------------+------------+-------------------+-----------+------------------+\n",
      "|             matchId|teamId|hasWon|RoundswonValue|RoundswonDisplayValue|RoundslostValue|RoundslostDisplayValue|ScoreValue|ScoreDisplayValue|KillsValue|KillsDisplayValue|DeathsValue|DeathsDisplayValue|AssistsValue|AssistsDisplayValue|DamageValue|DamageDisplayValue|\n",
      "+--------------------+------+------+--------------+---------------------+---------------+----------------------+----------+-----------------+----------+-----------------+-----------+------------------+------------+-------------------+-----------+------------------+\n",
      "|01a8725d-fed5-468...|   Red| false|             9|                    9|             13|                    13|     22114|           22,114|        76|               76|         81|                81|          17|                 17|      13954|            13,954|\n",
      "|01a8725d-fed5-468...|  Blue|  true|            13|                   13|              9|                     9|     23601|           23,601|        81|               81|         76|                76|          23|                 23|      15051|            15,051|\n",
      "|01d95487-8f75-47e...|   Red| false|            14|                   14|             14|                    14|     31590|           31,590|       107|              107|        103|               103|          47|                 47|      20631|            20,631|\n",
      "|01d95487-8f75-47e...|  Blue| false|            14|                   14|             14|                    14|     29086|           29,086|       103|              103|        107|               107|          36|                 36|      18907|            18,907|\n",
      "|01f95d78-c404-4c9...|   Red| false|             4|                    4|             13|                    13|     15783|           15,783|        49|               49|         75|                75|          16|                 16|      10454|            10,454|\n",
      "+--------------------+------+------+--------------+---------------------+---------------+----------------------+----------+-----------------+----------+-----------------+-----------+------------------+------------+-------------------+-----------+------------------+\n",
      "only showing top 5 rows\n",
      "\n"
     ]
    }
   ],
   "source": [
    "df_team_summary_data = create_dataframe('s3-tcc-fia-valorant', 'valorant/cleaned/details/team_summary/')\n",
    "df_team_summary_data.show(5)"
   ]
  },
  {
   "attachments": {},
   "cell_type": "markdown",
   "metadata": {},
   "source": [
    "## Books"
   ]
  },
  {
   "attachments": {},
   "cell_type": "markdown",
   "metadata": {},
   "source": [
    "### Rename Columns"
   ]
  },
  {
   "attachments": {},
   "cell_type": "markdown",
   "metadata": {},
   "source": [
    "#### df_team_summary_data"
   ]
  },
  {
   "cell_type": "code",
   "execution_count": 17,
   "metadata": {},
   "outputs": [],
   "source": [
    "df_team_summary_data = df_team_summary_data.withColumnRenamed('RoundswonValue', 'roundsWonValue')\n",
    "df_team_summary_data = df_team_summary_data.withColumnRenamed('RoundslostValue', 'roundslostValue')\n",
    "df_team_summary_data = df_team_summary_data.withColumnRenamed('ScoreValue', 'scoreValue')\n",
    "df_team_summary_data = df_team_summary_data.withColumnRenamed('KillsValue', 'killsValue')\n",
    "df_team_summary_data = df_team_summary_data.withColumnRenamed('DeathsValue', 'deathsValue')\n",
    "df_team_summary_data = df_team_summary_data.withColumnRenamed('AssistsValue', 'assistsValue')\n",
    "df_team_summary_data = df_team_summary_data.withColumnRenamed('DamageValue', 'damageValue')"
   ]
  },
  {
   "cell_type": "code",
   "execution_count": 18,
   "metadata": {},
   "outputs": [
    {
     "data": {
      "text/plain": [
       "['matchId',\n",
       " 'teamId',\n",
       " 'hasWon',\n",
       " 'roundsWonValue',\n",
       " 'RoundswonDisplayValue',\n",
       " 'roundslostValue',\n",
       " 'RoundslostDisplayValue',\n",
       " 'scoreValue',\n",
       " 'ScoreDisplayValue',\n",
       " 'killsValue',\n",
       " 'KillsDisplayValue',\n",
       " 'deathsValue',\n",
       " 'DeathsDisplayValue',\n",
       " 'assistsValue',\n",
       " 'AssistsDisplayValue',\n",
       " 'damageValue',\n",
       " 'DamageDisplayValue']"
      ]
     },
     "execution_count": 18,
     "metadata": {},
     "output_type": "execute_result"
    }
   ],
   "source": [
    "df_team_summary_data.columns"
   ]
  },
  {
   "attachments": {},
   "cell_type": "markdown",
   "metadata": {},
   "source": [
    "#### df_player_round_data"
   ]
  },
  {
   "cell_type": "code",
   "execution_count": 19,
   "metadata": {},
   "outputs": [],
   "source": [
    "df_player_round_data = df_player_round_data.withColumnRenamed('MatchId', 'matchId')\n",
    "df_player_round_data = df_player_round_data.withColumnRenamed('Round', 'round')\n",
    "df_player_round_data = df_player_round_data.withColumnRenamed('StatValue_Assists', 'assistsValue')\n",
    "df_player_round_data = df_player_round_data.withColumnRenamed('StatValue_Damage', 'damageValue')\n",
    "df_player_round_data = df_player_round_data.withColumnRenamed('StatValue_Deaths', 'deathsValue')\n",
    "df_player_round_data = df_player_round_data.withColumnRenamed('StatValue_Deaths', 'deathsValue')\n",
    "df_player_round_data = df_player_round_data.withColumnRenamed('StatValue_Kdratio', 'kdRatio')\n",
    "df_player_round_data = df_player_round_data.withColumnRenamed('StatValue_Kills', 'killsValue')\n",
    "df_player_round_data = df_player_round_data.withColumnRenamed('StatValue_Loadoutvalue', 'loadoutValue')\n",
    "df_player_round_data = df_player_round_data.withColumnRenamed('StatValue_Remainingcredits', 'remainingCredits')\n",
    "df_player_round_data = df_player_round_data.withColumnRenamed('StatValue_Score', 'scoreValue')\n",
    "df_player_round_data = df_player_round_data.withColumnRenamed('StatValue_Spentcredits', 'spentCredits')"
   ]
  },
  {
   "cell_type": "code",
   "execution_count": 20,
   "metadata": {},
   "outputs": [
    {
     "data": {
      "text/plain": [
       "['matchId',\n",
       " 'platformUserIdentifier',\n",
       " 'round',\n",
       " 'StatDisplayValue_Assists',\n",
       " 'StatDisplayValue_Damage',\n",
       " 'StatDisplayValue_Deaths',\n",
       " 'StatDisplayValue_Kdratio',\n",
       " 'StatDisplayValue_Kills',\n",
       " 'StatDisplayValue_Loadoutvalue',\n",
       " 'StatDisplayValue_Remainingcredits',\n",
       " 'StatDisplayValue_Score',\n",
       " 'StatDisplayValue_Spentcredits',\n",
       " 'assistsValue',\n",
       " 'damageValue',\n",
       " 'deathsValue',\n",
       " 'kdRatio',\n",
       " 'killsValue',\n",
       " 'loadoutValue',\n",
       " 'remainingCredits',\n",
       " 'scoreValue',\n",
       " 'spentCredits']"
      ]
     },
     "execution_count": 20,
     "metadata": {},
     "output_type": "execute_result"
    }
   ],
   "source": [
    "df_player_round_data.columns"
   ]
  },
  {
   "attachments": {},
   "cell_type": "markdown",
   "metadata": {},
   "source": [
    "#### df_player_loadout_data"
   ]
  },
  {
   "cell_type": "code",
   "execution_count": 21,
   "metadata": {},
   "outputs": [],
   "source": [
    "df_player_loadout_data = df_player_loadout_data.withColumnRenamed('MatchId', 'matchId')\n",
    "df_player_loadout_data = df_player_loadout_data.withColumnRenamed('latformUserIdentifier', 'platformUserIdentifier')\n",
    "df_player_loadout_data = df_player_loadout_data.withColumnRenamed('Loadout', 'loadout')\n",
    "df_player_loadout_data = df_player_loadout_data.withColumnRenamed('StatName', 'statName')\n",
    "df_player_loadout_data = df_player_loadout_data.withColumnRenamed('StatValue', 'statValue')"
   ]
  },
  {
   "cell_type": "code",
   "execution_count": 22,
   "metadata": {},
   "outputs": [
    {
     "data": {
      "text/plain": [
       "['matchId',\n",
       " 'PlatformUserIdentifier',\n",
       " 'loadout',\n",
       " 'statName',\n",
       " 'statValue',\n",
       " 'StatDisplayValue']"
      ]
     },
     "execution_count": 22,
     "metadata": {},
     "output_type": "execute_result"
    }
   ],
   "source": [
    "df_player_loadout_data.columns"
   ]
  },
  {
   "attachments": {},
   "cell_type": "markdown",
   "metadata": {},
   "source": [
    "#### df_player_round_kills_data"
   ]
  },
  {
   "cell_type": "code",
   "execution_count": 23,
   "metadata": {},
   "outputs": [],
   "source": [
    "df_player_round_kills_data = df_player_round_kills_data.withColumnRenamed('MatchId', 'matchId')\n",
    "df_player_round_kills_data = df_player_round_kills_data.withColumnRenamed('Round', 'round')\n",
    "df_player_round_kills_data = df_player_round_kills_data.withColumnRenamed('DamageValue', 'damageValue')\n",
    "df_player_round_kills_data = df_player_round_kills_data.withColumnRenamed('Platforminfo_Platformslug', 'platformInfoSlug')\n",
    "df_player_round_kills_data = df_player_round_kills_data.withColumnRenamed('Platforminfo_Platformuserid', 'platformInfoUserId')\n",
    "df_player_round_kills_data = df_player_round_kills_data.withColumnRenamed('Platforminfo_Platformuserhandle', 'platformInfoUserHandle')\n",
    "df_player_round_kills_data = df_player_round_kills_data.withColumnRenamed('Platforminfo_Platformuseridentifier', 'platformInfoUserIdentifier')\n",
    "df_player_round_kills_data = df_player_round_kills_data.withColumnRenamed('Platforminfo_Avatarurl', 'avatarUrl')\n",
    "df_player_round_kills_data = df_player_round_kills_data.withColumnRenamed('Platforminfo_Additionalparameters', 'additionalParameters')\n",
    "df_player_round_kills_data = df_player_round_kills_data.withColumnRenamed('Opponentplatforminfo_Platformslug', 'opponentPlatformInfoSlug')\n",
    "df_player_round_kills_data = df_player_round_kills_data.withColumnRenamed('Opponentplatforminfo_Platformuserid', 'opponentPlatformInfoUserId')\n",
    "df_player_round_kills_data = df_player_round_kills_data.withColumnRenamed('Opponentplatforminfo_Platformuserhandle', 'opponentPlatformInfoUserHandle')\n",
    "df_player_round_kills_data = df_player_round_kills_data.withColumnRenamed('Opponentplatforminfo_Platformuseridentifier', 'opponentPlatformInfoUserIdentifier')\n",
    "df_player_round_kills_data = df_player_round_kills_data.withColumnRenamed('Opponentplatforminfo_Avatarurl', 'opponentAvatarUrl')\n",
    "df_player_round_kills_data = df_player_round_kills_data.withColumnRenamed('Opponentplatforminfo_Additionalparameters', 'opponentAdditionalParameters')\n",
    "df_player_round_kills_data = df_player_round_kills_data.withColumnRenamed('Opponentlocation_X', 'opponentLocationX')\n",
    "df_player_round_kills_data = df_player_round_kills_data.withColumnRenamed('Opponentlocation_Y', 'opponentLocationY')\n",
    "df_player_round_kills_data = df_player_round_kills_data.withColumnRenamed('Playerlocations', 'playerLocations')\n",
    "df_player_round_kills_data = df_player_round_kills_data.withColumnRenamed('Finishingdamage_Damagetype', 'finishingDamageType')\n",
    "df_player_round_kills_data = df_player_round_kills_data.withColumnRenamed('Finishingdamage_Damageitem', 'finishingDamageItem')\n",
    "df_player_round_kills_data = df_player_round_kills_data.withColumnRenamed('Finishingdamage_Issecondaryfiremode', 'finishingDamageIsSecondaryFireMode')\n",
    "df_player_round_kills_data = df_player_round_kills_data.withColumnRenamed('Weaponimageurl', 'weaponImageUrl')\n",
    "df_player_round_kills_data = df_player_round_kills_data.withColumnRenamed('Weaponname', 'weaponName')\n",
    "df_player_round_kills_data = df_player_round_kills_data.withColumnRenamed('Weaponcategory', 'weaponCategory')\n",
    "df_player_round_kills_data = df_player_round_kills_data.withColumnRenamed('Gametime', 'gameTime')\n",
    "df_player_round_kills_data = df_player_round_kills_data.withColumnRenamed('Roundtime', 'roundTime')"
   ]
  },
  {
   "cell_type": "code",
   "execution_count": 24,
   "metadata": {},
   "outputs": [
    {
     "data": {
      "text/plain": [
       "['matchId',\n",
       " 'platformUserIdentifier',\n",
       " 'opponentPlatformUserIdentifier',\n",
       " 'round',\n",
       " 'damageValue',\n",
       " 'DamageDisplayValue',\n",
       " 'platformInfoSlug',\n",
       " 'platformInfoUserId',\n",
       " 'platformInfoUserHandle',\n",
       " 'platformInfoUserIdentifier',\n",
       " 'avatarUrl',\n",
       " 'additionalParameters',\n",
       " 'opponentPlatformInfoSlug',\n",
       " 'opponentPlatformInfoUserId',\n",
       " 'opponentPlatformInfoUserHandle',\n",
       " 'opponentPlatformInfoUserIdentifier',\n",
       " 'opponentAvatarUrl',\n",
       " 'opponentAdditionalParameters',\n",
       " 'opponentLocationX',\n",
       " 'opponentLocationY',\n",
       " 'playerLocations',\n",
       " 'finishingDamageType',\n",
       " 'finishingDamageItem',\n",
       " 'finishingDamageIsSecondaryFireMode',\n",
       " 'weaponImageUrl',\n",
       " 'weaponName',\n",
       " 'weaponCategory',\n",
       " 'gameTime',\n",
       " 'roundTime',\n",
       " '0',\n",
       " '1',\n",
       " '2',\n",
       " '3']"
      ]
     },
     "execution_count": 24,
     "metadata": {},
     "output_type": "execute_result"
    }
   ],
   "source": [
    "df_player_round_kills_data.columns"
   ]
  },
  {
   "attachments": {},
   "cell_type": "markdown",
   "metadata": {},
   "source": [
    "#### df_player_round_damage_data"
   ]
  },
  {
   "cell_type": "code",
   "execution_count": 25,
   "metadata": {},
   "outputs": [],
   "source": [
    "df_player_round_damage_data = df_player_round_damage_data.withColumnRenamed('MatchId', 'matchId')\n",
    "df_player_round_damage_data = df_player_round_damage_data.withColumnRenamed('Round', 'round')\n",
    "df_player_round_damage_data = df_player_round_damage_data.withColumnRenamed('DamageValue', 'damageValue')\n",
    "df_player_round_damage_data = df_player_round_damage_data.withColumnRenamed('LegshotsValue', 'legShotsValue')\n",
    "df_player_round_damage_data = df_player_round_damage_data.withColumnRenamed('BodyshotsValue', 'bodyShotsValue')\n",
    "df_player_round_damage_data = df_player_round_damage_data.withColumnRenamed('HeadshotsValue', 'headShotsValue')\n",
    "df_player_round_damage_data = df_player_round_damage_data.withColumnRenamed('HeadshotsValue', 'headShotsValue')"
   ]
  },
  {
   "cell_type": "code",
   "execution_count": 26,
   "metadata": {},
   "outputs": [
    {
     "data": {
      "text/plain": [
       "['matchId',\n",
       " 'platformUserIdentifier',\n",
       " 'opponentPlatformUserIdentifier',\n",
       " 'round',\n",
       " 'damageValue',\n",
       " 'DamageDisplayValue',\n",
       " 'legShotsValue',\n",
       " 'LegshotsDisplayValue',\n",
       " 'bodyShotsValue',\n",
       " 'BodyshotsDisplayValue',\n",
       " 'headShotsValue',\n",
       " 'HeadshotsDisplayValue']"
      ]
     },
     "execution_count": 26,
     "metadata": {},
     "output_type": "execute_result"
    }
   ],
   "source": [
    "df_player_round_damage_data.columns"
   ]
  },
  {
   "attachments": {},
   "cell_type": "markdown",
   "metadata": {},
   "source": [
    "#### df_round_summary_data"
   ]
  },
  {
   "cell_type": "code",
   "execution_count": 27,
   "metadata": {},
   "outputs": [],
   "source": [
    "df_round_summary_data = df_round_summary_data.withColumnRenamed('Round', 'round')\n",
    "df_round_summary_data = df_round_summary_data.withColumnRenamed('RoundresultValue', 'roundResultValue')\n",
    "df_round_summary_data = df_round_summary_data.withColumnRenamed('WinningteamValue', 'winningTeamValue')"
   ]
  },
  {
   "cell_type": "code",
   "execution_count": 28,
   "metadata": {},
   "outputs": [
    {
     "data": {
      "text/plain": [
       "['matchId',\n",
       " 'round',\n",
       " 'roundResultValue',\n",
       " 'RoundresultDisplayValue',\n",
       " 'winningTeamValue',\n",
       " 'WinningteamDisplayValue']"
      ]
     },
     "execution_count": 28,
     "metadata": {},
     "output_type": "execute_result"
    }
   ],
   "source": [
    "df_round_summary_data.columns"
   ]
  },
  {
   "attachments": {},
   "cell_type": "markdown",
   "metadata": {},
   "source": [
    "#### df_player_summary_data"
   ]
  },
  {
   "cell_type": "code",
   "execution_count": 29,
   "metadata": {},
   "outputs": [],
   "source": [
    "df_player_summary_data = df_player_summary_data.withColumnRenamed('MatchId', 'matchId')\n",
    "df_player_summary_data = df_player_summary_data.withColumnRenamed('RankValue', 'rankValue')\n",
    "df_player_summary_data = df_player_summary_data.withColumnRenamed('CurrrankValue', 'currRankValue')\n",
    "df_player_summary_data = df_player_summary_data.withColumnRenamed('ScoreValue', 'scoreValue')\n",
    "df_player_summary_data = df_player_summary_data.withColumnRenamed('ScoreperroundValue', 'scorePerRoundValue')\n",
    "df_player_summary_data = df_player_summary_data.withColumnRenamed('KillsperroundValue', 'killsPerRoundValue')\n",
    "df_player_summary_data = df_player_summary_data.withColumnRenamed('KillsValue', 'killsValue')\n",
    "df_player_summary_data = df_player_summary_data.withColumnRenamed('DeathsValue', 'deathsValue')\n",
    "df_player_summary_data = df_player_summary_data.withColumnRenamed('AssistsValue', 'assistsValue')\n",
    "df_player_summary_data = df_player_summary_data.withColumnRenamed('KdratioValue', 'kdRatioValue')\n",
    "df_player_summary_data = df_player_summary_data.withColumnRenamed('DamageValue', 'damageValue')\n",
    "df_player_summary_data = df_player_summary_data.withColumnRenamed('DamageperroundValue', 'damagePerRoundValue')\n",
    "df_player_summary_data = df_player_summary_data.withColumnRenamed('DamagedeltaperroundValue', 'damageDeltaPerRoundValue')\n",
    "df_player_summary_data = df_player_summary_data.withColumnRenamed('SinglekillsValue', 'singleKillsValue')\n",
    "df_player_summary_data = df_player_summary_data.withColumnRenamed('DoublekillsValue', 'doubleKillsValue')\n",
    "df_player_summary_data = df_player_summary_data.withColumnRenamed('TriplekillsValue', 'tripleKillsValue')\n",
    "df_player_summary_data = df_player_summary_data.withColumnRenamed('QuadrakillsValue', 'quadraKillsValue')\n",
    "df_player_summary_data = df_player_summary_data.withColumnRenamed('PentakillsValue', 'pentaKillsValue')\n",
    "df_player_summary_data = df_player_summary_data.withColumnRenamed('MultikillsValue', 'multiKillsValue')\n",
    "df_player_summary_data = df_player_summary_data.withColumnRenamed('GrenadecastsValue', 'grenadeCastsValue')\n",
    "df_player_summary_data = df_player_summary_data.withColumnRenamed('Ability1CastsValue', 'ability1CastsValue')\n",
    "df_player_summary_data = df_player_summary_data.withColumnRenamed('Ability2CastsValue', 'ability2CastsValue')\n",
    "df_player_summary_data = df_player_summary_data.withColumnRenamed('UltimatecastsValue', 'ultimateCastsValue')\n",
    "df_player_summary_data = df_player_summary_data.withColumnRenamed('GrenadecastsperroundValue', 'grenadeCastsPerRoundValue')\n",
    "df_player_summary_data = df_player_summary_data.withColumnRenamed('Ability1CastsperroundValue', 'ability1CastsPerRoundValue')\n",
    "df_player_summary_data = df_player_summary_data.withColumnRenamed('Ability2CastsperroundValue', 'ability2CastsPerRoundValue')\n",
    "df_player_summary_data = df_player_summary_data.withColumnRenamed('UltimatecastsperroundValue', 'ultimateCastsPerRoundValue')\n",
    "df_player_summary_data = df_player_summary_data.withColumnRenamed('PlantsValue', 'plantsValue')\n",
    "df_player_summary_data = df_player_summary_data.withColumnRenamed('DefusesValue', 'defusesValue')\n",
    "df_player_summary_data = df_player_summary_data.withColumnRenamed('FirstkillsValue', 'firstKillsValue')\n",
    "df_player_summary_data = df_player_summary_data.withColumnRenamed('FirstdeathsValue', 'firstDeathsValue')\n",
    "df_player_summary_data = df_player_summary_data.withColumnRenamed('EsrValue', 'esrValue')\n",
    "df_player_summary_data = df_player_summary_data.withColumnRenamed('FirstkillsperroundValue', 'firstKillsPerRoundValue')\n",
    "df_player_summary_data = df_player_summary_data.withColumnRenamed('FirstdeathsperroundValue', 'firstDeathsPerRoundValue')\n",
    "df_player_summary_data = df_player_summary_data.withColumnRenamed('EconratingValue', 'econRatingValue')\n",
    "df_player_summary_data = df_player_summary_data.withColumnRenamed('HsaccuracyValue', 'hsAccuracyValue')\n",
    "df_player_summary_data = df_player_summary_data.withColumnRenamed('KastValue', 'KastValue')\n",
    "df_player_summary_data = df_player_summary_data.withColumnRenamed('ClutchesValue', 'clutchesValue')\n",
    "df_player_summary_data = df_player_summary_data.withColumnRenamed('RoundswinpctValue', 'roundsWinPctValue')\n",
    "df_player_summary_data = df_player_summary_data.withColumnRenamed('TrnperformancescoreValue', 'trnPerformanceScoreValue')\n",
    "df_player_summary_data = df_player_summary_data.withColumnRenamed('Partyid', 'partyId')\n",
    "df_player_summary_data = df_player_summary_data.withColumnRenamed('Teamid', 'teamId')\n",
    "df_player_summary_data = df_player_summary_data.withColumnRenamed('Agentkey', 'agentKey')\n",
    "df_player_summary_data = df_player_summary_data.withColumnRenamed('Agentname', 'agentName')\n",
    "df_player_summary_data = df_player_summary_data.withColumnRenamed('Agentcolor', 'agentColor')\n",
    "df_player_summary_data = df_player_summary_data.withColumnRenamed('Agentimageurl', 'agentImageUrl')\n",
    "df_player_summary_data = df_player_summary_data.withColumnRenamed('Agentportraiturl', 'agentPortraitUrl')\n",
    "df_player_summary_data = df_player_summary_data.withColumnRenamed('Countrycode', 'countryCode')\n",
    "df_player_summary_data = df_player_summary_data.withColumnRenamed('Platforminfo_Platformslug', 'platformInfoSlug')\n",
    "df_player_summary_data = df_player_summary_data.withColumnRenamed('Platforminfo_Platformuserid', 'PlatformInfoUserId')\n",
    "df_player_summary_data = df_player_summary_data.withColumnRenamed('Platforminfo_Platformuserhandle', 'platformInfoUserHandle')\n",
    "df_player_summary_data = df_player_summary_data.withColumnRenamed('Platforminfo_Avatarurl', 'avatarUrl')\n",
    "df_player_summary_data = df_player_summary_data.withColumnRenamed('Platforminfo_Additionalparameters', 'additionalInfoParameters')"
   ]
  },
  {
   "cell_type": "code",
   "execution_count": 30,
   "metadata": {},
   "outputs": [
    {
     "data": {
      "text/plain": [
       "['matchId',\n",
       " 'platformUserIdentifier',\n",
       " 'rankValue',\n",
       " 'RankDisplayValue',\n",
       " 'currRankValue',\n",
       " 'CurrrankDisplayValue',\n",
       " 'scoreValue',\n",
       " 'ScoreDisplayValue',\n",
       " 'scorePerRoundValue',\n",
       " 'ScoreperroundDisplayValue',\n",
       " 'killsPerRoundValue',\n",
       " 'KillsperroundDisplayValue',\n",
       " 'killsValue',\n",
       " 'KillsDisplayValue',\n",
       " 'deathsValue',\n",
       " 'DeathsDisplayValue',\n",
       " 'assistsValue',\n",
       " 'AssistsDisplayValue',\n",
       " 'kdRatioValue',\n",
       " 'KdratioDisplayValue',\n",
       " 'damageValue',\n",
       " 'DamageDisplayValue',\n",
       " 'damagePerRoundValue',\n",
       " 'DamageperroundDisplayValue',\n",
       " 'damageDeltaPerRoundValue',\n",
       " 'DamagedeltaperroundDisplayValue',\n",
       " 'singleKillsValue',\n",
       " 'SinglekillsDisplayValue',\n",
       " 'doubleKillsValue',\n",
       " 'DoublekillsDisplayValue',\n",
       " 'tripleKillsValue',\n",
       " 'TriplekillsDisplayValue',\n",
       " 'quadraKillsValue',\n",
       " 'QuadrakillsDisplayValue',\n",
       " 'pentaKillsValue',\n",
       " 'PentakillsDisplayValue',\n",
       " 'multiKillsValue',\n",
       " 'MultikillsDisplayValue',\n",
       " 'grenadeCastsValue',\n",
       " 'GrenadecastsDisplayValue',\n",
       " 'ability1CastsValue',\n",
       " 'Ability1CastsDisplayValue',\n",
       " 'ability2CastsValue',\n",
       " 'Ability2CastsDisplayValue',\n",
       " 'ultimateCastsValue',\n",
       " 'UltimatecastsDisplayValue',\n",
       " 'grenadeCastsPerRoundValue',\n",
       " 'GrenadecastsperroundDisplayValue',\n",
       " 'ability1CastsPerRoundValue',\n",
       " 'Ability1CastsperroundDisplayValue',\n",
       " 'ability2CastsPerRoundValue',\n",
       " 'Ability2CastsperroundDisplayValue',\n",
       " 'ultimateCastsPerRoundValue',\n",
       " 'UltimatecastsperroundDisplayValue',\n",
       " 'plantsValue',\n",
       " 'PlantsDisplayValue',\n",
       " 'defusesValue',\n",
       " 'DefusesDisplayValue',\n",
       " 'firstKillsValue',\n",
       " 'FirstkillsDisplayValue',\n",
       " 'firstDeathsValue',\n",
       " 'FirstdeathsDisplayValue',\n",
       " 'esrValue',\n",
       " 'EsrDisplayValue',\n",
       " 'firstKillsPerRoundValue',\n",
       " 'FirstkillsperroundDisplayValue',\n",
       " 'firstDeathsPerRoundValue',\n",
       " 'FirstdeathsperroundDisplayValue',\n",
       " 'econRatingValue',\n",
       " 'EconratingDisplayValue',\n",
       " 'hsAccuracyValue',\n",
       " 'HsaccuracyDisplayValue',\n",
       " 'KastValue',\n",
       " 'KastDisplayValue',\n",
       " 'clutchesValue',\n",
       " 'ClutchesDisplayValue',\n",
       " 'roundsWinPctValue',\n",
       " 'RoundswinpctDisplayValue',\n",
       " 'trnPerformanceScoreValue',\n",
       " 'TrnperformancescoreDisplayValue',\n",
       " 'partyId',\n",
       " 'teamId',\n",
       " 'agentKey',\n",
       " 'agentName',\n",
       " 'agentColor',\n",
       " 'agentImageUrl',\n",
       " 'agentPortraitUrl',\n",
       " 'countryCode',\n",
       " 'platformInfoSlug',\n",
       " 'PlatformInfoUserId',\n",
       " 'platformInfoUserHandle',\n",
       " 'Platforminfo_Platformuseridentifier',\n",
       " 'avatarUrl',\n",
       " 'additionalInfoParameters']"
      ]
     },
     "execution_count": 30,
     "metadata": {},
     "output_type": "execute_result"
    }
   ],
   "source": [
    "df_player_summary_data.columns"
   ]
  },
  {
   "attachments": {},
   "cell_type": "markdown",
   "metadata": {},
   "source": [
    "### Matches Summary"
   ]
  },
  {
   "cell_type": "code",
   "execution_count": 31,
   "metadata": {},
   "outputs": [],
   "source": [
    "df_matches_summary_book = (\n",
    "    df_matches_summary_data\n",
    "    .select(\n",
    "        'userId', 'matchId', 'agentName', 'modeKey', 'modeName', 'modeMaxRounds', 'isAvailable',\n",
    "        'timestamp', 'metadataResult', 'hasWon', 'result', 'mapName', 'seasonName', 'playtimeValue',\n",
    "        'roundsPlayedValue', 'roundsWonValue', 'roundsLostValue', 'roundsDisconnectedValue',\n",
    "        'placementValue', 'scoreValue', 'killsValue', 'deathsValue', 'assistsValue', 'damageValue',\n",
    "        'damageReceivedValue', 'headshotsValue', 'grenadeCastsValue', 'ability1CastsValue',\n",
    "        'ability2CastsValue', 'ultimateCastsValue', 'dealtHeadshotsValue', 'dealtBodyshotsValue',\n",
    "        'dealtLegshotsValue', 'econRatingValue', 'suicidesValue', 'revivedValue', 'firstBloodsValue',\n",
    "        'firstDeathsValue', 'lastDeathsValue', 'survivedValue', 'tradedValue', 'kastedValue', 'kASTValue',\n",
    "        'flawlessValue', 'thriftyValue', 'acesValue', 'teamAcesValue', 'clutchesValue', 'clutchesLostValue',\n",
    "        'plantsValue', 'defusesValue', 'kdRatioValue', 'scorePerRoundValue', 'damagePerRoundValue',\n",
    "        'headshotsPercentageValue',  'damageDeltaValue', 'damageDeltaPerRoundValue', 'rankValue',\n",
    "        'trnPerformanceScoreValue',\n",
    "        )\n",
    ")"
   ]
  },
  {
   "cell_type": "code",
   "execution_count": 32,
   "metadata": {},
   "outputs": [
    {
     "name": "stdout",
     "output_type": "stream",
     "text": [
      "+---------------+--------------------+---------+-------+-----------+-------------+-----------+--------------------+--------------+------+-------+-------+----------+-------------+-----------------+--------------+---------------+-----------------------+--------------+----------+----------+-----------+------------+-----------+-------------------+--------------+-----------------+------------------+------------------+------------------+-------------------+-------------------+------------------+---------------+-------------+------------+----------------+----------------+---------------+-------------+-----------+-----------+---------+-------------+------------+---------+-------------+-------------+-----------------+-----------+------------+------------------+------------------+-------------------+------------------------+----------------+------------------------+---------+------------------------+\n",
      "|         userId|             matchId|agentName|modeKey|   modeName|modeMaxRounds|isAvailable|           timestamp|metadataResult|hasWon| result|mapName|seasonName|playtimeValue|roundsPlayedValue|roundsWonValue|roundsLostValue|roundsDisconnectedValue|placementValue|scoreValue|killsValue|deathsValue|assistsValue|damageValue|damageReceivedValue|headshotsValue|grenadeCastsValue|ability1CastsValue|ability2CastsValue|ultimateCastsValue|dealtHeadshotsValue|dealtBodyshotsValue|dealtLegshotsValue|econRatingValue|suicidesValue|revivedValue|firstBloodsValue|firstDeathsValue|lastDeathsValue|survivedValue|tradedValue|kastedValue|kASTValue|flawlessValue|thriftyValue|acesValue|teamAcesValue|clutchesValue|clutchesLostValue|plantsValue|defusesValue|      kdRatioValue|scorePerRoundValue|damagePerRoundValue|headshotsPercentageValue|damageDeltaValue|damageDeltaPerRoundValue|rankValue|trnPerformanceScoreValue|\n",
      "+---------------+--------------------+---------+-------+-----------+-------------+-----------+--------------------+--------------+------+-------+-------+----------+-------------+-----------------+--------------+---------------+-----------------------+--------------+----------+----------+-----------+------------+-----------+-------------------+--------------+-----------------+------------------+------------------+------------------+-------------------+-------------------+------------------+---------------+-------------+------------+----------------+----------------+---------------+-------------+-----------+-----------+---------+-------------+------------+---------+-------------+-------------+-----------------+-----------+------------+------------------+------------------+-------------------+------------------------+----------------+------------------------+---------+------------------------+\n",
      "|RayzenSama#6999|a8713cc0-c452-450...|     Fade|   bomb|Competitive|           25|       true|2023-05-18T03:51:...|       victory|  true|victory|   Bind|    E6: A3|         2568|               22|            13|              9|                    0.0|             5|      4736|        14|         17|           6|       2938|               3098|             7|             26.0|               6.0|              23.0|               3.0|                  9|                 50|                20|             51|            0|         0.0|               3|               3|              1|            5|          1|        NaN|     64.0|            0|         NaN|        0|            0|          NaN|              1.0|          1|           0|0.8235294117647058|215.27272727272728| 133.54545454545453|       11.39240506329114|            -160|      -7.272727272727272|      NaN|                     449|\n",
      "|RayzenSama#6999|ad35f083-1177-412...|     Raze|   bomb|Competitive|           25|       true|2023-05-18T03:14:...|        defeat| false| defeat|  Split|    E6: A3|         1962|               18|             5|             13|                    0.0|             6|      3335|        10|         15|           4|       2073|               2944|             2|             16.0|              11.0|              17.0|               2.0|                  5|                 43|                14|             46|            0|         0.0|               2|               4|              3|            3|          3|        NaN|     56.0|            0|         NaN|        0|            0|          NaN|              5.0|          0|           0|0.6666666666666666|185.27777777777777| 115.16666666666669|       8.064516129032258|            -871|     -48.388888888888886|      NaN|                      57|\n",
      "+---------------+--------------------+---------+-------+-----------+-------------+-----------+--------------------+--------------+------+-------+-------+----------+-------------+-----------------+--------------+---------------+-----------------------+--------------+----------+----------+-----------+------------+-----------+-------------------+--------------+-----------------+------------------+------------------+------------------+-------------------+-------------------+------------------+---------------+-------------+------------+----------------+----------------+---------------+-------------+-----------+-----------+---------+-------------+------------+---------+-------------+-------------+-----------------+-----------+------------+------------------+------------------+-------------------+------------------------+----------------+------------------------+---------+------------------------+\n",
      "only showing top 2 rows\n",
      "\n"
     ]
    }
   ],
   "source": [
    "df_matches_summary_book.show(2)"
   ]
  },
  {
   "attachments": {},
   "cell_type": "markdown",
   "metadata": {},
   "source": [
    "### Match Metadata"
   ]
  },
  {
   "cell_type": "code",
   "execution_count": 33,
   "metadata": {},
   "outputs": [],
   "source": [
    "df_match_metadata_book = (\n",
    "    df_match_metadata_data\n",
    "    .select(\n",
    "        'matchId', 'expiryDate', 'modeKey',\n",
    "        'modeName', 'modeMaxRounds', 'duration',\n",
    "        'dateStarted', 'rounds', 'isRanked',\n",
    "        'queueId', 'mapName', \n",
    "    )\n",
    ")"
   ]
  },
  {
   "cell_type": "code",
   "execution_count": 34,
   "metadata": {},
   "outputs": [
    {
     "name": "stdout",
     "output_type": "stream",
     "text": [
      "+--------------------+--------------------+-------+-----------+-------------+--------+--------------------+------+--------+-----------+-------+\n",
      "|             matchId|          expiryDate|modeKey|   modeName|modeMaxRounds|duration|         dateStarted|rounds|isRanked|    queueId|mapName|\n",
      "+--------------------+--------------------+-------+-----------+-------------+--------+--------------------+------+--------+-----------+-------+\n",
      "|01a8725d-fed5-468...|2023-05-23T19:06:...|   bomb|Competitive|           25| 2260290|2022-06-11T03:01:...|    22|    true|competitive| Breeze|\n",
      "|01d95487-8f75-47e...|2023-05-23T19:05:...|   bomb|Competitive|           25| 2760162|2022-09-24T02:56:...|    28|    true|competitive|  Pearl|\n",
      "+--------------------+--------------------+-------+-----------+-------------+--------+--------------------+------+--------+-----------+-------+\n",
      "only showing top 2 rows\n",
      "\n"
     ]
    }
   ],
   "source": [
    "df_match_metadata_book.show(2)"
   ]
  },
  {
   "attachments": {},
   "cell_type": "markdown",
   "metadata": {},
   "source": [
    "### Round Summary"
   ]
  },
  {
   "cell_type": "code",
   "execution_count": 35,
   "metadata": {},
   "outputs": [],
   "source": [
    "df_round_summary_book = (\n",
    "    df_round_summary_data\n",
    "    .select(\n",
    "        'matchId', 'round', 'roundResultValue', 'winningTeamValue', \n",
    "    )\n",
    ")"
   ]
  },
  {
   "cell_type": "code",
   "execution_count": 36,
   "metadata": {},
   "outputs": [
    {
     "name": "stdout",
     "output_type": "stream",
     "text": [
      "+--------------------+-----+----------------+----------------+\n",
      "|             matchId|round|roundResultValue|winningTeamValue|\n",
      "+--------------------+-----+----------------+----------------+\n",
      "|01a8725d-fed5-468...|    1|     Elimination|             Red|\n",
      "|01a8725d-fed5-468...|    2|          Defuse|            Blue|\n",
      "+--------------------+-----+----------------+----------------+\n",
      "only showing top 2 rows\n",
      "\n"
     ]
    }
   ],
   "source": [
    "df_round_summary_book.show(2)"
   ]
  },
  {
   "attachments": {},
   "cell_type": "markdown",
   "metadata": {},
   "source": [
    "### Player Summary"
   ]
  },
  {
   "cell_type": "code",
   "execution_count": 37,
   "metadata": {},
   "outputs": [],
   "source": [
    "df_player_summary_book = (\n",
    "    df_player_summary_data\n",
    "    .select(\n",
    "        'matchId', 'platformUserIdentifier', 'rankValue', 'currRankValue',\n",
    "        'scoreValue', 'scorePerRoundValue', 'killsPerRoundValue', 'killsValue',\n",
    "        'deathsValue', 'assistsValue', 'kdRatioValue', 'damageValue', 'damagePerRoundValue',\n",
    "        'damageDeltaPerRoundValue', 'singleKillsValue', 'doubleKillsValue', 'tripleKillsValue',\n",
    "        'quadraKillsValue', 'pentaKillsValue', 'multiKillsValue', 'grenadeCastsValue', 'ability1CastsValue',\n",
    "        'ability2CastsValue', 'ultimateCastsValue', 'grenadeCastsPerRoundValue', 'ability1CastsPerRoundValue',\n",
    "        'ability2CastsPerRoundValue', 'ultimateCastsPerRoundValue', 'plantsValue', 'defusesValue', 'firstKillsValue',\n",
    "        'firstDeathsValue', 'esrValue', 'firstKillsPerRoundValue', 'firstDeathsPerRoundValue', 'econRatingValue',\n",
    "        'hsAccuracyValue', 'KastValue', 'clutchesValue', 'roundsWinPctValue', 'trnPerformanceScoreValue', 'partyId',\n",
    "        'teamId', 'agentName'\n",
    "    )\n",
    ")\n"
   ]
  },
  {
   "cell_type": "code",
   "execution_count": 38,
   "metadata": {},
   "outputs": [
    {
     "name": "stdout",
     "output_type": "stream",
     "text": [
      "+--------------------+----------------------+---------+-------------+----------+------------------+------------------+----------+-----------+------------+------------------+-----------+-------------------+------------------------+----------------+----------------+----------------+----------------+---------------+---------------+-----------------+------------------+------------------+------------------+-------------------------+--------------------------+--------------------------+--------------------------+-----------+------------+---------------+----------------+-----------------+-----------------------+------------------------+---------------+-----------------+---------+-------------+-----------------+------------------------+--------------------+------+---------+\n",
      "|             matchId|platformUserIdentifier|rankValue|currRankValue|scoreValue|scorePerRoundValue|killsPerRoundValue|killsValue|deathsValue|assistsValue|      kdRatioValue|damageValue|damagePerRoundValue|damageDeltaPerRoundValue|singleKillsValue|doubleKillsValue|tripleKillsValue|quadraKillsValue|pentaKillsValue|multiKillsValue|grenadeCastsValue|ability1CastsValue|ability2CastsValue|ultimateCastsValue|grenadeCastsPerRoundValue|ability1CastsPerRoundValue|ability2CastsPerRoundValue|ultimateCastsPerRoundValue|plantsValue|defusesValue|firstKillsValue|firstDeathsValue|         esrValue|firstKillsPerRoundValue|firstDeathsPerRoundValue|econRatingValue|  hsAccuracyValue|KastValue|clutchesValue|roundsWinPctValue|trnPerformanceScoreValue|             partyId|teamId|agentName|\n",
      "+--------------------+----------------------+---------+-------------+----------+------------------+------------------+----------+-----------+------------+------------------+-----------+-------------------+------------------------+----------------+----------------+----------------+----------------+---------------+---------------+-----------------+------------------+------------------+------------------+-------------------------+--------------------------+--------------------------+--------------------------+-----------+------------+---------------+----------------+-----------------+-----------------------+------------------------+---------------+-----------------+---------+-------------+-----------------+------------------------+--------------------+------+---------+\n",
      "|01a8725d-fed5-468...|             noumu#yoi| Silver 2|     Silver 1|      5430| 246.8181818181818|0.9090909090909092|        20|         16|           6|              1.25|       3255| 147.95454545454547|       5.727272727272728|               2|               3|               4|               0|              0|              4|              9.0|               9.0|               8.0|               2.0|       0.4090909090909091|        0.4090909090909091|        0.3636363636363636|        0.0909090909090909|          2|           1|              2|               4|33.33333333333333|     0.0909090909090909|      0.1818181818181818|             61|22.58064516129032|     55.0|            1|59.09090909090909|                     577|3608b368-652c-4a4...|  Blue|    Viper|\n",
      "|01a8725d-fed5-468...|         obedear#knoxx| Silver 3|   Platinum 2|      4033| 183.3181818181818|0.5909090909090909|        13|         17|           2|0.7647058823529411|       2332|              106.0|     -25.181818181818183|               6|               2|               1|               0|              0|              1|              2.0|              15.0|              17.0|               2.0|       0.0909090909090909|        0.6818181818181818|        0.7727272727272727|        0.0909090909090909|          2|           0|              4|               2|66.66666666666666|     0.1818181818181818|      0.0909090909090909|             37| 18.6046511627907|     59.0|            0|59.09090909090909|                     276|3608b368-652c-4a4...|  Blue|     Sova|\n",
      "+--------------------+----------------------+---------+-------------+----------+------------------+------------------+----------+-----------+------------+------------------+-----------+-------------------+------------------------+----------------+----------------+----------------+----------------+---------------+---------------+-----------------+------------------+------------------+------------------+-------------------------+--------------------------+--------------------------+--------------------------+-----------+------------+---------------+----------------+-----------------+-----------------------+------------------------+---------------+-----------------+---------+-------------+-----------------+------------------------+--------------------+------+---------+\n",
      "only showing top 2 rows\n",
      "\n"
     ]
    }
   ],
   "source": [
    "df_player_summary_book.show(2)"
   ]
  },
  {
   "attachments": {},
   "cell_type": "markdown",
   "metadata": {},
   "source": [
    "### Player Loadout"
   ]
  },
  {
   "cell_type": "code",
   "execution_count": 39,
   "metadata": {},
   "outputs": [],
   "source": [
    "df_player_loadout_book = (\n",
    "    df_player_loadout_data\n",
    "    .select(\n",
    "        'matchId', 'PlatformUserIdentifier', 'loadout',\n",
    "        'statName', 'statValue'\n",
    "    )\n",
    ")"
   ]
  },
  {
   "cell_type": "code",
   "execution_count": 40,
   "metadata": {},
   "outputs": [
    {
     "name": "stdout",
     "output_type": "stream",
     "text": [
      "+--------------------+----------------------+-------+------------+---------+\n",
      "|             matchId|PlatformUserIdentifier|loadout|    statName|statValue|\n",
      "+--------------------+----------------------+-------+------------+---------+\n",
      "|01a8725d-fed5-468...|             noumu#yoi| pistol|       Kills|      0.0|\n",
      "|01a8725d-fed5-468...|             noumu#yoi| pistol|      Deaths|      2.0|\n",
      "|01a8725d-fed5-468...|             noumu#yoi| pistol|     Kdratio|      0.0|\n",
      "|01a8725d-fed5-468...|             noumu#yoi| pistol|     Assists|      0.0|\n",
      "|01a8725d-fed5-468...|             noumu#yoi| pistol|Roundsplayed|      2.0|\n",
      "+--------------------+----------------------+-------+------------+---------+\n",
      "only showing top 5 rows\n",
      "\n"
     ]
    }
   ],
   "source": [
    "df_player_loadout_book.show(5)"
   ]
  },
  {
   "attachments": {},
   "cell_type": "markdown",
   "metadata": {},
   "source": [
    "### Player Round Damage"
   ]
  },
  {
   "cell_type": "code",
   "execution_count": 41,
   "metadata": {},
   "outputs": [],
   "source": [
    "df_player_round_damage_book = (\n",
    "    df_player_round_damage_data\n",
    "    .select(\n",
    "        'matchId', 'platformUserIdentifier', 'opponentPlatformUserIdentifier', 'round',\n",
    "        'damageValue', 'legShotsValue', 'bodyShotsValue', \n",
    "    )\n",
    ")"
   ]
  },
  {
   "cell_type": "code",
   "execution_count": 42,
   "metadata": {},
   "outputs": [
    {
     "name": "stdout",
     "output_type": "stream",
     "text": [
      "+--------------------+----------------------+------------------------------+-----+-----------+-------------+--------------+\n",
      "|             matchId|platformUserIdentifier|opponentPlatformUserIdentifier|round|damageValue|legShotsValue|bodyShotsValue|\n",
      "+--------------------+----------------------+------------------------------+-----+-----------+-------------+--------------+\n",
      "|01a8725d-fed5-468...|           Brunno#9168|                     X4TO#8453|    1|       78.0|          NaN|           NaN|\n",
      "|01a8725d-fed5-468...|           Brunno#9168|                     X4TO#8453|    1|        NaN|          0.0|           NaN|\n",
      "+--------------------+----------------------+------------------------------+-----+-----------+-------------+--------------+\n",
      "only showing top 2 rows\n",
      "\n"
     ]
    }
   ],
   "source": [
    "df_player_round_damage_book.show(2)"
   ]
  },
  {
   "attachments": {},
   "cell_type": "markdown",
   "metadata": {},
   "source": [
    "### Player Round Kills"
   ]
  },
  {
   "cell_type": "code",
   "execution_count": 69,
   "metadata": {},
   "outputs": [],
   "source": [
    "df_player_round_kills_book = (\n",
    "    df_player_round_kills_data\n",
    "    .select(\n",
    "        'matchId', 'platformUserIdentifier', 'opponentPlatformUserIdentifier', 'round', \n",
    "        'damageValue', 'opponentLocationX', 'opponentLocationY', 'finishingDamageType', 'finishingDamageIsSecondaryFireMode',\n",
    "        'weaponName', 'weaponCategory', 'gameTime', 'roundTime'\n",
    "    )\n",
    ")"
   ]
  },
  {
   "cell_type": "code",
   "execution_count": 70,
   "metadata": {},
   "outputs": [
    {
     "name": "stdout",
     "output_type": "stream",
     "text": [
      "+--------------------+----------------------+------------------------------+-----+-----------+-----------------+-----------------+-------------------+----------------------------------+----------+--------------+--------+---------+\n",
      "|             matchId|platformUserIdentifier|opponentPlatformUserIdentifier|round|damageValue|opponentLocationX|opponentLocationY|finishingDamageType|finishingDamageIsSecondaryFireMode|weaponName|weaponCategory|gameTime|roundTime|\n",
      "+--------------------+----------------------+------------------------------+-----+-----------+-----------------+-----------------+-------------------+----------------------------------+----------+--------------+--------+---------+\n",
      "|01a8725d-fed5-468...|           Brunno#9168|                     X4TO#8453|    1|        100|             8994|            -5381|             Weapon|                             false|   Classic|      Sidearms|  116569|    50202|\n",
      "|01a8725d-fed5-468...|      Blackwilson#8380|                     noumu#yoi|    1|        104|             1859|             -478|             Weapon|                             false|   Classic|      Sidearms|   80846|    14479|\n",
      "+--------------------+----------------------+------------------------------+-----+-----------+-----------------+-----------------+-------------------+----------------------------------+----------+--------------+--------+---------+\n",
      "only showing top 2 rows\n",
      "\n"
     ]
    }
   ],
   "source": [
    "df_player_round_kills_book.show(2)"
   ]
  },
  {
   "attachments": {},
   "cell_type": "markdown",
   "metadata": {},
   "source": [
    "### Player Round"
   ]
  },
  {
   "cell_type": "code",
   "execution_count": 45,
   "metadata": {},
   "outputs": [],
   "source": [
    "df_player_round_book = (\n",
    "    df_player_round_data\n",
    "    .select(\n",
    "        'matchId', 'platformUserIdentifier', 'round', \n",
    "        'assistsValue', 'damageValue', 'deathsValue', \n",
    "        'kdRatio', 'killsValue', 'loadoutValue', 'remainingCredits',\n",
    "        'scoreValue', 'spentCredits'\n",
    "    )\n",
    ")"
   ]
  },
  {
   "cell_type": "code",
   "execution_count": 46,
   "metadata": {},
   "outputs": [
    {
     "name": "stdout",
     "output_type": "stream",
     "text": [
      "+--------------------+----------------------+-----+------------+-----------+-----------+-------+----------+------------+----------------+----------+------------+\n",
      "|             matchId|platformUserIdentifier|round|assistsValue|damageValue|deathsValue|kdRatio|killsValue|loadoutValue|remainingCredits|scoreValue|spentCredits|\n",
      "+--------------------+----------------------+-----+------------+-----------+-----------+-------+----------+------------+----------------+----------+------------+\n",
      "|01a8725d-fed5-468...|      Blackwilson#8380|    1|         0.0|      324.0|        0.0|    3.0|       3.0|       800.0|           200.0|     733.0|       600.0|\n",
      "|01a8725d-fed5-468...|      Blackwilson#8380|    2|         0.0|      114.0|        1.0|    1.0|       1.0|      4800.0|             0.0|     250.0|      4100.0|\n",
      "+--------------------+----------------------+-----+------------+-----------+-----------+-------+----------+------------+----------------+----------+------------+\n",
      "only showing top 2 rows\n",
      "\n"
     ]
    }
   ],
   "source": [
    "df_player_round_book.show(2)"
   ]
  },
  {
   "attachments": {},
   "cell_type": "markdown",
   "metadata": {},
   "source": [
    "### Team Summary"
   ]
  },
  {
   "cell_type": "code",
   "execution_count": 47,
   "metadata": {},
   "outputs": [],
   "source": [
    "df_team_summary_book = (\n",
    "    df_team_summary_data\n",
    "    .select(\n",
    "        'matchId', 'teamId', 'hasWon', 'roundsWonValue', 'roundslostValue',\n",
    "        'scoreValue', 'killsValue', 'deathsValue', 'assistsValue', 'damageValue'\n",
    "    )\n",
    ")"
   ]
  },
  {
   "cell_type": "code",
   "execution_count": 48,
   "metadata": {},
   "outputs": [
    {
     "name": "stdout",
     "output_type": "stream",
     "text": [
      "+--------------------+------+------+--------------+---------------+----------+----------+-----------+------------+-----------+\n",
      "|             matchId|teamId|hasWon|roundsWonValue|roundslostValue|scoreValue|killsValue|deathsValue|assistsValue|damageValue|\n",
      "+--------------------+------+------+--------------+---------------+----------+----------+-----------+------------+-----------+\n",
      "|01a8725d-fed5-468...|   Red| false|             9|             13|     22114|        76|         81|          17|      13954|\n",
      "|01a8725d-fed5-468...|  Blue|  true|            13|              9|     23601|        81|         76|          23|      15051|\n",
      "+--------------------+------+------+--------------+---------------+----------+----------+-----------+------------+-----------+\n",
      "only showing top 2 rows\n",
      "\n"
     ]
    }
   ],
   "source": [
    "df_team_summary_book.show(2)"
   ]
  },
  {
   "attachments": {},
   "cell_type": "markdown",
   "metadata": {},
   "source": [
    "## ABT Player"
   ]
  },
  {
   "cell_type": "code",
   "execution_count": 49,
   "metadata": {},
   "outputs": [],
   "source": [
    "df_player_abt = df_player_summary_book"
   ]
  },
  {
   "cell_type": "code",
   "execution_count": 67,
   "metadata": {},
   "outputs": [],
   "source": [
    "df_player_abt = (\n",
    "    df_player_abt.alias(\"p\")\n",
    "    .join(df_team_summary_book.alias(\"t\"), \n",
    "          (col(\"p.matchId\") == col(\"t.matchId\")) & \n",
    "          (col(\"p.teamId\") == col(\"t.teamId\")),\n",
    "          \"inner\")\n",
    "    .select(\n",
    "        col(\"p.*\"),\n",
    "        col(\"t.hasWon\"),\n",
    "        col(\"t.roundsWonValue\"),\n",
    "        col(\"t.roundslostValue\"),\n",
    "        col(\"t.scoreValue\").alias(\"teamScoreValue\"),\n",
    "        col(\"t.killsValue\").alias(\"teamKillsValue\"),\n",
    "        col(\"t.deathsValue\").alias(\"teamDeathsValue\"),\n",
    "        col(\"t.assistsValue\").alias(\"teamAssistsValue\"),\n",
    "        col(\"t.damageValue\").alias(\"teamDamageValue\")\n",
    "    )\n",
    ")"
   ]
  },
  {
   "cell_type": "code",
   "execution_count": 77,
   "metadata": {},
   "outputs": [
    {
     "name": "stdout",
     "output_type": "stream",
     "text": [
      "+--------------------+----------------------+-----------------+-----------+-----------------+-----------+-----------------+---------+-------------+----------+------------------+------------------+----------+-----------+------------+------------------+-----------+-------------------+------------------------+----------------+----------------+----------------+----------------+---------------+---------------+-----------------+------------------+------------------+------------------+-------------------------+--------------------------+--------------------------+--------------------------+-----------+------------+---------------+----------------+------------------+-----------------------+------------------------+---------------+------------------+---------+-------------+------------------+------------------------+--------------------+------+---------+------+--------------+---------------+--------------+--------------+---------------+----------------+---------------+\n",
      "|             matchId|platformUserIdentifier|totalSpentCredits|totalRounds|totalSpentCredits|totalRounds|totalSpentCredits|rankValue|currRankValue|scoreValue|scorePerRoundValue|killsPerRoundValue|killsValue|deathsValue|assistsValue|      kdRatioValue|damageValue|damagePerRoundValue|damageDeltaPerRoundValue|singleKillsValue|doubleKillsValue|tripleKillsValue|quadraKillsValue|pentaKillsValue|multiKillsValue|grenadeCastsValue|ability1CastsValue|ability2CastsValue|ultimateCastsValue|grenadeCastsPerRoundValue|ability1CastsPerRoundValue|ability2CastsPerRoundValue|ultimateCastsPerRoundValue|plantsValue|defusesValue|firstKillsValue|firstDeathsValue|          esrValue|firstKillsPerRoundValue|firstDeathsPerRoundValue|econRatingValue|   hsAccuracyValue|KastValue|clutchesValue| roundsWinPctValue|trnPerformanceScoreValue|             partyId|teamId|agentName|hasWon|roundsWonValue|roundslostValue|teamScoreValue|teamKillsValue|teamDeathsValue|teamAssistsValue|teamDamageValue|\n",
      "+--------------------+----------------------+-----------------+-----------+-----------------+-----------+-----------------+---------+-------------+----------+------------------+------------------+----------+-----------+------------+------------------+-----------+-------------------+------------------------+----------------+----------------+----------------+----------------+---------------+---------------+-----------------+------------------+------------------+------------------+-------------------------+--------------------------+--------------------------+--------------------------+-----------+------------+---------------+----------------+------------------+-----------------------+------------------------+---------------+------------------+---------+-------------+------------------+------------------------+--------------------+------+---------+------+--------------+---------------+--------------+--------------+---------------+----------------+---------------+\n",
      "|01a8725d-fed5-468...|      Blackwilson#8380|          67650.0|         22|          67650.0|        253|          67650.0| Silver 2|       Gold 1|      7619| 346.3181818181818| 1.181818181818182|        26|         17|           1|1.5294117647058822|       4480| 203.63636363636363|       38.31818181818182|               9|               4|               3|               0|              0|              3|              8.0|              22.0|              14.0|               4.0|       0.3636363636363636|                       1.0|        0.6363636363636364|        0.1818181818181818|          0|           0|              8|               2|              80.0|     0.3636363636363636|      0.0909090909090909|             66| 9.473684210526317|     77.0|            0|40.909090909090914|                     772|ebacdaae-d665-4d5...|   Red|    Reyna| false|             9|             13|         22114|            76|             81|              17|          13954|\n",
      "|01a8725d-fed5-468...|           Brunno#9168|          50900.0|         22|          50900.0|        253|          50900.0| Silver 2|     Silver 1|      4345|             197.5|0.7727272727272727|        17|         14|           5|1.2142857142857142|       2785|  126.5909090909091|      6.7727272727272725|              10|               2|               1|               0|              0|              1|             14.0|              18.0|               9.0|               4.0|       0.6363636363636364|        0.8181818181818182|        0.4090909090909091|        0.1818181818181818|          4|           0|              1|               1|              50.0|     0.0454545454545454|      0.0454545454545454|             55| 21.73913043478261|     73.0|            0|40.909090909090914|                     443|33852ab4-2961-477...|   Red|     Sage| false|             9|             13|         22114|            76|             81|              17|          13954|\n",
      "|01a8725d-fed5-468...|           ELOII#prime|          47050.0|         22|          47050.0|        253|          47050.0| Silver 1|   Platinum 1|      5102| 231.9090909090909|0.8636363636363636|        19|         13|           3|1.4615384615384617|       3338| 151.72727272727272|       37.27272727272727|               9|               2|               2|               0|              0|              2|             14.0|              17.0|               6.0|               1.0|       0.6363636363636364|        0.7727272727272727|        0.2727272727272727|        0.0454545454545454|          2|           0|              4|               3| 57.14285714285714|     0.1818181818181818|      0.1363636363636363|             71|23.214285714285715|     77.0|            2| 59.09090909090909|                     894|2213fd83-e0f9-4b2...|  Blue|    Reyna|  true|            13|              9|         23601|            81|             76|              23|          15051|\n",
      "|01a8725d-fed5-468...|  Huell Babineaux#0124|          50800.0|         22|          50800.0|        253|          50800.0| Silver 1|     Unranked|      4165| 189.3181818181818|0.6363636363636364|        14|         16|           3|             0.875|       2786| 126.63636363636364|                     6.5|               7|               2|               1|               0|              0|              1|             13.0|               4.0|               8.0|               2.0|       0.5909090909090909|        0.1818181818181818|        0.3636363636363636|        0.0909090909090909|          1|           1|              0|               2|               0.0|                    0.0|      0.0909090909090909|             55|13.043478260869565|     77.0|            0| 59.09090909090909|                     676|d5a8c87b-0acf-44b...|  Blue|  Chamber|  true|            13|              9|         23601|            81|             76|              23|          15051|\n",
      "|01a8725d-fed5-468...|         Pizza B0Y#BR1|          58900.0|         22|          58900.0|        253|          58900.0| Silver 1|     Unranked|      5349|243.13636363636363|0.7727272727272727|        17|         18|           6|0.9444444444444444|       3378| 153.54545454545453|      13.636363636363637|               6|               4|               1|               0|              0|              1|              6.0|              13.0|              37.0|               4.0|       0.2727272727272727|        0.5909090909090909|         1.681818181818182|        0.1818181818181818|          3|           0|              2|               1| 66.66666666666666|     0.0909090909090909|      0.0454545454545454|             58| 20.75471698113208|     73.0|            0|40.909090909090914|                     612|c7ac08d1-8b9f-4b3...|   Red|Brimstone| false|             9|             13|         22114|            76|             81|              17|          13954|\n",
      "|01a8725d-fed5-468...|       RayzenSama#6999|          46950.0|         22|          46950.0|        253|          46950.0| Silver 1|     Bronze 3|      1942| 88.27272727272727|0.3181818181818182|         7|         15|           2|0.4666666666666667|       1380|  62.72727272727273|      -57.59090909090909|               3|               2|               0|               0|              0|              0|             12.0|              19.0|              16.0|               2.0|       0.5454545454545454|        0.8636363636363636|        0.7272727272727273|        0.0909090909090909|          2|           0|              0|               5|               0.0|                    0.0|      0.2272727272727272|             30| 5.714285714285714|     68.0|            0|40.909090909090914|                      65|c7ac08d1-8b9f-4b3...|   Red|     Yoru| false|             9|             13|         22114|            76|             81|              17|          13954|\n",
      "|01a8725d-fed5-468...|         SeuVagem#8197|          52700.0|         22|          52700.0|        253|          52700.0| Silver 1|       Gold 1|      2859|129.95454545454547|0.4090909090909091|         9|         17|           3|0.5294117647058824|       1918|  87.18181818181819|      -50.22727272727273|               7|               1|               0|               0|              0|              0|              9.0|              12.0|               3.0|               2.0|       0.4090909090909091|        0.5454545454545454|        0.1363636363636363|        0.0909090909090909|          0|           0|              0|               2|               0.0|                    0.0|      0.0909090909090909|             36| 3.508771929824561|     59.0|            0|40.909090909090914|                       9|ebacdaae-d665-4d5...|   Red|  Killjoy| false|             9|             13|         22114|            76|             81|              17|          13954|\n",
      "|01a8725d-fed5-468...|             X4TO#8453|          53700.0|         22|          53700.0|        253|          53700.0| Silver 3|     Silver 2|      4871| 221.4090909090909|0.6818181818181818|        15|         14|           9|1.0714285714285714|       3310| 150.45454545454547|      24.772727272727277|               7|               4|               0|               0|              0|              0|             16.0|              23.0|              21.0|               2.0|       0.7272727272727273|        1.0454545454545454|        0.9545454545454546|        0.0909090909090909|          1|           0|              1|               0|             100.0|     0.0454545454545454|                     0.0|             62| 6.976744186046512|     82.0|            1| 59.09090909090909|                     854|a1a64ed6-e628-47b...|  Blue|     Raze|  true|            13|              9|         23601|            81|             76|              23|          15051|\n",
      "|01a8725d-fed5-468...|             noumu#yoi|          53850.0|         22|          53850.0|        253|          53850.0| Silver 2|     Silver 1|      5430| 246.8181818181818|0.9090909090909092|        20|         16|           6|              1.25|       3255| 147.95454545454547|       5.727272727272728|               2|               3|               4|               0|              0|              4|              9.0|               9.0|               8.0|               2.0|       0.4090909090909091|        0.4090909090909091|        0.3636363636363636|        0.0909090909090909|          2|           1|              2|               4| 33.33333333333333|     0.0909090909090909|      0.1818181818181818|             61| 22.58064516129032|     55.0|            1| 59.09090909090909|                     577|3608b368-652c-4a4...|  Blue|    Viper|  true|            13|              9|         23601|            81|             76|              23|          15051|\n",
      "|01a8725d-fed5-468...|         obedear#knoxx|          63550.0|         22|          63550.0|        253|          63550.0| Silver 3|   Platinum 2|      4033| 183.3181818181818|0.5909090909090909|        13|         17|           2|0.7647058823529411|       2332|              106.0|     -25.181818181818183|               6|               2|               1|               0|              0|              1|              2.0|              15.0|              17.0|               2.0|       0.0909090909090909|        0.6818181818181818|        0.7727272727272727|        0.0909090909090909|          2|           0|              4|               2| 66.66666666666666|     0.1818181818181818|      0.0909090909090909|             37|  18.6046511627907|     59.0|            0| 59.09090909090909|                     276|3608b368-652c-4a4...|  Blue|     Sova|  true|            13|              9|         23601|            81|             76|              23|          15051|\n",
      "|01d95487-8f75-47e...|         Matmousse#CuC|          91350.0|         28|          91350.0|        406|          91350.0| Silver 2|       Gold 2|      4451|158.96428571428572|0.4642857142857143|        13|         25|          11|              0.52|       3204| 114.42857142857144|     -38.035714285714285|               8|               1|               1|               0|              0|              1|             10.0|              28.0|              16.0|               2.0|       0.3571428571428571|                       1.0|        0.5714285714285714|        0.0714285714285714|          0|           0|              1|               6|14.285714285714285|     0.0357142857142857|      0.2142857142857142|             35|10.256410256410255|     68.0|            0|              50.0|                     183|bc257f08-6899-431...|   Red|     Yoru| false|            14|             14|         31590|           107|            103|              47|          20631|\n",
      "|01d95487-8f75-47e...|       NALDO BENNY#MXD|          81950.0|         28|          81950.0|        406|          81950.0|   Gold 2|   Platinum 2|      6910|246.78571428571428|0.8928571428571429|        25|         19|           6|1.3157894736842106|       4227| 150.96428571428572|      16.928571428571427|               9|               5|               2|               0|              0|              2|             27.0|               4.0|              29.0|               3.0|       0.9642857142857144|        0.1428571428571428|        1.0357142857142858|        0.1071428571428571|          1|           0|              4|               2| 66.66666666666666|     0.1428571428571428|      0.0714285714285714|             52| 13.23529411764706|     79.0|            0|              50.0|                     787|595f2f12-225d-449...|   Red|  Chamber| false|            14|             14|         31590|           107|            103|              47|          20631|\n",
      "|01d95487-8f75-47e...|       RayzenSama#6999|          79600.0|         28|          79600.0|        406|          79600.0| Silver 1|     Bronze 3|      3885|            138.75|0.4285714285714285|        12|         22|           9|0.5454545454545454|       2343|  83.67857142857143|                   -44.5|               6|               3|               0|               0|              0|              0|              4.0|              13.0|              34.0|               2.0|       0.1428571428571428|        0.4642857142857143|        1.2142857142857142|        0.0714285714285714|          3|           0|              2|               4| 33.33333333333333|     0.0714285714285714|      0.1428571428571428|             29| 2.857142857142857|     64.0|            0|              50.0|                     119|d879f68f-209f-4b0...|   Red|     Sova| false|            14|             14|         31590|           107|            103|              47|          20631|\n",
      "|01d95487-8f75-47e...|      Twisted What#BR1|          75950.0|         28|          75950.0|        406|          75950.0| Silver 3|     Silver 2|      5464|195.14285714285717|0.7142857142857143|        20|         19|           9|1.0526315789473684|       3424| 122.28571428571428|                  -16.75|               6|               7|               0|               0|              0|              0|             10.0|               3.0|              17.0|               3.0|       0.3571428571428571|        0.1071428571428571|        0.6071428571428571|        0.1071428571428571|          2|           0|              1|               3|              25.0|     0.0357142857142857|      0.1071428571428571|             45|11.688311688311687|     71.0|            0|              50.0|                     371|8b7cde18-3187-4d6...|  Blue|     Sage| false|            14|             14|         29086|           103|            107|              36|          18907|\n",
      "|01d95487-8f75-47e...|        addfedx12#8409|          58650.0|         28|          58650.0|        406|          58650.0|   Gold 2|   Platinum 1|      5615|200.53571428571428|0.6428571428571429|        18|         22|          10|0.8181818181818182|       4124| 147.28571428571428|                    -5.5|              14|               2|               0|               0|              0|              0|             13.0|              10.0|              27.0|               3.0|       0.4642857142857143|        0.3571428571428571|        0.9642857142857144|        0.1071428571428571|          0|           1|              8|               2|              80.0|     0.2857142857142857|      0.0714285714285714|             71|25.396825396825395|     75.0|            0|              50.0|                     528|e1a78bb1-ba0c-42c...|  Blue|     Jett| false|            14|             14|         29086|           103|            107|              36|          18907|\n",
      "|01d95487-8f75-47e...|     anakiN 復讐#wayne|          74450.0|         28|          74450.0|        406|          74450.0|   Gold 1|   Platinum 1|      6162|220.07142857142856|              0.75|        21|         21|           7|               1.0|       4349| 155.32142857142858|      17.107142857142858|              10|               4|               1|               0|              0|              1|             15.0|              11.0|              27.0|               4.0|       0.5357142857142857|        0.3928571428571428|        0.9642857142857144|        0.1428571428571428|          0|           0|              3|               1|              75.0|     0.1071428571428571|      0.0357142857142857|             58|14.457831325301203|     79.0|            0|              50.0|                     725|388020ca-bbf5-487...|   Red|     Jett| false|            14|             14|         31590|           107|            103|              47|          20631|\n",
      "|01d95487-8f75-47e...|             daws#WASD|          91600.0|         28|          91600.0|        406|          91600.0| Silver 3|   Platinum 1|      7142|255.07142857142856|0.9285714285714286|        26|         23|           3|1.1304347826086956|       4964| 177.28571428571428|      20.714285714285715|              10|               8|               0|               0|              0|              0|             12.0|               2.0|              12.0|               4.0|       0.4285714285714285|        0.0714285714285714|        0.4285714285714285|        0.1428571428571428|          0|           0|              3|               1|              75.0|     0.1071428571428571|      0.0357142857142857|             54| 7.777777777777778|     75.0|            1|              50.0|                     786|c1a12eec-2a12-463...|  Blue|  Chamber| false|            14|             14|         29086|           103|            107|              36|          18907|\n",
      "|01d95487-8f75-47e...|  guxz baita fofo#0000|          93700.0|         28|          93700.0|        406|          93700.0| Silver 1|     Silver 3|      5818|207.78571428571428|              0.75|        21|         20|           7|              1.05|       3506| 125.21428571428572|                    -8.5|              14|               2|               1|               0|              0|              1|             13.0|              13.0|              26.0|               3.0|       0.4642857142857143|        0.4642857142857143|        0.9285714285714286|        0.1071428571428571|          2|           2|              1|               3|              25.0|     0.0357142857142857|      0.1071428571428571|             37|5.9405940594059405|     79.0|            1|              50.0|                     565|e1a78bb1-ba0c-42c...|  Blue|    Viper| false|            14|             14|         29086|           103|            107|              36|          18907|\n",
      "|01d95487-8f75-47e...|            hypix#0000|          79550.0|         28|          79550.0|        406|          79550.0| Silver 3|     Unranked|      5047|            180.25|0.6428571428571429|        18|         23|           7| 0.782608695652174|       2848| 101.71428571428572|                   -53.0|               8|               3|               0|               1|              0|              1|             33.0|              15.0|               6.0|               1.0|       1.1785714285714286|        0.5357142857142857|        0.2142857142857142|        0.0357142857142857|          2|           0|              2|               4| 33.33333333333333|     0.0714285714285714|      0.1428571428571428|             36|  9.58904109589041|     68.0|            0|              50.0|                     202|e1a78bb1-ba0c-42c...|  Blue|    Reyna| false|            14|             14|         29086|           103|            107|              36|          18907|\n",
      "|01d95487-8f75-47e...|    sou ruim mesmo#lol|          80100.0|         28|          80100.0|        406|          80100.0| Unranked|     Unranked|     10182| 363.6428571428572|1.2857142857142858|        36|         16|          14|              2.25|       6508| 232.42857142857144|      111.53571428571428|               6|               7|               4|               1|              0|              5|             16.0|               9.0|              33.0|               4.0|       0.5714285714285714|        0.3214285714285714|        1.1785714285714286|        0.1428571428571428|          4|           0|              3|               2|              60.0|     0.1071428571428571|      0.0714285714285714|             81|15.384615384615383|     93.0|            2|              50.0|                     893|d879f68f-209f-4b0...|   Red|    Astra| false|            14|             14|         31590|           107|            103|              47|          20631|\n",
      "+--------------------+----------------------+-----------------+-----------+-----------------+-----------+-----------------+---------+-------------+----------+------------------+------------------+----------+-----------+------------+------------------+-----------+-------------------+------------------------+----------------+----------------+----------------+----------------+---------------+---------------+-----------------+------------------+------------------+------------------+-------------------------+--------------------------+--------------------------+--------------------------+-----------+------------+---------------+----------------+------------------+-----------------------+------------------------+---------------+------------------+---------+-------------+------------------+------------------------+--------------------+------+---------+------+--------------+---------------+--------------+--------------+---------------+----------------+---------------+\n",
      "only showing top 20 rows\n",
      "\n"
     ]
    }
   ],
   "source": [
    "df_player_abt = (\n",
    "    df_player_abt.alias(\"p\")\n",
    "    .join(df_player_round_book.alias(\"t\"), \n",
    "          (col(\"p.matchId\") == col(\"t.matchId\")) & \n",
    "          (col(\"p.platformUserIdentifier\") == col(\"t.platformUserIdentifier\")),\n",
    "          \"inner\")\n",
    "    .groupBy(\"p.matchId\", \"p.platformUserIdentifier\")\n",
    "    .agg(\n",
    "        sum(\"t.spentCredits\").alias(\"totalSpentCredits\"),\n",
    "        count(\"t.round\").alias(\"totalRounds\")\n",
    "\n",
    "    )\n",
    "    .join(df_player_abt, [\"matchId\", \"platformUserIdentifier\"], \"inner\")\n",
    ")\n",
    "\n",
    "df_player_abt.show()\n"
   ]
  },
  {
   "cell_type": "code",
   "execution_count": 68,
   "metadata": {},
   "outputs": [
    {
     "name": "stdout",
     "output_type": "stream",
     "text": [
      "+--------------------+----------------------+---------+-------------+----------+------------------+------------------+----------+-----------+------------+------------------+-----------+-------------------+------------------------+----------------+----------------+----------------+----------------+---------------+---------------+-----------------+------------------+------------------+------------------+-------------------------+--------------------------+--------------------------+--------------------------+-----------+------------+---------------+----------------+-----------------+-----------------------+------------------------+---------------+------------------+---------+-------------+-----------------+------------------------+--------------------+------+---------+------+--------------+---------------+--------------+--------------+---------------+----------------+---------------+\n",
      "|             matchId|platformUserIdentifier|rankValue|currRankValue|scoreValue|scorePerRoundValue|killsPerRoundValue|killsValue|deathsValue|assistsValue|      kdRatioValue|damageValue|damagePerRoundValue|damageDeltaPerRoundValue|singleKillsValue|doubleKillsValue|tripleKillsValue|quadraKillsValue|pentaKillsValue|multiKillsValue|grenadeCastsValue|ability1CastsValue|ability2CastsValue|ultimateCastsValue|grenadeCastsPerRoundValue|ability1CastsPerRoundValue|ability2CastsPerRoundValue|ultimateCastsPerRoundValue|plantsValue|defusesValue|firstKillsValue|firstDeathsValue|         esrValue|firstKillsPerRoundValue|firstDeathsPerRoundValue|econRatingValue|   hsAccuracyValue|KastValue|clutchesValue|roundsWinPctValue|trnPerformanceScoreValue|             partyId|teamId|agentName|hasWon|roundsWonValue|roundslostValue|teamScoreValue|teamKillsValue|teamDeathsValue|teamAssistsValue|teamDamageValue|\n",
      "+--------------------+----------------------+---------+-------------+----------+------------------+------------------+----------+-----------+------------+------------------+-----------+-------------------+------------------------+----------------+----------------+----------------+----------------+---------------+---------------+-----------------+------------------+------------------+------------------+-------------------------+--------------------------+--------------------------+--------------------------+-----------+------------+---------------+----------------+-----------------+-----------------------+------------------------+---------------+------------------+---------+-------------+-----------------+------------------------+--------------------+------+---------+------+--------------+---------------+--------------+--------------+---------------+----------------+---------------+\n",
      "|0b171f6a-ef53-40f...|   Split Sorvetes#8387| Silver 1|     Silver 2|      4583|176.26923076923077|0.6153846153846154|        16|         18|           7|0.8888888888888888|       3048| 117.23076923076924|      -12.76923076923077|              12|               0|               0|               1|              0|              1|             10.0|               9.0|               8.0|               1.0|       0.3846153846153846|        0.3461538461538461|        0.3076923076923077|        0.0384615384615384|          2|           1|              4|               3|57.14285714285714|     0.1538461538461538|      0.1153846153846153|             40|15.873015873015872|     65.0|            1|53.84615384615385|                     307|87e18673-7006-437...|  Blue|     Sage|  true|            14|             12|         27813|            97|             85|              31|          17497|\n",
      "|0b171f6a-ef53-40f...|          Shinji9x#BR1| Silver 2|     Silver 3|      7478|287.61538461538464|0.9615384615384616|        25|         18|          10|1.3888888888888888|       4987| 191.80769230769232|       54.19230769230769|              14|               4|               1|               0|              0|              1|              3.0|               2.0|              25.0|               2.0|       0.1153846153846153|        0.0769230769230769|        0.9615384615384616|        0.0769230769230769|          2|           1|              5|               2|71.42857142857143|     0.1923076923076923|      0.0769230769230769|             83|17.582417582417584|     81.0|            2|53.84615384615385|                     966|ed592f03-109e-479...|  Blue|    KAY/O|  true|            14|             12|         27813|            97|             85|              31|          17497|\n",
      "+--------------------+----------------------+---------+-------------+----------+------------------+------------------+----------+-----------+------------+------------------+-----------+-------------------+------------------------+----------------+----------------+----------------+----------------+---------------+---------------+-----------------+------------------+------------------+------------------+-------------------------+--------------------------+--------------------------+--------------------------+-----------+------------+---------------+----------------+-----------------+-----------------------+------------------------+---------------+------------------+---------+-------------+-----------------+------------------------+--------------------+------+---------+------+--------------+---------------+--------------+--------------+---------------+----------------+---------------+\n",
      "only showing top 2 rows\n",
      "\n"
     ]
    }
   ],
   "source": [
    "df_player_abt.show(2)"
   ]
  }
 ],
 "metadata": {
  "kernelspec": {
   "display_name": "base",
   "language": "python",
   "name": "python3"
  },
  "language_info": {
   "codemirror_mode": {
    "name": "ipython",
    "version": 3
   },
   "file_extension": ".py",
   "mimetype": "text/x-python",
   "name": "python",
   "nbconvert_exporter": "python",
   "pygments_lexer": "ipython3",
   "version": "3.10.11"
  },
  "orig_nbformat": 4
 },
 "nbformat": 4,
 "nbformat_minor": 2
}
