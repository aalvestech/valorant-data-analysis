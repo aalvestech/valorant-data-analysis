{
 "cells": [
  {
   "attachments": {},
   "cell_type": "markdown",
   "metadata": {},
   "source": [
    "# Data Analisys Valorant"
   ]
  },
  {
   "attachments": {},
   "cell_type": "markdown",
   "metadata": {},
   "source": [
    "## Initial Configs"
   ]
  },
  {
   "attachments": {},
   "cell_type": "markdown",
   "metadata": {},
   "source": [
    "### Imports"
   ]
  },
  {
   "cell_type": "code",
   "execution_count": 1,
   "metadata": {},
   "outputs": [
    {
     "name": "stderr",
     "output_type": "stream",
     "text": [
      "Python-dotenv could not parse statement starting at line 1\n"
     ]
    }
   ],
   "source": [
    "import os\n",
    "from pyspark.sql import SparkSession\n",
    "from pyspark.sql.functions import avg, col, expr, count, sum, max, udf, dayofweek, date_format, when, mean, median\n",
    "from pyspark.sql.types import StringType\n",
    "import sys\n",
    "sys.path.append('../src/')\n",
    "from aws.aws import Aws\n",
    "import io\n",
    "import pandas as pd \n",
    "import boto3\n",
    "from datetime import datetime"
   ]
  },
  {
   "attachments": {},
   "cell_type": "markdown",
   "metadata": {},
   "source": [
    "### Creating a Spark Session"
   ]
  },
  {
   "cell_type": "code",
   "execution_count": 2,
   "metadata": {},
   "outputs": [
    {
     "name": "stderr",
     "output_type": "stream",
     "text": [
      "Setting default log level to \"WARN\".\n",
      "To adjust logging level use sc.setLogLevel(newLevel). For SparkR, use setLogLevel(newLevel).\n",
      "23/05/27 02:08:24 WARN NativeCodeLoader: Unable to load native-hadoop library for your platform... using builtin-java classes where applicable\n",
      "23/05/27 02:08:25 WARN Utils: Service 'SparkUI' could not bind on port 4040. Attempting port 4041.\n",
      "23/05/27 02:08:25 WARN Utils: Service 'SparkUI' could not bind on port 4041. Attempting port 4042.\n",
      "23/05/27 02:08:25 WARN Utils: Service 'SparkUI' could not bind on port 4042. Attempting port 4043.\n"
     ]
    }
   ],
   "source": [
    "spark = SparkSession.builder.appName(\"ValorantDataAnalysis\").getOrCreate()"
   ]
  },
  {
   "cell_type": "code",
   "execution_count": 3,
   "metadata": {},
   "outputs": [],
   "source": [
    "spark.conf.set(\"spark.hadoop.fs.s3a.impl\", \"org.apache.hadoop.fs.s3a.S3AFileSystem\")\n",
    "spark.conf.set(\"spark.hadoop.fs.s3a.access.key\", os.getenv('AWS_ACCESS_KEY_ID'))\n",
    "spark.conf.set(\"spark.hadoop.fs.s3a.secret.key\", os.getenv('AWS_SECRET_ACCESS_KEY'))"
   ]
  },
  {
   "attachments": {},
   "cell_type": "markdown",
   "metadata": {},
   "source": [
    "### Instantiating used classes"
   ]
  },
  {
   "cell_type": "code",
   "execution_count": 4,
   "metadata": {},
   "outputs": [],
   "source": [
    "aws = Aws()"
   ]
  },
  {
   "attachments": {},
   "cell_type": "markdown",
   "metadata": {},
   "source": [
    "## Load Dataframes"
   ]
  },
  {
   "attachments": {},
   "cell_type": "markdown",
   "metadata": {},
   "source": [
    "### Utils"
   ]
  },
  {
   "cell_type": "code",
   "execution_count": 5,
   "metadata": {},
   "outputs": [],
   "source": [
    "def get_files(bucket_name : str, folder_path : str) -> list:\n",
    "    \"\"\"\"\"\"\n",
    "    objects = aws.list_objetcs_s3(bucket_name, folder_path)\n",
    "\n",
    "\n",
    "    return objects"
   ]
  },
  {
   "cell_type": "code",
   "execution_count": 6,
   "metadata": {},
   "outputs": [],
   "source": [
    "def concat_files_s3(objects):\n",
    "    \"\"\"\"\"\"\n",
    "\n",
    "    json_files = [obj['Key'] for obj in objects]\n",
    "\n",
    "    for file in json_files:\n",
    "\n",
    "        response = aws.read_s3_v2(bucket_name='s3-tcc-fia-valorant', folder_path=file)\n",
    "        json_data = response['Body'].read().decode('utf-8')\n",
    "\n",
    "    return io.StringIO(json_data)"
   ]
  },
  {
   "cell_type": "code",
   "execution_count": 7,
   "metadata": {},
   "outputs": [],
   "source": [
    "def read_spark(data_io):\n",
    "    \"\"\"\"\"\"\n",
    "    data_io = pd.read_csv(data_io)\n",
    "    return spark.createDataFrame(data_io)"
   ]
  },
  {
   "cell_type": "code",
   "execution_count": 8,
   "metadata": {},
   "outputs": [],
   "source": [
    "def create_dataframe(bucket_name : str, folder_path : str):\n",
    "    \"\"\"\"\"\"\n",
    "    objects = get_files(bucket_name, folder_path)\n",
    "    data_io = concat_files_s3(objects)\n",
    "    df = read_spark(data_io)\n",
    "\n",
    "    return df"
   ]
  },
  {
   "cell_type": "code",
   "execution_count": 9,
   "metadata": {},
   "outputs": [],
   "source": [
    "def save_dataframe_csv(bucket_name, folder_path, file_name, data, file_format):\n",
    "    # Convert DataFrame to CSV string\n",
    "    csv_buffer = io.StringIO()\n",
    "    data.toPandas().to_csv(csv_buffer, index=False)\n",
    "\n",
    "    # Retrieve CSV data from buffer\n",
    "    csv_buffer_value = csv_buffer.getvalue()\n",
    "\n",
    "    date = datetime.now().strftime(\"%Y%m%d_%H%M%S\")\n",
    "    file_name = file_name + '_' + date + file_format\n",
    "    file_path = folder_path + file_name\n",
    "\n",
    "    # Write CSV string to S3\n",
    "    s3 = boto3.resource('s3')\n",
    "\n",
    "    try:\n",
    "        s3.Object(bucket_name, file_path).put(Body=csv_buffer_value)\n",
    "        print(f\"Data was written to S3://{bucket_name}/{folder_path}\")\n",
    "\n",
    "    except Exception as e:\n",
    "\n",
    "        print(f\"Error: {e}\")\n",
    "    \n",
    "        return False"
   ]
  },
  {
   "attachments": {},
   "cell_type": "markdown",
   "metadata": {},
   "source": [
    "### df_matches_summary_data"
   ]
  },
  {
   "cell_type": "code",
   "execution_count": 10,
   "metadata": {},
   "outputs": [],
   "source": [
    "df_matches_summary_data = create_dataframe('s3-tcc-fia-valorant', 'valorant/raw/summary/matches/')"
   ]
  },
  {
   "attachments": {},
   "cell_type": "markdown",
   "metadata": {},
   "source": [
    "### df_match_metadata_data"
   ]
  },
  {
   "cell_type": "code",
   "execution_count": 11,
   "metadata": {},
   "outputs": [],
   "source": [
    "df_match_metadata_data = create_dataframe('s3-tcc-fia-valorant', 'valorant/cleaned/details/metadata/')"
   ]
  },
  {
   "attachments": {},
   "cell_type": "markdown",
   "metadata": {},
   "source": [
    "### df_round_summary_data"
   ]
  },
  {
   "cell_type": "code",
   "execution_count": 12,
   "metadata": {},
   "outputs": [],
   "source": [
    "df_round_summary_data = create_dataframe('s3-tcc-fia-valorant', 'valorant/cleaned/details/round_summary/')"
   ]
  },
  {
   "attachments": {},
   "cell_type": "markdown",
   "metadata": {},
   "source": [
    "### df_player_summary_data"
   ]
  },
  {
   "cell_type": "code",
   "execution_count": 13,
   "metadata": {},
   "outputs": [],
   "source": [
    "df_player_summary_data = create_dataframe('s3-tcc-fia-valorant', 'valorant/cleaned/details/player_summary/')"
   ]
  },
  {
   "attachments": {},
   "cell_type": "markdown",
   "metadata": {},
   "source": [
    "### df_player_loadout_data"
   ]
  },
  {
   "cell_type": "code",
   "execution_count": 14,
   "metadata": {},
   "outputs": [],
   "source": [
    "df_player_loadout_data = create_dataframe('s3-tcc-fia-valorant', 'valorant/cleaned/details/player_loadout/')"
   ]
  },
  {
   "attachments": {},
   "cell_type": "markdown",
   "metadata": {},
   "source": [
    "### df_player_round_damage_data"
   ]
  },
  {
   "cell_type": "code",
   "execution_count": 15,
   "metadata": {},
   "outputs": [
    {
     "name": "stderr",
     "output_type": "stream",
     "text": [
      "/tmp/ipykernel_151789/1347267086.py:3: DtypeWarning: Columns (5) have mixed types. Specify dtype option on import or set low_memory=False.\n",
      "  data_io = pd.read_csv(data_io)\n"
     ]
    }
   ],
   "source": [
    "df_player_round_damage_data = create_dataframe('s3-tcc-fia-valorant', 'valorant/cleaned/details/player_round_damage/')"
   ]
  },
  {
   "attachments": {},
   "cell_type": "markdown",
   "metadata": {},
   "source": [
    "### df_player_round_kills_data"
   ]
  },
  {
   "cell_type": "code",
   "execution_count": 16,
   "metadata": {},
   "outputs": [
    {
     "name": "stderr",
     "output_type": "stream",
     "text": [
      "/tmp/ipykernel_151789/1347267086.py:3: DtypeWarning: Columns (32) have mixed types. Specify dtype option on import or set low_memory=False.\n",
      "  data_io = pd.read_csv(data_io)\n"
     ]
    }
   ],
   "source": [
    "df_player_round_kills_data = create_dataframe('s3-tcc-fia-valorant', 'valorant/cleaned/details/player_round_kills/')"
   ]
  },
  {
   "attachments": {},
   "cell_type": "markdown",
   "metadata": {},
   "source": [
    "### df_player_round_data"
   ]
  },
  {
   "cell_type": "code",
   "execution_count": 17,
   "metadata": {},
   "outputs": [],
   "source": [
    "df_player_round_data = create_dataframe('s3-tcc-fia-valorant', 'valorant/cleaned/details/player_round/')"
   ]
  },
  {
   "attachments": {},
   "cell_type": "markdown",
   "metadata": {},
   "source": [
    "### df_team_summary_data"
   ]
  },
  {
   "cell_type": "code",
   "execution_count": 18,
   "metadata": {},
   "outputs": [],
   "source": [
    "df_team_summary_data = create_dataframe('s3-tcc-fia-valorant', 'valorant/cleaned/details/team_summary/')"
   ]
  },
  {
   "attachments": {},
   "cell_type": "markdown",
   "metadata": {},
   "source": [
    "## Books"
   ]
  },
  {
   "attachments": {},
   "cell_type": "markdown",
   "metadata": {},
   "source": [
    "### Rename Columns"
   ]
  },
  {
   "attachments": {},
   "cell_type": "markdown",
   "metadata": {},
   "source": [
    "#### df_team_summary_data"
   ]
  },
  {
   "cell_type": "code",
   "execution_count": 21,
   "metadata": {},
   "outputs": [],
   "source": [
    "df_team_summary_data = df_team_summary_data.withColumnRenamed('RoundswonValue', 'roundsWonValue')\n",
    "df_team_summary_data = df_team_summary_data.withColumnRenamed('RoundslostValue', 'roundslostValue')\n",
    "df_team_summary_data = df_team_summary_data.withColumnRenamed('ScoreValue', 'scoreValue')\n",
    "df_team_summary_data = df_team_summary_data.withColumnRenamed('KillsValue', 'killsValue')\n",
    "df_team_summary_data = df_team_summary_data.withColumnRenamed('DeathsValue', 'deathsValue')\n",
    "df_team_summary_data = df_team_summary_data.withColumnRenamed('AssistsValue', 'assistsValue')\n",
    "df_team_summary_data = df_team_summary_data.withColumnRenamed('DamageValue', 'damageValue')"
   ]
  },
  {
   "attachments": {},
   "cell_type": "markdown",
   "metadata": {},
   "source": [
    "#### df_player_round_data"
   ]
  },
  {
   "cell_type": "code",
   "execution_count": 22,
   "metadata": {},
   "outputs": [],
   "source": [
    "df_player_round_data = df_player_round_data.withColumnRenamed('MatchId', 'matchId')\n",
    "df_player_round_data = df_player_round_data.withColumnRenamed('Round', 'round')\n",
    "df_player_round_data = df_player_round_data.withColumnRenamed('StatValue_Assists', 'assistsValue')\n",
    "df_player_round_data = df_player_round_data.withColumnRenamed('StatValue_Damage', 'damageValue')\n",
    "df_player_round_data = df_player_round_data.withColumnRenamed('StatValue_Deaths', 'deathsValue')\n",
    "df_player_round_data = df_player_round_data.withColumnRenamed('StatValue_Deaths', 'deathsValue')\n",
    "df_player_round_data = df_player_round_data.withColumnRenamed('StatValue_Kdratio', 'kdRatio')\n",
    "df_player_round_data = df_player_round_data.withColumnRenamed('StatValue_Kills', 'killsValue')\n",
    "df_player_round_data = df_player_round_data.withColumnRenamed('StatValue_Loadoutvalue', 'loadoutValue')\n",
    "df_player_round_data = df_player_round_data.withColumnRenamed('StatValue_Remainingcredits', 'remainingCredits')\n",
    "df_player_round_data = df_player_round_data.withColumnRenamed('StatValue_Score', 'scoreValue')\n",
    "df_player_round_data = df_player_round_data.withColumnRenamed('StatValue_Spentcredits', 'spentCredits')"
   ]
  },
  {
   "attachments": {},
   "cell_type": "markdown",
   "metadata": {},
   "source": [
    "#### df_player_loadout_data"
   ]
  },
  {
   "cell_type": "code",
   "execution_count": 23,
   "metadata": {},
   "outputs": [],
   "source": [
    "df_player_loadout_data = df_player_loadout_data.withColumnRenamed('MatchId', 'matchId')\n",
    "df_player_loadout_data = df_player_loadout_data.withColumnRenamed('latformUserIdentifier', 'platformUserIdentifier')\n",
    "df_player_loadout_data = df_player_loadout_data.withColumnRenamed('Loadout', 'loadout')\n",
    "df_player_loadout_data = df_player_loadout_data.withColumnRenamed('StatName', 'statName')\n",
    "df_player_loadout_data = df_player_loadout_data.withColumnRenamed('StatValue', 'statValue')"
   ]
  },
  {
   "attachments": {},
   "cell_type": "markdown",
   "metadata": {},
   "source": [
    "#### df_player_round_kills_data"
   ]
  },
  {
   "cell_type": "code",
   "execution_count": 24,
   "metadata": {},
   "outputs": [],
   "source": [
    "df_player_round_kills_data = df_player_round_kills_data.withColumnRenamed('MatchId', 'matchId')\n",
    "df_player_round_kills_data = df_player_round_kills_data.withColumnRenamed('Round', 'round')\n",
    "df_player_round_kills_data = df_player_round_kills_data.withColumnRenamed('DamageValue', 'damageValue')\n",
    "df_player_round_kills_data = df_player_round_kills_data.withColumnRenamed('Platforminfo_Platformslug', 'platformInfoSlug')\n",
    "df_player_round_kills_data = df_player_round_kills_data.withColumnRenamed('Platforminfo_Platformuserid', 'platformInfoUserId')\n",
    "df_player_round_kills_data = df_player_round_kills_data.withColumnRenamed('Platforminfo_Platformuserhandle', 'platformInfoUserHandle')\n",
    "df_player_round_kills_data = df_player_round_kills_data.withColumnRenamed('Platforminfo_Platformuseridentifier', 'platformInfoUserIdentifier')\n",
    "df_player_round_kills_data = df_player_round_kills_data.withColumnRenamed('Platforminfo_Avatarurl', 'avatarUrl')\n",
    "df_player_round_kills_data = df_player_round_kills_data.withColumnRenamed('Platforminfo_Additionalparameters', 'additionalParameters')\n",
    "df_player_round_kills_data = df_player_round_kills_data.withColumnRenamed('Opponentplatforminfo_Platformslug', 'opponentPlatformInfoSlug')\n",
    "df_player_round_kills_data = df_player_round_kills_data.withColumnRenamed('Opponentplatforminfo_Platformuserid', 'opponentPlatformInfoUserId')\n",
    "df_player_round_kills_data = df_player_round_kills_data.withColumnRenamed('Opponentplatforminfo_Platformuserhandle', 'opponentPlatformInfoUserHandle')\n",
    "df_player_round_kills_data = df_player_round_kills_data.withColumnRenamed('Opponentplatforminfo_Platformuseridentifier', 'opponentPlatformInfoUserIdentifier')\n",
    "df_player_round_kills_data = df_player_round_kills_data.withColumnRenamed('Opponentplatforminfo_Avatarurl', 'opponentAvatarUrl')\n",
    "df_player_round_kills_data = df_player_round_kills_data.withColumnRenamed('Opponentplatforminfo_Additionalparameters', 'opponentAdditionalParameters')\n",
    "df_player_round_kills_data = df_player_round_kills_data.withColumnRenamed('Opponentlocation_X', 'opponentLocationX')\n",
    "df_player_round_kills_data = df_player_round_kills_data.withColumnRenamed('Opponentlocation_Y', 'opponentLocationY')\n",
    "df_player_round_kills_data = df_player_round_kills_data.withColumnRenamed('Playerlocations', 'playerLocations')\n",
    "df_player_round_kills_data = df_player_round_kills_data.withColumnRenamed('Finishingdamage_Damagetype', 'finishingDamageType')\n",
    "df_player_round_kills_data = df_player_round_kills_data.withColumnRenamed('Finishingdamage_Damageitem', 'finishingDamageItem')\n",
    "df_player_round_kills_data = df_player_round_kills_data.withColumnRenamed('Finishingdamage_Issecondaryfiremode', 'finishingDamageIsSecondaryFireMode')\n",
    "df_player_round_kills_data = df_player_round_kills_data.withColumnRenamed('Weaponimageurl', 'weaponImageUrl')\n",
    "df_player_round_kills_data = df_player_round_kills_data.withColumnRenamed('Weaponname', 'weaponName')\n",
    "df_player_round_kills_data = df_player_round_kills_data.withColumnRenamed('Weaponcategory', 'weaponCategory')\n",
    "df_player_round_kills_data = df_player_round_kills_data.withColumnRenamed('Gametime', 'gameTime')\n",
    "df_player_round_kills_data = df_player_round_kills_data.withColumnRenamed('Roundtime', 'roundTime')"
   ]
  },
  {
   "attachments": {},
   "cell_type": "markdown",
   "metadata": {},
   "source": [
    "#### df_player_round_damage_data"
   ]
  },
  {
   "cell_type": "code",
   "execution_count": 25,
   "metadata": {},
   "outputs": [],
   "source": [
    "df_player_round_damage_data = df_player_round_damage_data.withColumnRenamed('MatchId', 'matchId')\n",
    "df_player_round_damage_data = df_player_round_damage_data.withColumnRenamed('Round', 'round')\n",
    "df_player_round_damage_data = df_player_round_damage_data.withColumnRenamed('DamageValue', 'damageValue')\n",
    "df_player_round_damage_data = df_player_round_damage_data.withColumnRenamed('LegshotsValue', 'legShotsValue')\n",
    "df_player_round_damage_data = df_player_round_damage_data.withColumnRenamed('BodyshotsValue', 'bodyShotsValue')\n",
    "df_player_round_damage_data = df_player_round_damage_data.withColumnRenamed('HeadshotsValue', 'headShotsValue')\n",
    "df_player_round_damage_data = df_player_round_damage_data.withColumnRenamed('HeadshotsValue', 'headShotsValue')"
   ]
  },
  {
   "attachments": {},
   "cell_type": "markdown",
   "metadata": {},
   "source": [
    "#### df_round_summary_data"
   ]
  },
  {
   "cell_type": "code",
   "execution_count": 26,
   "metadata": {},
   "outputs": [],
   "source": [
    "df_round_summary_data = df_round_summary_data.withColumnRenamed('Round', 'round')\n",
    "df_round_summary_data = df_round_summary_data.withColumnRenamed('RoundresultValue', 'roundResultValue')\n",
    "df_round_summary_data = df_round_summary_data.withColumnRenamed('WinningteamValue', 'winningTeamValue')"
   ]
  },
  {
   "attachments": {},
   "cell_type": "markdown",
   "metadata": {},
   "source": [
    "#### df_player_summary_data"
   ]
  },
  {
   "cell_type": "code",
   "execution_count": 27,
   "metadata": {},
   "outputs": [],
   "source": [
    "df_player_summary_data = df_player_summary_data.withColumnRenamed('MatchId', 'matchId')\n",
    "df_player_summary_data = df_player_summary_data.withColumnRenamed('RankValue', 'rankValue')\n",
    "df_player_summary_data = df_player_summary_data.withColumnRenamed('CurrrankValue', 'currRankValue')\n",
    "df_player_summary_data = df_player_summary_data.withColumnRenamed('ScoreValue', 'scoreValue')\n",
    "df_player_summary_data = df_player_summary_data.withColumnRenamed('ScoreperroundValue', 'scorePerRoundValue')\n",
    "df_player_summary_data = df_player_summary_data.withColumnRenamed('KillsperroundValue', 'killsPerRoundValue')\n",
    "df_player_summary_data = df_player_summary_data.withColumnRenamed('KillsValue', 'killsValue')\n",
    "df_player_summary_data = df_player_summary_data.withColumnRenamed('DeathsValue', 'deathsValue')\n",
    "df_player_summary_data = df_player_summary_data.withColumnRenamed('AssistsValue', 'assistsValue')\n",
    "df_player_summary_data = df_player_summary_data.withColumnRenamed('KdratioValue', 'kdRatioValue')\n",
    "df_player_summary_data = df_player_summary_data.withColumnRenamed('DamageValue', 'damageValue')\n",
    "df_player_summary_data = df_player_summary_data.withColumnRenamed('DamageperroundValue', 'damagePerRoundValue')\n",
    "df_player_summary_data = df_player_summary_data.withColumnRenamed('DamagedeltaperroundValue', 'damageDeltaPerRoundValue')\n",
    "df_player_summary_data = df_player_summary_data.withColumnRenamed('SinglekillsValue', 'singleKillsValue')\n",
    "df_player_summary_data = df_player_summary_data.withColumnRenamed('DoublekillsValue', 'doubleKillsValue')\n",
    "df_player_summary_data = df_player_summary_data.withColumnRenamed('TriplekillsValue', 'tripleKillsValue')\n",
    "df_player_summary_data = df_player_summary_data.withColumnRenamed('QuadrakillsValue', 'quadraKillsValue')\n",
    "df_player_summary_data = df_player_summary_data.withColumnRenamed('PentakillsValue', 'pentaKillsValue')\n",
    "df_player_summary_data = df_player_summary_data.withColumnRenamed('MultikillsValue', 'multiKillsValue')\n",
    "df_player_summary_data = df_player_summary_data.withColumnRenamed('GrenadecastsValue', 'grenadeCastsValue')\n",
    "df_player_summary_data = df_player_summary_data.withColumnRenamed('Ability1CastsValue', 'ability1CastsValue')\n",
    "df_player_summary_data = df_player_summary_data.withColumnRenamed('Ability2CastsValue', 'ability2CastsValue')\n",
    "df_player_summary_data = df_player_summary_data.withColumnRenamed('UltimatecastsValue', 'ultimateCastsValue')\n",
    "df_player_summary_data = df_player_summary_data.withColumnRenamed('GrenadecastsperroundValue', 'grenadeCastsPerRoundValue')\n",
    "df_player_summary_data = df_player_summary_data.withColumnRenamed('Ability1CastsperroundValue', 'ability1CastsPerRoundValue')\n",
    "df_player_summary_data = df_player_summary_data.withColumnRenamed('Ability2CastsperroundValue', 'ability2CastsPerRoundValue')\n",
    "df_player_summary_data = df_player_summary_data.withColumnRenamed('UltimatecastsperroundValue', 'ultimateCastsPerRoundValue')\n",
    "df_player_summary_data = df_player_summary_data.withColumnRenamed('PlantsValue', 'plantsValue')\n",
    "df_player_summary_data = df_player_summary_data.withColumnRenamed('DefusesValue', 'defusesValue')\n",
    "df_player_summary_data = df_player_summary_data.withColumnRenamed('FirstkillsValue', 'firstKillsValue')\n",
    "df_player_summary_data = df_player_summary_data.withColumnRenamed('FirstdeathsValue', 'firstDeathsValue')\n",
    "df_player_summary_data = df_player_summary_data.withColumnRenamed('EsrValue', 'esrValue')\n",
    "df_player_summary_data = df_player_summary_data.withColumnRenamed('FirstkillsperroundValue', 'firstKillsPerRoundValue')\n",
    "df_player_summary_data = df_player_summary_data.withColumnRenamed('FirstdeathsperroundValue', 'firstDeathsPerRoundValue')\n",
    "df_player_summary_data = df_player_summary_data.withColumnRenamed('EconratingValue', 'econRatingValue')\n",
    "df_player_summary_data = df_player_summary_data.withColumnRenamed('HsaccuracyValue', 'hsAccuracyValue')\n",
    "df_player_summary_data = df_player_summary_data.withColumnRenamed('KastValue', 'KastValue')\n",
    "df_player_summary_data = df_player_summary_data.withColumnRenamed('ClutchesValue', 'clutchesValue')\n",
    "df_player_summary_data = df_player_summary_data.withColumnRenamed('RoundswinpctValue', 'roundsWinPctValue')\n",
    "df_player_summary_data = df_player_summary_data.withColumnRenamed('TrnperformancescoreValue', 'trnPerformanceScoreValue')\n",
    "df_player_summary_data = df_player_summary_data.withColumnRenamed('Partyid', 'partyId')\n",
    "df_player_summary_data = df_player_summary_data.withColumnRenamed('Teamid', 'teamId')\n",
    "df_player_summary_data = df_player_summary_data.withColumnRenamed('Agentkey', 'agentKey')\n",
    "df_player_summary_data = df_player_summary_data.withColumnRenamed('Agentname', 'agentName')\n",
    "df_player_summary_data = df_player_summary_data.withColumnRenamed('Agentcolor', 'agentColor')\n",
    "df_player_summary_data = df_player_summary_data.withColumnRenamed('Agentimageurl', 'agentImageUrl')\n",
    "df_player_summary_data = df_player_summary_data.withColumnRenamed('Agentportraiturl', 'agentPortraitUrl')\n",
    "df_player_summary_data = df_player_summary_data.withColumnRenamed('Countrycode', 'countryCode')\n",
    "df_player_summary_data = df_player_summary_data.withColumnRenamed('Platforminfo_Platformslug', 'platformInfoSlug')\n",
    "df_player_summary_data = df_player_summary_data.withColumnRenamed('Platforminfo_Platformuserid', 'PlatformInfoUserId')\n",
    "df_player_summary_data = df_player_summary_data.withColumnRenamed('Platforminfo_Platformuserhandle', 'platformInfoUserHandle')\n",
    "df_player_summary_data = df_player_summary_data.withColumnRenamed('Platforminfo_Avatarurl', 'avatarUrl')\n",
    "df_player_summary_data = df_player_summary_data.withColumnRenamed('Platforminfo_Additionalparameters', 'additionalInfoParameters')"
   ]
  },
  {
   "attachments": {},
   "cell_type": "markdown",
   "metadata": {},
   "source": [
    "### Matches Summary"
   ]
  },
  {
   "cell_type": "code",
   "execution_count": 28,
   "metadata": {},
   "outputs": [],
   "source": [
    "df_matches_summary_book = (\n",
    "    df_matches_summary_data\n",
    "    .select(\n",
    "        'userId', 'matchId', 'agentName', 'modeKey', 'modeName', 'modeMaxRounds', 'isAvailable',\n",
    "        'timestamp', 'metadataResult', 'hasWon', 'result', 'mapName', 'seasonName', 'playtimeValue',\n",
    "        'roundsPlayedValue', 'roundsWonValue', 'roundsLostValue', 'roundsDisconnectedValue',\n",
    "        'placementValue', 'scoreValue', 'killsValue', 'deathsValue', 'assistsValue', 'damageValue',\n",
    "        'damageReceivedValue', 'headshotsValue', 'grenadeCastsValue', 'ability1CastsValue',\n",
    "        'ability2CastsValue', 'ultimateCastsValue', 'dealtHeadshotsValue', 'dealtBodyshotsValue',\n",
    "        'dealtLegshotsValue', 'econRatingValue', 'suicidesValue', 'revivedValue', 'firstBloodsValue',\n",
    "        'firstDeathsValue', 'lastDeathsValue', 'survivedValue', 'tradedValue', 'kastedValue', 'kASTValue',\n",
    "        'flawlessValue', 'thriftyValue', 'acesValue', 'teamAcesValue', 'clutchesValue', 'clutchesLostValue',\n",
    "        'plantsValue', 'defusesValue', 'kdRatioValue', 'scorePerRoundValue', 'damagePerRoundValue',\n",
    "        'headshotsPercentageValue',  'damageDeltaValue', 'damageDeltaPerRoundValue', 'rankValue',\n",
    "        'trnPerformanceScoreValue',\n",
    "        )\n",
    ")"
   ]
  },
  {
   "cell_type": "code",
   "execution_count": 29,
   "metadata": {},
   "outputs": [
    {
     "name": "stderr",
     "output_type": "stream",
     "text": [
      "23/05/27 02:11:28 WARN package: Truncated the string representation of a plan since it was too large. This behavior can be adjusted by setting 'spark.sql.debug.maxToStringFields'.\n",
      "                                                                                \r"
     ]
    },
    {
     "name": "stdout",
     "output_type": "stream",
     "text": [
      "Data was written to S3://s3-tcc-fia-valorant/valorant/refined/matches-summary-book/\n"
     ]
    }
   ],
   "source": [
    "save_dataframe_csv('s3-tcc-fia-valorant', 'valorant/refined/matches-summary-book/', 'matches-summary-book', df_matches_summary_book, '.csv')"
   ]
  },
  {
   "attachments": {},
   "cell_type": "markdown",
   "metadata": {},
   "source": [
    "### Match Metadata"
   ]
  },
  {
   "cell_type": "code",
   "execution_count": 30,
   "metadata": {},
   "outputs": [],
   "source": [
    "df_match_metadata_book = (\n",
    "    df_match_metadata_data\n",
    "    .select(\n",
    "        'matchId', 'expiryDate', 'modeKey',\n",
    "        'modeName', 'modeMaxRounds', 'duration',\n",
    "        'dateStarted', 'rounds', 'isRanked',\n",
    "        'queueId', 'mapName', \n",
    "    )\n",
    ")"
   ]
  },
  {
   "cell_type": "code",
   "execution_count": 31,
   "metadata": {},
   "outputs": [
    {
     "name": "stdout",
     "output_type": "stream",
     "text": [
      "Data was written to S3://s3-tcc-fia-valorant/valorant/refined/match-metadata-book/\n"
     ]
    }
   ],
   "source": [
    "save_dataframe_csv('s3-tcc-fia-valorant', 'valorant/refined/match-metadata-book/', 'match-metadata-book', df_match_metadata_book, '.csv')"
   ]
  },
  {
   "attachments": {},
   "cell_type": "markdown",
   "metadata": {},
   "source": [
    "### Round Summary"
   ]
  },
  {
   "cell_type": "code",
   "execution_count": 32,
   "metadata": {},
   "outputs": [],
   "source": [
    "df_round_summary_book = (\n",
    "    df_round_summary_data\n",
    "    .select(\n",
    "        'matchId', 'round', 'roundResultValue', 'winningTeamValue', \n",
    "    )\n",
    ")"
   ]
  },
  {
   "cell_type": "code",
   "execution_count": 33,
   "metadata": {},
   "outputs": [
    {
     "name": "stdout",
     "output_type": "stream",
     "text": [
      "Data was written to S3://s3-tcc-fia-valorant/valorant/refined/round-summary-book/\n"
     ]
    }
   ],
   "source": [
    "save_dataframe_csv('s3-tcc-fia-valorant', 'valorant/refined/round-summary-book/', 'round-summary-book', df_round_summary_book, '.csv')"
   ]
  },
  {
   "attachments": {},
   "cell_type": "markdown",
   "metadata": {},
   "source": [
    "### Player Summary"
   ]
  },
  {
   "cell_type": "code",
   "execution_count": 34,
   "metadata": {},
   "outputs": [],
   "source": [
    "df_player_summary_book = (\n",
    "    df_player_summary_data\n",
    "    .select(\n",
    "        'matchId', 'platformUserIdentifier', 'rankValue', 'currRankValue',\n",
    "        'scoreValue', 'scorePerRoundValue', 'killsPerRoundValue', 'killsValue',\n",
    "        'deathsValue', 'assistsValue', 'kdRatioValue', 'damageValue', 'damagePerRoundValue',\n",
    "        'damageDeltaPerRoundValue', 'singleKillsValue', 'doubleKillsValue', 'tripleKillsValue',\n",
    "        'quadraKillsValue', 'pentaKillsValue', 'multiKillsValue', 'grenadeCastsValue', 'ability1CastsValue',\n",
    "        'ability2CastsValue', 'ultimateCastsValue', 'grenadeCastsPerRoundValue', 'ability1CastsPerRoundValue',\n",
    "        'ability2CastsPerRoundValue', 'ultimateCastsPerRoundValue', 'plantsValue', 'defusesValue', 'firstKillsValue',\n",
    "        'firstDeathsValue', 'esrValue', 'firstKillsPerRoundValue', 'firstDeathsPerRoundValue', 'econRatingValue',\n",
    "        'hsAccuracyValue', 'KastValue', 'clutchesValue', 'roundsWinPctValue', 'trnPerformanceScoreValue', 'partyId',\n",
    "        'teamId', 'agentName'\n",
    "    )\n",
    ")"
   ]
  },
  {
   "cell_type": "code",
   "execution_count": 35,
   "metadata": {},
   "outputs": [
    {
     "name": "stdout",
     "output_type": "stream",
     "text": [
      "Data was written to S3://s3-tcc-fia-valorant/valorant/refined/player-summary-book/\n"
     ]
    }
   ],
   "source": [
    "save_dataframe_csv('s3-tcc-fia-valorant', 'valorant/refined/player-summary-book/', 'player-summary-book', df_player_summary_book, '.csv')"
   ]
  },
  {
   "attachments": {},
   "cell_type": "markdown",
   "metadata": {},
   "source": [
    "### Player Loadout"
   ]
  },
  {
   "cell_type": "code",
   "execution_count": 36,
   "metadata": {},
   "outputs": [],
   "source": [
    "df_player_loadout_book = (\n",
    "    df_player_loadout_data\n",
    "    .select(\n",
    "        'matchId', 'PlatformUserIdentifier', 'loadout',\n",
    "        'statName', 'statValue'\n",
    "    )\n",
    ")"
   ]
  },
  {
   "cell_type": "code",
   "execution_count": 37,
   "metadata": {},
   "outputs": [
    {
     "name": "stderr",
     "output_type": "stream",
     "text": [
      "23/05/27 02:12:15 WARN TaskSetManager: Stage 4 contains a task of very large size (1176 KiB). The maximum recommended task size is 1000 KiB.\n",
      "                                                                                \r"
     ]
    },
    {
     "name": "stdout",
     "output_type": "stream",
     "text": [
      "Data was written to S3://s3-tcc-fia-valorant/valorant/refined/player-loadout-book/\n"
     ]
    }
   ],
   "source": [
    "save_dataframe_csv('s3-tcc-fia-valorant', 'valorant/refined/player-loadout-book/', 'player-loadout-book', df_player_loadout_book, '.csv')"
   ]
  },
  {
   "attachments": {},
   "cell_type": "markdown",
   "metadata": {},
   "source": [
    "### Player Round Damage"
   ]
  },
  {
   "cell_type": "code",
   "execution_count": 38,
   "metadata": {},
   "outputs": [],
   "source": [
    "df_player_round_damage_book = (\n",
    "    df_player_round_damage_data\n",
    "    .select(\n",
    "        'matchId', 'platformUserIdentifier', 'opponentPlatformUserIdentifier', 'round',\n",
    "        'damageValue', 'legShotsValue', 'bodyShotsValue', \n",
    "    )\n",
    ")"
   ]
  },
  {
   "cell_type": "code",
   "execution_count": 39,
   "metadata": {},
   "outputs": [
    {
     "name": "stderr",
     "output_type": "stream",
     "text": [
      "23/05/27 02:12:25 WARN TaskSetManager: Stage 5 contains a task of very large size (6506 KiB). The maximum recommended task size is 1000 KiB.\n",
      "                                                                                \r"
     ]
    },
    {
     "name": "stdout",
     "output_type": "stream",
     "text": [
      "Data was written to S3://s3-tcc-fia-valorant/valorant/refined/player-round-damage-book/\n"
     ]
    }
   ],
   "source": [
    "save_dataframe_csv('s3-tcc-fia-valorant', 'valorant/refined/player-round-damage-book/', 'player-round-damage-book', df_player_round_damage_book, '.csv')"
   ]
  },
  {
   "attachments": {},
   "cell_type": "markdown",
   "metadata": {},
   "source": [
    "### Player Round Kills"
   ]
  },
  {
   "cell_type": "code",
   "execution_count": 40,
   "metadata": {},
   "outputs": [],
   "source": [
    "df_player_round_kills_book = (\n",
    "    df_player_round_kills_data\n",
    "    .select(\n",
    "        'matchId', 'platformUserIdentifier', 'opponentPlatformUserIdentifier', 'round', \n",
    "        'damageValue', 'opponentLocationX', 'opponentLocationY', 'finishingDamageType', 'finishingDamageIsSecondaryFireMode',\n",
    "        'weaponName', 'weaponCategory', 'gameTime', 'roundTime'\n",
    "    )\n",
    ")"
   ]
  },
  {
   "cell_type": "code",
   "execution_count": 41,
   "metadata": {},
   "outputs": [
    {
     "name": "stderr",
     "output_type": "stream",
     "text": [
      "23/05/27 02:12:39 WARN TaskSetManager: Stage 6 contains a task of very large size (10779 KiB). The maximum recommended task size is 1000 KiB.\n",
      "                                                                                \r"
     ]
    },
    {
     "name": "stdout",
     "output_type": "stream",
     "text": [
      "Data was written to S3://s3-tcc-fia-valorant/valorant/refined/player-round-kills-book/\n"
     ]
    }
   ],
   "source": [
    "save_dataframe_csv('s3-tcc-fia-valorant', 'valorant/refined/player-round-kills-book/', 'player-round-kills-book', df_player_round_kills_book, '.csv')"
   ]
  },
  {
   "attachments": {},
   "cell_type": "markdown",
   "metadata": {},
   "source": [
    "### Player Round"
   ]
  },
  {
   "cell_type": "code",
   "execution_count": 42,
   "metadata": {},
   "outputs": [],
   "source": [
    "df_player_round_book = (\n",
    "    df_player_round_data\n",
    "    .select(\n",
    "        'matchId', 'platformUserIdentifier', 'round', \n",
    "        'assistsValue', 'damageValue', 'deathsValue', \n",
    "        'kdRatio', 'killsValue', 'loadoutValue', 'remainingCredits',\n",
    "        'scoreValue', 'spentCredits'\n",
    "    )\n",
    ")"
   ]
  },
  {
   "cell_type": "code",
   "execution_count": 43,
   "metadata": {},
   "outputs": [
    {
     "name": "stderr",
     "output_type": "stream",
     "text": [
      "23/05/27 02:12:49 WARN TaskSetManager: Stage 7 contains a task of very large size (2644 KiB). The maximum recommended task size is 1000 KiB.\n"
     ]
    },
    {
     "name": "stdout",
     "output_type": "stream",
     "text": [
      "Data was written to S3://s3-tcc-fia-valorant/valorant/refined/player-round-book/\n"
     ]
    }
   ],
   "source": [
    "save_dataframe_csv('s3-tcc-fia-valorant', 'valorant/refined/player-round-book/', 'player-round-book', df_player_round_book, '.csv')"
   ]
  },
  {
   "attachments": {},
   "cell_type": "markdown",
   "metadata": {},
   "source": [
    "### Team Summary"
   ]
  },
  {
   "cell_type": "code",
   "execution_count": 44,
   "metadata": {},
   "outputs": [],
   "source": [
    "df_team_summary_book = (\n",
    "    df_team_summary_data\n",
    "    .select(\n",
    "        'matchId', 'teamId', 'hasWon', 'roundsWonValue', 'roundslostValue',\n",
    "        'scoreValue', 'killsValue', 'deathsValue', 'assistsValue', 'damageValue'\n",
    "    )\n",
    ")"
   ]
  },
  {
   "cell_type": "code",
   "execution_count": 45,
   "metadata": {},
   "outputs": [
    {
     "name": "stdout",
     "output_type": "stream",
     "text": [
      "Data was written to S3://s3-tcc-fia-valorant/valorant/refined/team-summary-book/\n"
     ]
    }
   ],
   "source": [
    "save_dataframe_csv('s3-tcc-fia-valorant', 'valorant/refined/team-summary-book/', 'team-summary-book', df_team_summary_book, '.csv')"
   ]
  },
  {
   "attachments": {},
   "cell_type": "markdown",
   "metadata": {},
   "source": [
    "### Players"
   ]
  },
  {
   "cell_type": "code",
   "execution_count": 46,
   "metadata": {},
   "outputs": [],
   "source": [
    "df_player_book = df_player_summary_book"
   ]
  },
  {
   "cell_type": "code",
   "execution_count": 47,
   "metadata": {},
   "outputs": [],
   "source": [
    "df_player_book = (\n",
    "    df_player_book.alias(\"p\")\n",
    "    .join(df_team_summary_book.alias(\"t\"), \n",
    "          (col(\"p.matchId\") == col(\"t.matchId\")) & \n",
    "          (col(\"p.teamId\") == col(\"t.teamId\")),\n",
    "          \"inner\")\n",
    "    .select(\n",
    "        col(\"p.*\"),\n",
    "        col(\"t.hasWon\"),\n",
    "        col(\"t.roundsWonValue\"),\n",
    "        col(\"t.roundslostValue\"),\n",
    "        col(\"t.scoreValue\").alias(\"teamScoreValue\"),\n",
    "        col(\"t.killsValue\").alias(\"teamKillsValue\"),\n",
    "        col(\"t.deathsValue\").alias(\"teamDeathsValue\"),\n",
    "        col(\"t.assistsValue\").alias(\"teamAssistsValue\"),\n",
    "        col(\"t.damageValue\").alias(\"teamDamageValue\")\n",
    "    )\n",
    ")"
   ]
  },
  {
   "cell_type": "code",
   "execution_count": 48,
   "metadata": {},
   "outputs": [],
   "source": [
    "df_player_book = (\n",
    "    df_player_book.alias(\"p\")\n",
    "    .join(df_player_round_book.alias(\"t\"), \n",
    "          (col(\"p.matchId\") == col(\"t.matchId\")) & \n",
    "          (col(\"p.platformUserIdentifier\") == col(\"t.platformUserIdentifier\")),\n",
    "          \"inner\")\n",
    "    .groupBy(\"p.matchId\", \"p.platformUserIdentifier\")\n",
    "    .agg(\n",
    "        sum(\"t.spentCredits\").alias(\"totalSpentCredits\"),\n",
    "        count(\"t.round\").alias(\"totalRounds\")\n",
    "\n",
    "    )\n",
    "    .join(df_player_book, [\"matchId\", \"platformUserIdentifier\"], \"inner\")\n",
    ")"
   ]
  },
  {
   "cell_type": "code",
   "execution_count": 49,
   "metadata": {},
   "outputs": [],
   "source": [
    "df_player_book = (\n",
    "    df_player_book.alias(\"p\")\n",
    "    .join(df_player_round_kills_book.alias(\"t\"), \n",
    "          (col(\"p.matchId\") == col(\"t.matchId\")) & \n",
    "          (col(\"p.platformUserIdentifier\") == col(\"t.platformUserIdentifier\")),\n",
    "          \"inner\")\n",
    "    .groupBy(\"p.matchId\", \"p.platformUserIdentifier\", \"t.weaponName\")\n",
    "    .agg(\n",
    "        count(\"t.weaponName\").alias(\"totalKillsWeaponName\")\n",
    "    )\n",
    "    .join(df_player_book, [\"matchId\", \"platformUserIdentifier\"], \"inner\")\n",
    ")"
   ]
  },
  {
   "cell_type": "code",
   "execution_count": 50,
   "metadata": {},
   "outputs": [],
   "source": [
    "df_player_round_kills_book_aux = df_player_round_kills_book.groupBy(\"matchId\", \"platformUserIdentifier\", \"weaponName\") \\\n",
    "    .agg(count(\"weaponName\").alias(\"totalKillsWeaponName\"))\n",
    "\n",
    "df_player_book_aux = df_player_book.alias(\"p\") \\\n",
    "    .join(df_player_round_kills_book_aux.alias(\"t\"),\n",
    "          (col(\"p.matchId\") == col(\"t.matchId\")) &\n",
    "          (col(\"p.platformUserIdentifier\") == col(\"t.platformUserIdentifier\")),\n",
    "          \"inner\") \\\n",
    "    .groupBy(\"p.matchId\", \"p.platformUserIdentifier\") \\\n",
    "    .agg(\n",
    "        max(col(\"t.weaponName\")).alias(\"weaponName\"),\n",
    "        max(col(\"t.totalKillsWeaponName\")).alias(\"maxTotalKillsWeaponName\")\n",
    "    )"
   ]
  },
  {
   "cell_type": "code",
   "execution_count": 51,
   "metadata": {},
   "outputs": [],
   "source": [
    "df_player_book = df_player_book.drop(\"weaponName\", \"totalKillsWeaponName\")\n",
    "df_player_book = df_player_book.dropDuplicates([\"matchId\", \"platformUserIdentifier\"])"
   ]
  },
  {
   "cell_type": "code",
   "execution_count": 52,
   "metadata": {},
   "outputs": [],
   "source": [
    "df_player_book = (\n",
    "    df_player_book.alias(\"p\")\n",
    "    .join(df_player_book_aux.alias(\"t\"), \n",
    "          (col(\"p.matchId\") == col(\"t.matchId\")) & \n",
    "          (col(\"p.platformUserIdentifier\") == col(\"t.platformUserIdentifier\")),\n",
    "          \"inner\")\n",
    "          .select(\"p.*\", \"t.weaponName\", \"maxTotalKillsWeaponName\")\n",
    "    )"
   ]
  },
  {
   "cell_type": "code",
   "execution_count": 53,
   "metadata": {},
   "outputs": [],
   "source": [
    "df_player_book = (\n",
    "    df_player_book.alias(\"p\")\n",
    "    .join(df_matches_summary_book.alias(\"t\"), \n",
    "          (col(\"p.matchId\") == col(\"t.matchId\")),\n",
    "          \"inner\")\n",
    "          .select(\"p.*\",\n",
    "                   \"t.isAvailable\",\n",
    "                   \"t.timestamp\",\n",
    "                   \"t.seasonName\",\n",
    "                   \"t.mapName\",\n",
    "                   \"t.playtimeValue\",\n",
    "                   \"t.result\"\n",
    "                   )\n",
    "    )"
   ]
  },
  {
   "cell_type": "code",
   "execution_count": 54,
   "metadata": {},
   "outputs": [],
   "source": [
    "df_player_book = (\n",
    "    df_player_book.alias(\"p\")\n",
    "    .join(df_match_metadata_data.alias(\"t\"), \n",
    "          (col(\"p.matchId\") == col(\"t.matchId\")),\n",
    "          \"inner\")\n",
    "          .select(\"p.*\",\n",
    "                   \"t.expiryDate\",\n",
    "                   \"t.modeKey\",\n",
    "                   \"t.modeName\",\n",
    "                   \"t.modeMaxRounds\",\n",
    "                   \"t.duration\",\n",
    "                   \"t.dateStarted\",\n",
    "                   )\n",
    "    )"
   ]
  },
  {
   "cell_type": "code",
   "execution_count": 55,
   "metadata": {},
   "outputs": [],
   "source": [
    "total_players_per_matches =(\n",
    "     df_player_book\n",
    "        .groupBy('matchId')\n",
    "        .agg(count(col('platformUserIdentifier'))\n",
    "             .alias('totalPlayersMatch'))\n",
    "             )"
   ]
  },
  {
   "cell_type": "code",
   "execution_count": 56,
   "metadata": {},
   "outputs": [],
   "source": [
    "df_player_book = (\n",
    "    df_player_book.alias(\"p\")\n",
    "    .join(total_players_per_matches.alias(\"t\"), \n",
    "          (col(\"p.matchId\") == col(\"t.matchId\")),\n",
    "          \"inner\")\n",
    "          .select(\"p.*\",\n",
    "                  \"t.totalPlayersMatch\")\n",
    ")"
   ]
  },
  {
   "cell_type": "code",
   "execution_count": 57,
   "metadata": {},
   "outputs": [],
   "source": [
    "total_players_per_matches =(\n",
    "     df_player_book\n",
    "        .groupBy('matchId', 'teamId')\n",
    "        .agg(count(col('teamId'))\n",
    "             .alias('totalPlayersTeam'))\n",
    "             )"
   ]
  },
  {
   "cell_type": "code",
   "execution_count": 58,
   "metadata": {},
   "outputs": [],
   "source": [
    "df_player_book = (\n",
    "    df_player_book.alias(\"p\")\n",
    "    .join(total_players_per_matches.alias(\"t\"), \n",
    "          (col(\"p.matchId\") == col(\"t.matchId\")) & (col(\"p.teamId\") == col(\"t.teamId\")),\n",
    "          \"inner\")\n",
    "    .select(\"p.*\",\"t.totalPlayersTeam\")\n",
    ")"
   ]
  },
  {
   "cell_type": "code",
   "execution_count": 59,
   "metadata": {},
   "outputs": [],
   "source": [
    "df_player_book = df_player_book.withColumn(\"dateMatch\", expr(\"date(timestamp)\"))\n",
    "df_player_book = df_player_book.withColumn(\"hourMatch\", expr(\"hour(timestamp)\"))\n",
    "df_player_book = df_player_book.withColumn(\"minutesMatch\", expr(\"minute(timestamp)\"))"
   ]
  },
  {
   "cell_type": "code",
   "execution_count": 60,
   "metadata": {},
   "outputs": [],
   "source": [
    "to_minutes = udf(lambda x: round(x / 60, 2), StringType())\n",
    "to_hours = udf(lambda x: round(x / 3600, 2), StringType())"
   ]
  },
  {
   "cell_type": "code",
   "execution_count": 61,
   "metadata": {},
   "outputs": [],
   "source": [
    "df_player_book = df_player_book.withColumn(\"playtimeMinutesValue\", to_minutes(col(\"playtimeValue\")))\n",
    "df_player_book = df_player_book.withColumn(\"playtimeHoursValue\", to_hours(col(\"playtimeValue\")))"
   ]
  },
  {
   "cell_type": "code",
   "execution_count": 62,
   "metadata": {},
   "outputs": [],
   "source": [
    "df_player_book = df_player_book.withColumn(\"weekDayNumber\", dayofweek(col(\"dateMatch\")))\n",
    "df_player_book = df_player_book.withColumn(\"weekDay\", date_format(col(\"dateMatch\"), \"EEEE\"))"
   ]
  },
  {
   "cell_type": "code",
   "execution_count": 63,
   "metadata": {},
   "outputs": [],
   "source": [
    "df_player_book = (\n",
    "    df_player_book\n",
    "        .withColumn(\"rankNumberValue\",\n",
    "                    when(col(\"rankValue\") == \"Unranked\", 1)\n",
    "                    .when(col(\"rankValue\") == \"Iron 1\", 2)\n",
    "                    .when(col(\"rankValue\") == \"Iron 2\", 3)\n",
    "                    .when(col(\"rankValue\") == \"Iron 3\", 4)\n",
    "                    .when(col(\"rankValue\") == \"Bronze 1\", 5)\n",
    "                    .when(col(\"rankValue\") == \"Bronze 2\", 6)\n",
    "                    .when(col(\"rankValue\") == \"Bronze 3\", 7)\n",
    "                    .when(col(\"rankValue\") == \"Silver 1\", 8)\n",
    "                    .when(col(\"rankValue\") == \"Silver 2\", 9)\n",
    "                    .when(col(\"rankValue\") == \"Silver 3\", 10)\n",
    "                    .when(col(\"rankValue\") == \"Gold 1\", 11)\n",
    "                    .when(col(\"rankValue\") == \"Gold 2\", 12)\n",
    "                    .when(col(\"rankValue\") == \"Gold 3\", 13)\n",
    "                    .when(col(\"rankValue\") == \"Platinum 1\", 14)\n",
    "                    .when(col(\"rankValue\") == \"Platinum 2\", 15)\n",
    "                    .when(col(\"rankValue\") == \"Platinum 3\", 16)\n",
    "                    .when(col(\"rankValue\") == \"Diamond 1\", 17)\n",
    "                    .when(col(\"rankValue\") == \"Diamond 2\", 18)\n",
    "                    .when(col(\"rankValue\") == \"Diamond 3\", 19)\n",
    "                    .when(col(\"rankValue\") == \"Immortal 1\", 20)\n",
    "                    .when(col(\"rankValue\") == \"Immortal 2\", 21)\n",
    "                    .when(col(\"rankValue\") == \"Immortal 3\", 22)\n",
    "                    .when(col(\"rankValue\") == \"Radiant 1\", 23)\n",
    "                    .when(col(\"rankValue\") == \"Radiant 2\", 24)\n",
    "                    .when(col(\"rankValue\") == \"Radiant 3\", 25)\n",
    "                                    .otherwise(0)))"
   ]
  },
  {
   "cell_type": "code",
   "execution_count": 64,
   "metadata": {},
   "outputs": [],
   "source": [
    "df_player_book = (\n",
    "    df_player_book\n",
    "        .withColumn(\"currRankNumberValue\",\n",
    "                    when(col(\"currRankValue\") == \"Unranked\", 1)\n",
    "                    .when(col(\"currRankValue\") == \"Iron 1\", 2)\n",
    "                    .when(col(\"currRankValue\") == \"Iron 2\", 3)\n",
    "                    .when(col(\"currRankValue\") == \"Iron 3\", 4)\n",
    "                    .when(col(\"currRankValue\") == \"Bronze 1\", 5)\n",
    "                    .when(col(\"currRankValue\") == \"Bronze 2\", 6)\n",
    "                    .when(col(\"currRankValue\") == \"Bronze 3\", 7)\n",
    "                    .when(col(\"currRankValue\") == \"Silver 1\", 8)\n",
    "                    .when(col(\"currRankValue\") == \"Silver 2\", 9)\n",
    "                    .when(col(\"currRankValue\") == \"Silver 3\", 10)\n",
    "                    .when(col(\"currRankValue\") == \"Gold 1\", 11)\n",
    "                    .when(col(\"currRankValue\") == \"Gold 2\", 12)\n",
    "                    .when(col(\"currRankValue\") == \"Gold 3\", 13)\n",
    "                    .when(col(\"currRankValue\") == \"Platinum 1\", 14)\n",
    "                    .when(col(\"currRankValue\") == \"Platinum 2\", 15)\n",
    "                    .when(col(\"currRankValue\") == \"Platinum 3\", 16)\n",
    "                    .when(col(\"currRankValue\") == \"Diamond 1\", 17)\n",
    "                    .when(col(\"currRankValue\") == \"Diamond 2\", 18)\n",
    "                    .when(col(\"currRankValue\") == \"Diamond 3\", 19)\n",
    "                    .when(col(\"currRankValue\") == \"Immortal 1\", 20)\n",
    "                    .when(col(\"currRankValue\") == \"Immortal 2\", 21)\n",
    "                    .when(col(\"currRankValue\") == \"Immortal 3\", 22)\n",
    "                    .when(col(\"currRankValue\") == \"Radiant 1\", 23)\n",
    "                    .when(col(\"currRankValue\") == \"Radiant 2\", 24)\n",
    "                    .when(col(\"currRankValue\") == \"Radiant 3\", 25)\n",
    "                                    .otherwise(0)))"
   ]
  },
  {
   "cell_type": "code",
   "execution_count": 65,
   "metadata": {},
   "outputs": [],
   "source": [
    "df_player_book = (\n",
    "    df_player_book\n",
    "        .withColumn(\"teamNumberId\",\n",
    "                    when(col(\"teamId\") == \"Red\", 1)\n",
    "                    .when(col(\"teamId\") == \"Blue\", 2)\n",
    "                                    .otherwise(0)))"
   ]
  },
  {
   "cell_type": "code",
   "execution_count": 66,
   "metadata": {},
   "outputs": [],
   "source": [
    "df_player_book = (\n",
    "    df_player_book\n",
    "        .withColumn(\"teamNumberId\",\n",
    "                    when(col(\"teamId\") == \"Red\", 1)\n",
    "                    .when(col(\"teamId\") == \"Blue\", 2)\n",
    "                                    .otherwise(0)))"
   ]
  },
  {
   "cell_type": "code",
   "execution_count": 67,
   "metadata": {},
   "outputs": [],
   "source": [
    "df_player_book = (\n",
    "    df_player_book\n",
    "        .withColumn(\"agentNameNumber\",\n",
    "                    when(col(\"agentName\") == \"Astra\", 1)\n",
    "                    .when(col(\"agentName\") == \"Phoenix\", 2)\n",
    "                    .when(col(\"agentName\") == \"Raze\", 3)\n",
    "                    .when(col(\"agentName\") == \"Harbor\", 4)\n",
    "                    .when(col(\"agentName\") == \"Gekko\", 5)\n",
    "                    .when(col(\"agentName\") == \"Reyna\", 6)\n",
    "                    .when(col(\"agentName\") == \"Neon\", 7)\n",
    "                    .when(col(\"agentName\") == \"Breach\", 8)\n",
    "                    .when(col(\"agentName\") == \"Sova\", 9)\n",
    "                    .when(col(\"agentName\") == \"Killjoy\", 10)\n",
    "                    .when(col(\"agentName\") == \"Sage\", 11)\n",
    "                    .when(col(\"agentName\") == \"Cypher\", 12)\n",
    "                    .when(col(\"agentName\") == \"Yoru\", 13)\n",
    "                    .when(col(\"agentName\") == \"Skye\", 14)\n",
    "                    .when(col(\"agentName\") == \"Brimstone\", 15)\n",
    "                    .when(col(\"agentName\") == \"Fade\", 16)\n",
    "                    .when(col(\"agentName\") == \"Chamber\", 17)\n",
    "                    .when(col(\"agentName\") == \"KAY/O\", 18)\n",
    "                    .when(col(\"agentName\") == \"Omen\", 19)\n",
    "                    .when(col(\"agentName\") == \"Jett\", 20)\n",
    "                                    .otherwise(0)))"
   ]
  },
  {
   "cell_type": "code",
   "execution_count": 68,
   "metadata": {},
   "outputs": [],
   "source": [
    "df_player_book = (\n",
    "    df_player_book\n",
    "        .withColumn(\"resultNumber\",\n",
    "                    when(col(\"result\") == \"tied\", 1)\n",
    "                    .when(col(\"result\") == \"victory\", 2)\n",
    "                    .when(col(\"result\") == \"defeat\", 3)\n",
    "                    .otherwise(0)))"
   ]
  },
  {
   "cell_type": "code",
   "execution_count": 69,
   "metadata": {},
   "outputs": [],
   "source": [
    "df_player_book = (\n",
    "    df_player_book\n",
    "        .withColumn(\"weaponNameNumber\",\n",
    "                    when(col(\"weaponName\") == \"Phantom\", 1)\n",
    "                    .when(col(\"weaponName\") == \"Vandal\", 2)\n",
    "                    .when(col(\"weaponName\") == \"Sheriff\", 3)\n",
    "                    .when(col(\"weaponName\") == \"Operator\", 4)\n",
    "                    .when(col(\"weaponName\") == \"Ghost\", 5)\n",
    "                    .when(col(\"weaponName\") == \"Marshal\", 6)\n",
    "                    .when(col(\"weaponName\") == \"Spectre\", 7)\n",
    "                    .when(col(\"weaponName\") == \"Shorty\", 8)\n",
    "                    .when(col(\"weaponName\") == \"Stinger\", 9)\n",
    "                    .when(col(\"weaponName\") == \"Guardian\", 10)\n",
    "                    .when(col(\"weaponName\") == \"Judge\", 11)\n",
    "                    .when(col(\"weaponName\") == \"Ares\", 12)\n",
    "                    .when(col(\"weaponName\") == \"Classic\", 13)\n",
    "                    .when(col(\"weaponName\") == \"Odin\", 14)\n",
    "                    .otherwise(0)))"
   ]
  },
  {
   "cell_type": "code",
   "execution_count": 70,
   "metadata": {},
   "outputs": [],
   "source": [
    "df_player_book = (\n",
    "    df_player_book\n",
    "        .withColumn(\"isAvailableNumber\",\n",
    "                    when(col(\"isAvailable\") == \"true\", 1)\n",
    "                    .when(col(\"isAvailable\") == \"false\", 2)\n",
    "                    .otherwise(0)))"
   ]
  },
  {
   "cell_type": "code",
   "execution_count": 71,
   "metadata": {},
   "outputs": [],
   "source": [
    "df_player_book = (\n",
    "    df_player_book\n",
    "        .withColumn(\"mapNameNumber\",\n",
    "                    when(col(\"mapName\") == \"Ascent\", 1)\n",
    "                    .when(col(\"mapName\") == \"Split\", 2)\n",
    "                    .when(col(\"mapName\") == \"Haven\", 3)\n",
    "                    .when(col(\"mapName\") == \"Fracture\", 4)\n",
    "                    .when(col(\"mapName\") == \"Breeze\", 5)\n",
    "                    .when(col(\"mapName\") == \"Pearl\", 6)\n",
    "                    .when(col(\"mapName\") == \"Icebox\", 7)\n",
    "                    .when(col(\"mapName\") == \"Lotus\", 8)\n",
    "                    .when(col(\"mapName\") == \"Bind\", 9)\n",
    "                    .otherwise(0)))"
   ]
  },
  {
   "cell_type": "code",
   "execution_count": 72,
   "metadata": {},
   "outputs": [],
   "source": [
    "df_player_book = (\n",
    "    df_player_book\n",
    "        .withColumn(\"modeKeyNumber\",\n",
    "                    when(col(\"modeKey\") == \"bomb\", 1)\n",
    "                    .otherwise(0)))"
   ]
  },
  {
   "cell_type": "code",
   "execution_count": 73,
   "metadata": {},
   "outputs": [],
   "source": [
    "df_player_book = (\n",
    "    df_player_book\n",
    "        .withColumn(\"modeNameNumber\",\n",
    "                    when(col(\"modeName\") == \"Competitive\", 1)\n",
    "                    .otherwise(0)))"
   ]
  },
  {
   "cell_type": "code",
   "execution_count": 74,
   "metadata": {},
   "outputs": [],
   "source": [
    "df_player_abt = (\n",
    "       df_player_book\n",
    "              .select(\n",
    "                     'matchId',\n",
    "                     'platformUserIdentifier',\n",
    "                     'totalSpentCredits',\n",
    "                     (col('totalSpentCredits') / col('totalRounds')).cast('int').alias('avgSpentCredits'),\n",
    "                     'totalRounds',\n",
    "                     'scoreValue',\n",
    "                     'scorePerRoundValue',\n",
    "                     (col('scoreValue') / col('totalRounds')).cast('int').alias('avgScoreValue'),\n",
    "                     'killsPerRoundValue',\n",
    "                     'killsValue',\n",
    "                     (col('killsValue') / col('totalRounds')).cast('int').alias('avgKillsValue'),\n",
    "                     'deathsValue',\n",
    "                     (col('deathsValue') / col('totalRounds')).cast('int').alias('avgDeathsValue'),\n",
    "                     'assistsValue',\n",
    "                     (col('assistsValue') / col('totalRounds')).cast('int').alias('avgAssistsValue'),\n",
    "                     'kdRatioValue',\n",
    "                     'damageValue',\n",
    "                     'damagePerRoundValue',\n",
    "                     (col('damageValue') / col('totalRounds')).cast('int').alias('avgDamageValue'),\n",
    "                     'damageDeltaPerRoundValue',\n",
    "                     'singleKillsValue',\n",
    "                     'doubleKillsValue',\n",
    "                     'tripleKillsValue',\n",
    "                     'quadraKillsValue',\n",
    "                     'pentaKillsValue',\n",
    "                     'multiKillsValue',\n",
    "                     'grenadeCastsValue',\n",
    "                     'grenadeCastsPerRoundValue',\n",
    "                     (col('grenadeCastsValue') / col('totalRounds')).cast('int').alias('avgGrenadeCastsValue'),\n",
    "                     'ability1CastsValue',\n",
    "                     (col('ability1CastsValue') / col('totalRounds')).cast('int').alias('avgAbility1CastsValue'),\n",
    "                     'ability2CastsValue',\n",
    "                     'ability2CastsPerRoundValue',\n",
    "                     (col('ability2CastsValue') / col('totalRounds')).cast('int').alias('avgAbility2CastsValue'),\n",
    "                     'ultimateCastsValue',\n",
    "                     'ultimateCastsPerRoundValue',\n",
    "                     (col('ultimateCastsValue') / col('totalRounds')).cast('int').alias('avgUltimateCastsValue'),\n",
    "                     'plantsValue',\n",
    "                     (col('plantsValue') / col('totalRounds')).cast('int').alias('avgPlantsValue'),\n",
    "                     'defusesValue',\n",
    "                     (col('defusesValue') / col('totalRounds')).cast('int').alias('avgDefusesValue'),\n",
    "                     'firstKillsValue',\n",
    "                     'firstKillsPerRoundValue',\n",
    "                     'firstDeathsPerRoundValue',\n",
    "                     (col('firstKillsValue') / col('totalRounds')).cast('int').alias('avgFirstKillsValue'),\n",
    "                     'firstDeathsValue',\n",
    "                     (col('firstDeathsValue') / col('totalRounds')).cast('int').alias('avgFirstDeathsValue'),\n",
    "                     'esrValue',\n",
    "                     (col('esrValue') / col('totalRounds')).cast('int').alias('avgEsrValue'),\n",
    "                     'econRatingValue',\n",
    "                     (col('econRatingValue') / col('totalRounds')).cast('int').alias('avgEconRatingValue'),\n",
    "                     'hsAccuracyValue',\n",
    "                     'KastValue',\n",
    "                     (col('KastValue') / col('totalRounds')).cast('int').alias('avgKastValue'),\n",
    "                     'clutchesValue',\n",
    "                     (col('clutchesValue') / col('totalRounds')).cast('int').alias('avgClutchesValue'),\n",
    "                     'roundsWinPctValue',\n",
    "                     'trnPerformanceScoreValue',\n",
    "                     (col('trnPerformanceScoreValue') / col('totalRounds')).cast('int').alias('avgTrnPerformanceScoreValue'),\n",
    "                     'partyId',\n",
    "                     'roundsWonValue',\n",
    "                     'roundslostValue',\n",
    "                     'teamScoreValue',\n",
    "                     (col('teamScoreValue') / col('totalRounds')).cast('int').alias('avgTeamScoreValue'),\n",
    "                     'teamKillsValue',\n",
    "                     (col('teamKillsValue') / col('totalRounds')).cast('int').alias('avgTeamKillsValue'),\n",
    "                     'teamDeathsValue',\n",
    "                     (col('teamDeathsValue') / col('totalRounds')).cast('int').alias('avgTeamDeathsValue'),\n",
    "                     'teamAssistsValue',\n",
    "                     (col('teamAssistsValue') / col('totalRounds')).cast('int').alias('avgTeamAssistsValue'),\n",
    "                     'teamDamageValue',\n",
    "                     (col('teamDamageValue') / col('totalRounds')).cast('int').alias('avgTeamDamageValue'),\n",
    "                     'weaponNameNumber',\n",
    "                     'maxTotalKillsWeaponName',\n",
    "                     'isAvailableNumber',\n",
    "                     'mapNameNumber',\n",
    "                     'modeKeyNumber',\n",
    "                     'modeNameNumber',\n",
    "                     'modeMaxRounds',\n",
    "                     'dateStarted',\n",
    "                     'dateMatch',\n",
    "                     'hourMatch',\n",
    "                     'minutesMatch',\n",
    "                     'playtimeMinutesValue',\n",
    "                     'playtimeHoursValue',\n",
    "                     'weekDayNumber',\n",
    "                     'teamNumberId',\n",
    "                     'agentNameNumber',\n",
    "                     'resultNumber',\n",
    "                     'weaponNameNumber',\n",
    "                     'totalPlayersMatch',\n",
    "                     'totalPlayersTeam')\n",
    "                     )"
   ]
  },
  {
   "cell_type": "code",
   "execution_count": 75,
   "metadata": {},
   "outputs": [],
   "source": [
    "df_player_book =(\n",
    "                    df_player_book\n",
    "                        .withColumnRenamed('matchId', 'match_id') \n",
    "                        .withColumnRenamed('platformUserIdentifier', 'platform_user_identifier') \n",
    "                        .withColumnRenamed('totalSpentCredits', 'total_spent_credits') \n",
    "                        .withColumnRenamed('totalRounds', 'total_rounds') \n",
    "                        .withColumnRenamed('rankValue', 'rank_value') \n",
    "                        .withColumnRenamed('currRankValue', 'current_rank_value') \n",
    "                        .withColumnRenamed('scoreValue', 'score_value') \n",
    "                        .withColumnRenamed('scorePerRoundValue', 'score_per_round_value') \n",
    "                        .withColumnRenamed('killsPerRoundValue', 'kills_per_round_value') \n",
    "                        .withColumnRenamed('killsValue', 'kills_value') \n",
    "                        .withColumnRenamed('deathsValue', 'deaths_value') \n",
    "                        .withColumnRenamed('assistsValue', 'assists_value') \n",
    "                        .withColumnRenamed('kdRatioValue', 'kd_ratio_value') \n",
    "                        .withColumnRenamed('damageValue', 'damage_value') \n",
    "                        .withColumnRenamed('damagePerRoundValue', 'damage_per_round_value') \n",
    "                        .withColumnRenamed('damageDeltaPerRoundValue', 'damage_delta_per_round_value') \n",
    "                        .withColumnRenamed('singleKillsValue', 'single_kills_value') \n",
    "                        .withColumnRenamed('doubleKillsValue', 'double_kills_value') \n",
    "                        .withColumnRenamed('tripleKillsValue', 'triple_kills_value') \n",
    "                        .withColumnRenamed('quadraKillsValue', 'quadra_kills_value') \n",
    "                        .withColumnRenamed('pentaKillsValue', 'penta_kills_value') \n",
    "                        .withColumnRenamed('multiKillsValue', 'multi_kills_value') \n",
    "                        .withColumnRenamed('grenadeCastsValue', 'grenade_casts_value') \n",
    "                        .withColumnRenamed('ability1CastsValue', 'ability1_casts_value') \n",
    "                        .withColumnRenamed('ability2CastsValue', 'ability2_casts_value') \n",
    "                        .withColumnRenamed('ultimateCastsValue', 'ultimate_casts_value') \n",
    "                        .withColumnRenamed('grenadeCastsPerRoundValue', 'grenade_casts_per_round_value') \n",
    "                        .withColumnRenamed('ability1CastsPerRoundValue', 'ability1_casts_per_round_value') \n",
    "                        .withColumnRenamed('ability2CastsPerRoundValue', 'ability2_casts_per_round_value') \n",
    "                        .withColumnRenamed('ultimateCastsPerRoundValue', 'ultimate_casts_per_round_value') \n",
    "                        .withColumnRenamed('plantsValue', 'plants_value') \n",
    "                        .withColumnRenamed('defusesValue', 'defuses_value') \n",
    "                        .withColumnRenamed('firstKillsValue', 'first_kills_value') \n",
    "                        .withColumnRenamed('firstDeathsValue', 'first_deaths_value') \n",
    "                        .withColumnRenamed('esrValue', 'esr_value') \n",
    "                        .withColumnRenamed('firstKillsPerRoundValue', 'first_kills_per_round_value') \n",
    "                        .withColumnRenamed('firstDeathsPerRoundValue', 'first_deaths_per_round_value') \n",
    "                        .withColumnRenamed('econRatingValue', 'econ_rating_value') \n",
    "                        .withColumnRenamed('hsAccuracyValue', 'hs_accuracy_value') \n",
    "                        .withColumnRenamed('KastValue', 'kast_value') \n",
    "                        .withColumnRenamed('clutchesValue', 'clutches_value') \n",
    "                        .withColumnRenamed('roundsWinPctValue', 'rounds_win_pct_value') \n",
    "                        .withColumnRenamed('trnPerformanceScoreValue', 'trn_performance_score_value') \n",
    "                        .withColumnRenamed('partyId', 'party_id') \n",
    "                        .withColumnRenamed('teamId', 'team_id') \n",
    "                        .withColumnRenamed('agentName', 'agent_name') \n",
    "                        .withColumnRenamed('hasWon', 'has_won') \n",
    "                        .withColumnRenamed('roundsWonValue', 'rounds_won_value') \n",
    "                        .withColumnRenamed('roundslostValue', 'rounds_lost_value') \n",
    "                        .withColumnRenamed('teamScoreValue', 'team_score_value') \n",
    "                        .withColumnRenamed('teamKillsValue', 'team_kills_value') \n",
    "                        .withColumnRenamed('teamDeathsValue', 'team_deaths_value') \n",
    "                        .withColumnRenamed('teamAssistsValue', 'team_assists_value') \n",
    "                        .withColumnRenamed('teamDamageValue', 'team_damage_value') \n",
    "                        .withColumnRenamed('weaponName', 'weapon_name') \n",
    "                        .withColumnRenamed('maxTotalKillsWeaponName', 'max_total_kills_weapon_name') \n",
    "                        .withColumnRenamed('isAvailable', 'is_available') \n",
    "                        .withColumnRenamed('timestamp', 'timestamp') \n",
    "                        .withColumnRenamed('seasonName', 'season_name') \n",
    "                        .withColumnRenamed('mapName', 'map_name') \n",
    "                        .withColumnRenamed('playtimeValue', 'playtime_value') \n",
    "                        .withColumnRenamed('result', 'result') \n",
    "                        .withColumnRenamed('expiryDate', 'expiry_date') \n",
    "                        .withColumnRenamed('modeKey', 'mode_key') \n",
    "                        .withColumnRenamed('modeName', 'mode_name') \n",
    "                        .withColumnRenamed('modeMaxRounds', 'mode_max_rounds') \n",
    "                        .withColumnRenamed('duration', 'duration') \n",
    "                        .withColumnRenamed('dateStarted', 'date_started') \n",
    "                        .withColumnRenamed('dateMatch', 'date_match') \n",
    "                        .withColumnRenamed('hourMatch', 'hour_match') \n",
    "                        .withColumnRenamed('minutesMatch', 'minutes_match') \n",
    "                        .withColumnRenamed('playtimeMinutesValue', 'playtime_minutes_value') \n",
    "                        .withColumnRenamed('playtimeHoursValue', 'playtime_hours_value') \n",
    "                        .withColumnRenamed('weekDayNumber', 'week_day_number') \n",
    "                        .withColumnRenamed('weekDay', 'week_day') \n",
    "                        .withColumnRenamed('rankNumberValue', 'rank_number_value') \n",
    "                        .withColumnRenamed('currRankNumberValue', 'current_rank_number_value') \n",
    "                        .withColumnRenamed('teamNumberId', 'team_number_id') \n",
    "                        .withColumnRenamed('agentNameNumber', 'agent_name_number') \n",
    "                        .withColumnRenamed('resultNumber', 'result_number') \n",
    "                        .withColumnRenamed('weaponNameNumber', 'weapon_name_number') \n",
    "                        .withColumnRenamed('isAvailableNumber', 'is_available_number') \n",
    "                        .withColumnRenamed('mapNameNumber', 'map_name_number') \n",
    "                        .withColumnRenamed('modeKeyNumber', 'mode_key_number') \n",
    "                        .withColumnRenamed('modeNameNumber', 'mode_name_number')\n",
    "                        .withColumnRenamed('totalPlayersMatch', 'total_players_match')\n",
    "                        .withColumnRenamed('totalPlayersTeam', 'total_players_team')\n",
    ")"
   ]
  },
  {
   "cell_type": "code",
   "execution_count": 77,
   "metadata": {},
   "outputs": [
    {
     "name": "stderr",
     "output_type": "stream",
     "text": [
      "23/05/27 02:24:06 WARN TaskSetManager: Stage 11 contains a task of very large size (2644 KiB). The maximum recommended task size is 1000 KiB.\n",
      "23/05/27 02:24:06 WARN TaskSetManager: Stage 12 contains a task of very large size (10779 KiB). The maximum recommended task size is 1000 KiB.\n",
      "23/05/27 02:24:07 WARN TaskSetManager: Stage 13 contains a task of very large size (2644 KiB). The maximum recommended task size is 1000 KiB.\n",
      "23/05/27 02:24:08 WARN TaskSetManager: Stage 16 contains a task of very large size (10779 KiB). The maximum recommended task size is 1000 KiB.\n",
      "23/05/27 02:24:10 WARN TaskSetManager: Stage 19 contains a task of very large size (10779 KiB). The maximum recommended task size is 1000 KiB.\n",
      "                                                                                \r"
     ]
    },
    {
     "name": "stdout",
     "output_type": "stream",
     "text": [
      "Data was written to S3://s3-tcc-fia-valorant/valorant/refined/player-book/\n"
     ]
    }
   ],
   "source": [
    "save_dataframe_csv('s3-tcc-fia-valorant', 'valorant/refined/player-book/', 'player-book', df_player_book, '.csv')"
   ]
  },
  {
   "cell_type": "code",
   "execution_count": 78,
   "metadata": {},
   "outputs": [],
   "source": [
    "df_player_abt =(\n",
    "                    df_player_abt\n",
    "                        .withColumnRenamed('matchId', 'match_id') \n",
    "                        .withColumnRenamed('platformUserIdentifier', 'platform_user_identifier') \n",
    "                        .withColumnRenamed('totalSpentCredits', 'total_spent_credits') \n",
    "                        .withColumnRenamed('avgSpentCredits', 'avg_spent_credits') \n",
    "                        .withColumnRenamed('totalRounds', 'total_rounds') \n",
    "                        .withColumnRenamed('scoreValue', 'score_value') \n",
    "                        .withColumnRenamed('scorePerRoundValue', 'score_per_round_value') \n",
    "                        .withColumnRenamed('avgScoreValue', 'avg_score_value') \n",
    "                        .withColumnRenamed('killsPerRoundValue', 'kills_per_round_value') \n",
    "                        .withColumnRenamed('killsValue', 'kills_value') \n",
    "                        .withColumnRenamed('avgKillsValue', 'avg_kills_value') \n",
    "                        .withColumnRenamed('deathsValue', 'deaths_value') \n",
    "                        .withColumnRenamed('avgDeathsValue', 'avg_deaths_value') \n",
    "                        .withColumnRenamed('assistsValue', 'assists_value') \n",
    "                        .withColumnRenamed('avgAssistsValue', 'avg_assists_value') \n",
    "                        .withColumnRenamed('kdRatioValue', 'kd_ratio_value') \n",
    "                        .withColumnRenamed('damageValue', 'damage_value') \n",
    "                        .withColumnRenamed('damagePerRoundValue', 'damage_per_round_value') \n",
    "                        .withColumnRenamed('avgDamageValue', 'avg_damage_value') \n",
    "                        .withColumnRenamed('damageDeltaPerRoundValue', 'damage_delta_per_round_value') \n",
    "                        .withColumnRenamed('singleKillsValue', 'single_kills_value') \n",
    "                        .withColumnRenamed('doubleKillsValue', 'double_kills_value') \n",
    "                        .withColumnRenamed('tripleKillsValue', 'triple_kills_value') \n",
    "                        .withColumnRenamed('quadraKillsValue', 'quadra_kills_value') \n",
    "                        .withColumnRenamed('pentaKillsValue', 'penta_kills_value') \n",
    "                        .withColumnRenamed('multiKillsValue', 'multi_kills_value') \n",
    "                        .withColumnRenamed('grenadeCastsValue', 'grenade_casts_value') \n",
    "                        .withColumnRenamed('grenadeCastsPerRoundValue', 'grenade_casts_per_round_value') \n",
    "                        .withColumnRenamed('avgGrenadeCastsValue', 'avg_grenade_casts_value') \n",
    "                        .withColumnRenamed('ability1CastsValue', 'ability1_casts_value') \n",
    "                        .withColumnRenamed('avgAbility1CastsValue', 'avg_ability1_casts_value') \n",
    "                        .withColumnRenamed('ability2CastsValue', 'ability2_casts_value') \n",
    "                        .withColumnRenamed('ability2CastsPerRoundValue', 'ability2_casts_per_round_value') \n",
    "                        .withColumnRenamed('avgAbility2CastsValue', 'avg_ability2_casts_value') \n",
    "                        .withColumnRenamed('ultimateCastsValue', 'ultimate_casts_value') \n",
    "                        .withColumnRenamed('ultimateCastsPerRoundValue', 'ultimate_casts_per_round_value') \n",
    "                        .withColumnRenamed('avgUltimateCastsValue', 'avg_ultimate_casts_value') \n",
    "                        .withColumnRenamed('plantsValue', 'plants_value') \n",
    "                        .withColumnRenamed('avgPlantsValue', 'avg_plants_value') \n",
    "                        .withColumnRenamed('defusesValue', 'defuses_value') \n",
    "                        .withColumnRenamed('avgDefusesValue', 'avg_defuses_value') \n",
    "                        .withColumnRenamed('firstKillsValue', 'first_kills_value') \n",
    "                        .withColumnRenamed('firstKillsPerRoundValue', 'first_kills_per_round_value') \n",
    "                        .withColumnRenamed('firstDeathsPerRoundValue', 'first_deaths_per_round_value') \n",
    "                        .withColumnRenamed('avgFirstKillsValue', 'avg_first_kills_value') \n",
    "                        .withColumnRenamed('firstDeathsValue', 'first_deaths_value') \n",
    "                        .withColumnRenamed('avgFirstDeathsValue', 'avg_first_deaths_value') \n",
    "                        .withColumnRenamed('esrValue', 'esr_value') \n",
    "                        .withColumnRenamed('avgEsrValue', 'avg_esr_value') \n",
    "                        .withColumnRenamed('econRatingValue', 'econ_rating_value') \n",
    "                        .withColumnRenamed('avgEconRatingValue', 'avg_econ_rating_value') \n",
    "                        .withColumnRenamed('hsAccuracyValue', 'hs_accuracy_value') \n",
    "                        .withColumnRenamed('KastValue', 'kast_value') \n",
    "                        .withColumnRenamed('avgKastValue', 'avg_kast_value') \n",
    "                        .withColumnRenamed('clutchesValue', 'clutches_value') \n",
    "                        .withColumnRenamed('avgClutchesValue', 'avg_clutches_value') \n",
    "                        .withColumnRenamed('roundsWinPctValue', 'rounds_win_pct_value') \n",
    "                        .withColumnRenamed('trnPerformanceScoreValue', 'trn_performance_score_value') \n",
    "                        .withColumnRenamed('avgTrnPerformanceScoreValue', 'avg_trn_performance_score_value') \n",
    "                        .withColumnRenamed('partyId', 'party_id') \n",
    "                        .withColumnRenamed('roundsWonValue', 'rounds_won_value') \n",
    "                        .withColumnRenamed('roundslostValue', 'rounds_lost_value') \n",
    "                        .withColumnRenamed('teamScoreValue', 'team_score_value') \n",
    "                        .withColumnRenamed('avgTeamScoreValue', 'avg_team_score_value') \n",
    "                        .withColumnRenamed('teamKillsValue', 'team_kills_value') \n",
    "                        .withColumnRenamed('avgTeamKillsValue', 'avg_team_kills_value') \n",
    "                        .withColumnRenamed('teamDeathsValue', 'team_deaths_value') \n",
    "                        .withColumnRenamed('avgTeamDeathsValue', 'avg_team_deaths_value') \n",
    "                        .withColumnRenamed('teamAssistsValue', 'team_assists_value') \n",
    "                        .withColumnRenamed('avgTeamAssistsValue', 'avg_team_assists_value') \n",
    "                        .withColumnRenamed('teamDamageValue', 'team_damage_value') \n",
    "                        .withColumnRenamed('avgTeamDamageValue', 'avg_team_damage_value') \n",
    "                        .withColumnRenamed('weaponNameNumber', 'weapon_name_number') \n",
    "                        .withColumnRenamed('maxTotalKillsWeaponName', 'max_total_kills_weapon_name') \n",
    "                        .withColumnRenamed('isAvailableNumber', 'is_available_number') \n",
    "                        .withColumnRenamed('mapNameNumber', 'map_name_number') \n",
    "                        .withColumnRenamed('modeKeyNumber', 'mode_key_number') \n",
    "                        .withColumnRenamed('modeNameNumber', 'mode_name_number') \n",
    "                        .withColumnRenamed('modeMaxRounds', 'mode_max_rounds') \n",
    "                        .withColumnRenamed('dateStarted', 'date_started') \n",
    "                        .withColumnRenamed('dateMatch', 'date_match') \n",
    "                        .withColumnRenamed('hourMatch', 'hour_match') \n",
    "                        .withColumnRenamed('minutesMatch', 'minutes_match') \n",
    "                        .withColumnRenamed('playtimeMinutesValue', 'playtime_minutes_value') \n",
    "                        .withColumnRenamed('playtimeHoursValue', 'playtime_hours_value') \n",
    "                        .withColumnRenamed('weekDayNumber', 'week_day_number') \n",
    "                        .withColumnRenamed('teamNumberId', 'team_number_id') \n",
    "                        .withColumnRenamed('agentNameNumber', 'agent_name_number') \n",
    "                        .withColumnRenamed('resultNumber', 'result_number')\n",
    "                        .withColumnRenamed('weaponNameNumber', 'weapon_name_number')\n",
    "                        .withColumnRenamed('totalPlayersMatch', 'total_players_match')\n",
    "                        .withColumnRenamed('totalPlayersTeam', 'total_players_team')\n",
    ")"
   ]
  },
  {
   "cell_type": "code",
   "execution_count": 79,
   "metadata": {},
   "outputs": [
    {
     "name": "stderr",
     "output_type": "stream",
     "text": [
      "23/05/27 02:25:35 WARN TaskSetManager: Stage 87 contains a task of very large size (2644 KiB). The maximum recommended task size is 1000 KiB.\n",
      "23/05/27 02:25:35 WARN TaskSetManager: Stage 88 contains a task of very large size (10779 KiB). The maximum recommended task size is 1000 KiB.\n",
      "23/05/27 02:25:36 WARN TaskSetManager: Stage 89 contains a task of very large size (2644 KiB). The maximum recommended task size is 1000 KiB.\n",
      "23/05/27 02:25:37 WARN TaskSetManager: Stage 92 contains a task of very large size (10779 KiB). The maximum recommended task size is 1000 KiB.\n",
      "23/05/27 02:25:38 WARN TaskSetManager: Stage 95 contains a task of very large size (10779 KiB). The maximum recommended task size is 1000 KiB.\n",
      "                                                                                \r"
     ]
    },
    {
     "name": "stdout",
     "output_type": "stream",
     "text": [
      "Data was written to S3://s3-tcc-fia-valorant/valorant/refined/player-abt/\n"
     ]
    }
   ],
   "source": [
    "save_dataframe_csv('s3-tcc-fia-valorant', 'valorant/refined/player-abt/', 'player-abt', df_player_abt, '.csv')"
   ]
  },
  {
   "attachments": {},
   "cell_type": "markdown",
   "metadata": {},
   "source": [
    "## EDA"
   ]
  },
  {
   "cell_type": "code",
   "execution_count": 80,
   "metadata": {},
   "outputs": [],
   "source": [
    "df_player_book = create_dataframe('s3-tcc-fia-valorant', 'valorant/refined/player-book/')"
   ]
  },
  {
   "cell_type": "code",
   "execution_count": 81,
   "metadata": {},
   "outputs": [
    {
     "name": "stdout",
     "output_type": "stream",
     "text": [
      "+--------------------+------------------------+-------------------+------------+----------+------------------+-----------+---------------------+---------------------+-----------+------------+-------------+--------------+------------+----------------------+----------------------------+------------------+------------------+------------------+------------------+-----------------+-----------------+-------------------+--------------------+--------------------+--------------------+-----------------------------+------------------------------+------------------------------+------------------------------+------------+-------------+-----------------+------------------+---------+---------------------------+----------------------------+-----------------+-----------------+----------+--------------+--------------------+---------------------------+--------------------+-------+----------+-------+----------------+-----------------+----------------+----------------+-----------------+------------------+-----------------+-----------+---------------------------+------------+--------------------+-----------+--------+--------------+-------+--------------------+--------+-----------+---------------+--------+--------------------+-------------------+------------------+----------+----------+-------------+----------------------+--------------------+---------------+--------+-----------------+-------------------------+--------------+-----------------+-------------+------------------+-------------------+---------------+---------------+----------------+\n",
      "|            match_id|platform_user_identifier|total_spent_credits|total_rounds|rank_value|current_rank_value|score_value|score_per_round_value|kills_per_round_value|kills_value|deaths_value|assists_value|kd_ratio_value|damage_value|damage_per_round_value|damage_delta_per_round_value|single_kills_value|double_kills_value|triple_kills_value|quadra_kills_value|penta_kills_value|multi_kills_value|grenade_casts_value|ability1_casts_value|ability2_casts_value|ultimate_casts_value|grenade_casts_per_round_value|ability1_casts_per_round_value|ability2_casts_per_round_value|ultimate_casts_per_round_value|plants_value|defuses_value|first_kills_value|first_deaths_value|esr_value|first_kills_per_round_value|first_deaths_per_round_value|econ_rating_value|hs_accuracy_value|kast_value|clutches_value|rounds_win_pct_value|trn_performance_score_value|            party_id|team_id|agent_name|has_won|rounds_won_value|rounds_lost_value|team_score_value|team_kills_value|team_deaths_value|team_assists_value|team_damage_value|weapon_name|max_total_kills_weapon_name|is_available|           timestamp|season_name|map_name|playtime_value| result|         expiry_date|mode_key|  mode_name|mode_max_rounds|duration|        date_started|total_players_match|total_players_team|date_match|hour_match|minutes_match|playtime_minutes_value|playtime_hours_value|week_day_number|week_day|rank_number_value|current_rank_number_value|team_number_id|agent_name_number|result_number|weapon_name_number|is_available_number|map_name_number|mode_key_number|mode_name_number|\n",
      "+--------------------+------------------------+-------------------+------------+----------+------------------+-----------+---------------------+---------------------+-----------+------------+-------------+--------------+------------+----------------------+----------------------------+------------------+------------------+------------------+------------------+-----------------+-----------------+-------------------+--------------------+--------------------+--------------------+-----------------------------+------------------------------+------------------------------+------------------------------+------------+-------------+-----------------+------------------+---------+---------------------------+----------------------------+-----------------+-----------------+----------+--------------+--------------------+---------------------------+--------------------+-------+----------+-------+----------------+-----------------+----------------+----------------+-----------------+------------------+-----------------+-----------+---------------------------+------------+--------------------+-----------+--------+--------------+-------+--------------------+--------+-----------+---------------+--------+--------------------+-------------------+------------------+----------+----------+-------------+----------------------+--------------------+---------------+--------+-----------------+-------------------------+--------------+-----------------+-------------+------------------+-------------------+---------------+---------------+----------------+\n",
      "|01f95d78-c404-4c9...|            Makitori#BR1|            32550.0|          17|  Bronze 3|          Silver 3|       4282|    251.8823529411765|   0.9411764705882352|         16|          10|            2|           1.6|        2858|    168.11764705882354|                        59.0|                 5|                 4|                 1|                 0|                0|                1|               16.0|                 5.0|                 9.0|                 2.0|           0.9411764705882352|            0.2941176470588235|            0.5294117647058824|            0.1176470588235294|           1|            1|                3|                 0|    100.0|         0.1764705882352941|                         0.0|               89|27.27272727272727|      71.0|             1|   76.47058823529412|                        834|f6aa7b58-3bd2-4b3...|   Blue|   Chamber|   true|              13|                4|           20989|              75|               49|                27|            13406|     Vandal|                          8|        true|2022-10-21T20:09:...|     E5: A3|  Ascent|          1635|victory|2023-05-22T19:51:...|    bomb|Competitive|             25| 1635054|2022-10-21T20:09:...|                 10|                 5|2022-10-21|        20|            9|                 27.25|                0.45|              6|  Friday|                7|                       10|             2|               17|            2|                 2|                  1|              1|              1|               1|\n",
      "|01f95d78-c404-4c9...|      PiKaRoSaUrOReX#BR1|            39250.0|          17|  Bronze 2|          Silver 1|       2284|   134.35294117647058|   0.4117647058823529|          7|          16|            2|        0.4375|        1514|     89.05882352941177|           -80.6470588235294|                 5|                 1|                 0|                 0|                0|                0|               21.0|                 7.0|                 4.0|                 1.0|           1.2352941176470589|            0.4117647058823529|            0.2352941176470588|            0.0588235294117647|           3|            0|                0|                 4|      0.0|                        0.0|          0.2352941176470588|               38|8.695652173913043|      53.0|             0|   23.52941176470588|                          3|7c594090-9c27-48a...|    Red|     Reyna|  false|               4|               13|           15783|              49|               75|                16|            10454|     Vandal|                          2|        true|2022-10-21T20:09:...|     E5: A3|  Ascent|          1635|victory|2023-05-22T19:51:...|    bomb|Competitive|             25| 1635054|2022-10-21T20:09:...|                 10|                 5|2022-10-21|        20|            9|                 27.25|                0.45|              6|  Friday|                6|                        8|             1|                6|            2|                 2|                  1|              1|              1|               1|\n",
      "+--------------------+------------------------+-------------------+------------+----------+------------------+-----------+---------------------+---------------------+-----------+------------+-------------+--------------+------------+----------------------+----------------------------+------------------+------------------+------------------+------------------+-----------------+-----------------+-------------------+--------------------+--------------------+--------------------+-----------------------------+------------------------------+------------------------------+------------------------------+------------+-------------+-----------------+------------------+---------+---------------------------+----------------------------+-----------------+-----------------+----------+--------------+--------------------+---------------------------+--------------------+-------+----------+-------+----------------+-----------------+----------------+----------------+-----------------+------------------+-----------------+-----------+---------------------------+------------+--------------------+-----------+--------+--------------+-------+--------------------+--------+-----------+---------------+--------+--------------------+-------------------+------------------+----------+----------+-------------+----------------------+--------------------+---------------+--------+-----------------+-------------------------+--------------+-----------------+-------------+------------------+-------------------+---------------+---------------+----------------+\n",
      "only showing top 2 rows\n",
      "\n"
     ]
    }
   ],
   "source": [
    "df_player_book.show(2)"
   ]
  },
  {
   "attachments": {},
   "cell_type": "markdown",
   "metadata": {},
   "source": [
    "### Matches"
   ]
  },
  {
   "cell_type": "code",
   "execution_count": 82,
   "metadata": {},
   "outputs": [
    {
     "name": "stdout",
     "output_type": "stream",
     "text": [
      "We have a total of 298 matches.\n"
     ]
    }
   ],
   "source": [
    "total_matches = df_player_book.select('match_id').distinct().count()\n",
    "print(f\"We have a total of {total_matches} matches.\")"
   ]
  }
 ],
 "metadata": {
  "kernelspec": {
   "display_name": "base",
   "language": "python",
   "name": "python3"
  },
  "language_info": {
   "codemirror_mode": {
    "name": "ipython",
    "version": 3
   },
   "file_extension": ".py",
   "mimetype": "text/x-python",
   "name": "python",
   "nbconvert_exporter": "python",
   "pygments_lexer": "ipython3",
   "version": "3.10.6"
  },
  "orig_nbformat": 4
 },
 "nbformat": 4,
 "nbformat_minor": 2
}
