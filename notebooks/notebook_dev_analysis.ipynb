{
 "cells": [
  {
   "attachments": {},
   "cell_type": "markdown",
   "metadata": {},
   "source": [
    "# Data Analisys Valorant"
   ]
  },
  {
   "attachments": {},
   "cell_type": "markdown",
   "metadata": {},
   "source": [
    "## Initial Configs"
   ]
  },
  {
   "attachments": {},
   "cell_type": "markdown",
   "metadata": {},
   "source": [
    "### Imports"
   ]
  },
  {
   "cell_type": "code",
   "execution_count": 1,
   "metadata": {},
   "outputs": [],
   "source": [
    "import os\n",
    "from pyspark.sql import SparkSession\n",
    "from pyspark.sql.functions import avg, col, expr, count, sum, max, udf, dayofweek, date_format, when\n",
    "from pyspark.sql.types import StringType\n",
    "# from ..src.aws.aws import Aws\n",
    "import sys\n",
    "sys.path.append('../src/')\n",
    "from aws.aws import Aws\n",
    "import io\n",
    "import pandas as pd \n",
    "import boto3\n",
    "from datetime import datetime"
   ]
  },
  {
   "attachments": {},
   "cell_type": "markdown",
   "metadata": {},
   "source": [
    "### Creating a Spark Session"
   ]
  },
  {
   "cell_type": "code",
   "execution_count": 2,
   "metadata": {},
   "outputs": [],
   "source": [
    "spark = SparkSession.builder.appName(\"ValorantDataAnalysis\").getOrCreate()"
   ]
  },
  {
   "cell_type": "code",
   "execution_count": 3,
   "metadata": {},
   "outputs": [],
   "source": [
    "spark.conf.set(\"spark.hadoop.fs.s3a.impl\", \"org.apache.hadoop.fs.s3a.S3AFileSystem\")\n",
    "spark.conf.set(\"spark.hadoop.fs.s3a.access.key\", os.getenv('AWS_ACCESS_KEY_ID'))\n",
    "spark.conf.set(\"spark.hadoop.fs.s3a.secret.key\", os.getenv('AWS_SECRET_ACCESS_KEY'))"
   ]
  },
  {
   "attachments": {},
   "cell_type": "markdown",
   "metadata": {},
   "source": [
    "### Instantiating used classes"
   ]
  },
  {
   "cell_type": "code",
   "execution_count": 4,
   "metadata": {},
   "outputs": [],
   "source": [
    "aws = Aws()"
   ]
  },
  {
   "attachments": {},
   "cell_type": "markdown",
   "metadata": {},
   "source": [
    "## Load Dataframes"
   ]
  },
  {
   "attachments": {},
   "cell_type": "markdown",
   "metadata": {},
   "source": [
    "### Utils"
   ]
  },
  {
   "cell_type": "code",
   "execution_count": 5,
   "metadata": {},
   "outputs": [],
   "source": [
    "def get_files(bucket_name : str, folder_path : str) -> list:\n",
    "    \"\"\"\"\"\"\n",
    "    # objects = aws.list_objetcs_s3(bucket_name = 's3-tcc-fia-valorant', folder_path = 'valorant/raw/summary/matches/')\n",
    "    objects = aws.list_objetcs_s3(bucket_name, folder_path)\n",
    "\n",
    "\n",
    "    return objects"
   ]
  },
  {
   "cell_type": "code",
   "execution_count": 6,
   "metadata": {},
   "outputs": [],
   "source": [
    "def concat_files_s3(objects):\n",
    "    \"\"\"\"\"\"\n",
    "\n",
    "    json_files = [obj['Key'] for obj in objects]\n",
    "\n",
    "    for file in json_files:\n",
    "\n",
    "        response = aws.read_s3_v2(bucket_name='s3-tcc-fia-valorant', folder_path=file)\n",
    "        json_data = response['Body'].read().decode('utf-8')\n",
    "\n",
    "    return io.StringIO(json_data)"
   ]
  },
  {
   "cell_type": "code",
   "execution_count": 7,
   "metadata": {},
   "outputs": [],
   "source": [
    "def read_spark(data_io):\n",
    "    \"\"\"\"\"\"\n",
    "    data_io = pd.read_csv(data_io)\n",
    "    return spark.createDataFrame(data_io)"
   ]
  },
  {
   "cell_type": "code",
   "execution_count": 8,
   "metadata": {},
   "outputs": [],
   "source": [
    "def create_dataframe(bucket_name : str, folder_path : str):\n",
    "    \"\"\"\"\"\"\n",
    "    objects = get_files(bucket_name, folder_path)\n",
    "    data_io = concat_files_s3(objects)\n",
    "    df = read_spark(data_io)\n",
    "\n",
    "    return df"
   ]
  },
  {
   "cell_type": "code",
   "execution_count": 9,
   "metadata": {},
   "outputs": [],
   "source": [
    "def save_dataframe_csv(bucket_name, folder_path, file_name, data, file_format):\n",
    "    # Convert DataFrame to CSV string\n",
    "    csv_buffer = io.StringIO()\n",
    "    data.toPandas().to_csv(csv_buffer, index=False)\n",
    "\n",
    "    # Retrieve CSV data from buffer\n",
    "    csv_buffer_value = csv_buffer.getvalue()\n",
    "\n",
    "    date = datetime.now().strftime(\"%Y%m%d_%H%M%S\")\n",
    "    file_name = file_name + '_' + date + file_format\n",
    "    file_path = folder_path + file_name\n",
    "\n",
    "    # Write CSV string to S3\n",
    "    s3 = boto3.resource('s3')\n",
    "\n",
    "    try:\n",
    "        s3.Object(bucket_name, file_path).put(Body=csv_buffer_value)\n",
    "        print(f\"Data was written to S3://{bucket_name}/{folder_path}\")\n",
    "\n",
    "    except Exception as e:\n",
    "\n",
    "        print(f\"Error: {e}\")\n",
    "    \n",
    "        return False"
   ]
  },
  {
   "attachments": {},
   "cell_type": "markdown",
   "metadata": {},
   "source": [
    "### df_matches_summary_data"
   ]
  },
  {
   "cell_type": "code",
   "execution_count": 10,
   "metadata": {},
   "outputs": [],
   "source": [
    "df_matches_summary_data = create_dataframe('s3-tcc-fia-valorant', 'valorant/raw/summary/matches/')"
   ]
  },
  {
   "attachments": {},
   "cell_type": "markdown",
   "metadata": {},
   "source": [
    "### df_match_metadata_data"
   ]
  },
  {
   "cell_type": "code",
   "execution_count": 11,
   "metadata": {},
   "outputs": [],
   "source": [
    "df_match_metadata_data = create_dataframe('s3-tcc-fia-valorant', 'valorant/cleaned/details/metadata/')"
   ]
  },
  {
   "attachments": {},
   "cell_type": "markdown",
   "metadata": {},
   "source": [
    "### df_round_summary_data"
   ]
  },
  {
   "cell_type": "code",
   "execution_count": 12,
   "metadata": {},
   "outputs": [],
   "source": [
    "df_round_summary_data = create_dataframe('s3-tcc-fia-valorant', 'valorant/cleaned/details/round_summary/')"
   ]
  },
  {
   "attachments": {},
   "cell_type": "markdown",
   "metadata": {},
   "source": [
    "### df_player_summary_data"
   ]
  },
  {
   "cell_type": "code",
   "execution_count": 13,
   "metadata": {},
   "outputs": [],
   "source": [
    "df_player_summary_data = create_dataframe('s3-tcc-fia-valorant', 'valorant/cleaned/details/player_summary/')"
   ]
  },
  {
   "attachments": {},
   "cell_type": "markdown",
   "metadata": {},
   "source": [
    "### df_player_loadout_data"
   ]
  },
  {
   "cell_type": "code",
   "execution_count": 14,
   "metadata": {},
   "outputs": [],
   "source": [
    "df_player_loadout_data = create_dataframe('s3-tcc-fia-valorant', 'valorant/cleaned/details/player_loadout/')"
   ]
  },
  {
   "attachments": {},
   "cell_type": "markdown",
   "metadata": {},
   "source": [
    "### df_player_round_damage_data"
   ]
  },
  {
   "cell_type": "code",
   "execution_count": 15,
   "metadata": {},
   "outputs": [],
   "source": [
    "df_player_round_damage_data = create_dataframe('s3-tcc-fia-valorant', 'valorant/cleaned/details/player_round_damage/')"
   ]
  },
  {
   "attachments": {},
   "cell_type": "markdown",
   "metadata": {},
   "source": [
    "### df_player_round_kills_data"
   ]
  },
  {
   "cell_type": "code",
   "execution_count": 16,
   "metadata": {},
   "outputs": [],
   "source": [
    "df_player_round_kills_data = create_dataframe('s3-tcc-fia-valorant', 'valorant/cleaned/details/player_round_kills/')"
   ]
  },
  {
   "attachments": {},
   "cell_type": "markdown",
   "metadata": {},
   "source": [
    "### df_player_round_data"
   ]
  },
  {
   "cell_type": "code",
   "execution_count": 17,
   "metadata": {},
   "outputs": [],
   "source": [
    "df_player_round_data = create_dataframe('s3-tcc-fia-valorant', 'valorant/cleaned/details/player_round/')"
   ]
  },
  {
   "attachments": {},
   "cell_type": "markdown",
   "metadata": {},
   "source": [
    "### df_team_summary_data"
   ]
  },
  {
   "cell_type": "code",
   "execution_count": 18,
   "metadata": {},
   "outputs": [],
   "source": [
    "df_team_summary_data = create_dataframe('s3-tcc-fia-valorant', 'valorant/cleaned/details/team_summary/')"
   ]
  },
  {
   "attachments": {},
   "cell_type": "markdown",
   "metadata": {},
   "source": [
    "## Books"
   ]
  },
  {
   "attachments": {},
   "cell_type": "markdown",
   "metadata": {},
   "source": [
    "### Rename Columns"
   ]
  },
  {
   "attachments": {},
   "cell_type": "markdown",
   "metadata": {},
   "source": [
    "#### df_team_summary_data"
   ]
  },
  {
   "cell_type": "code",
   "execution_count": 19,
   "metadata": {},
   "outputs": [],
   "source": [
    "df_team_summary_data = df_team_summary_data.withColumnRenamed('RoundswonValue', 'roundsWonValue')\n",
    "df_team_summary_data = df_team_summary_data.withColumnRenamed('RoundslostValue', 'roundslostValue')\n",
    "df_team_summary_data = df_team_summary_data.withColumnRenamed('ScoreValue', 'scoreValue')\n",
    "df_team_summary_data = df_team_summary_data.withColumnRenamed('KillsValue', 'killsValue')\n",
    "df_team_summary_data = df_team_summary_data.withColumnRenamed('DeathsValue', 'deathsValue')\n",
    "df_team_summary_data = df_team_summary_data.withColumnRenamed('AssistsValue', 'assistsValue')\n",
    "df_team_summary_data = df_team_summary_data.withColumnRenamed('DamageValue', 'damageValue')"
   ]
  },
  {
   "attachments": {},
   "cell_type": "markdown",
   "metadata": {},
   "source": [
    "#### df_player_round_data"
   ]
  },
  {
   "cell_type": "code",
   "execution_count": 20,
   "metadata": {},
   "outputs": [],
   "source": [
    "df_player_round_data = df_player_round_data.withColumnRenamed('MatchId', 'matchId')\n",
    "df_player_round_data = df_player_round_data.withColumnRenamed('Round', 'round')\n",
    "df_player_round_data = df_player_round_data.withColumnRenamed('StatValue_Assists', 'assistsValue')\n",
    "df_player_round_data = df_player_round_data.withColumnRenamed('StatValue_Damage', 'damageValue')\n",
    "df_player_round_data = df_player_round_data.withColumnRenamed('StatValue_Deaths', 'deathsValue')\n",
    "df_player_round_data = df_player_round_data.withColumnRenamed('StatValue_Deaths', 'deathsValue')\n",
    "df_player_round_data = df_player_round_data.withColumnRenamed('StatValue_Kdratio', 'kdRatio')\n",
    "df_player_round_data = df_player_round_data.withColumnRenamed('StatValue_Kills', 'killsValue')\n",
    "df_player_round_data = df_player_round_data.withColumnRenamed('StatValue_Loadoutvalue', 'loadoutValue')\n",
    "df_player_round_data = df_player_round_data.withColumnRenamed('StatValue_Remainingcredits', 'remainingCredits')\n",
    "df_player_round_data = df_player_round_data.withColumnRenamed('StatValue_Score', 'scoreValue')\n",
    "df_player_round_data = df_player_round_data.withColumnRenamed('StatValue_Spentcredits', 'spentCredits')"
   ]
  },
  {
   "attachments": {},
   "cell_type": "markdown",
   "metadata": {},
   "source": [
    "#### df_player_loadout_data"
   ]
  },
  {
   "cell_type": "code",
   "execution_count": 21,
   "metadata": {},
   "outputs": [],
   "source": [
    "df_player_loadout_data = df_player_loadout_data.withColumnRenamed('MatchId', 'matchId')\n",
    "df_player_loadout_data = df_player_loadout_data.withColumnRenamed('latformUserIdentifier', 'platformUserIdentifier')\n",
    "df_player_loadout_data = df_player_loadout_data.withColumnRenamed('Loadout', 'loadout')\n",
    "df_player_loadout_data = df_player_loadout_data.withColumnRenamed('StatName', 'statName')\n",
    "df_player_loadout_data = df_player_loadout_data.withColumnRenamed('StatValue', 'statValue')"
   ]
  },
  {
   "attachments": {},
   "cell_type": "markdown",
   "metadata": {},
   "source": [
    "#### df_player_round_kills_data"
   ]
  },
  {
   "cell_type": "code",
   "execution_count": 22,
   "metadata": {},
   "outputs": [],
   "source": [
    "df_player_round_kills_data = df_player_round_kills_data.withColumnRenamed('MatchId', 'matchId')\n",
    "df_player_round_kills_data = df_player_round_kills_data.withColumnRenamed('Round', 'round')\n",
    "df_player_round_kills_data = df_player_round_kills_data.withColumnRenamed('DamageValue', 'damageValue')\n",
    "df_player_round_kills_data = df_player_round_kills_data.withColumnRenamed('Platforminfo_Platformslug', 'platformInfoSlug')\n",
    "df_player_round_kills_data = df_player_round_kills_data.withColumnRenamed('Platforminfo_Platformuserid', 'platformInfoUserId')\n",
    "df_player_round_kills_data = df_player_round_kills_data.withColumnRenamed('Platforminfo_Platformuserhandle', 'platformInfoUserHandle')\n",
    "df_player_round_kills_data = df_player_round_kills_data.withColumnRenamed('Platforminfo_Platformuseridentifier', 'platformInfoUserIdentifier')\n",
    "df_player_round_kills_data = df_player_round_kills_data.withColumnRenamed('Platforminfo_Avatarurl', 'avatarUrl')\n",
    "df_player_round_kills_data = df_player_round_kills_data.withColumnRenamed('Platforminfo_Additionalparameters', 'additionalParameters')\n",
    "df_player_round_kills_data = df_player_round_kills_data.withColumnRenamed('Opponentplatforminfo_Platformslug', 'opponentPlatformInfoSlug')\n",
    "df_player_round_kills_data = df_player_round_kills_data.withColumnRenamed('Opponentplatforminfo_Platformuserid', 'opponentPlatformInfoUserId')\n",
    "df_player_round_kills_data = df_player_round_kills_data.withColumnRenamed('Opponentplatforminfo_Platformuserhandle', 'opponentPlatformInfoUserHandle')\n",
    "df_player_round_kills_data = df_player_round_kills_data.withColumnRenamed('Opponentplatforminfo_Platformuseridentifier', 'opponentPlatformInfoUserIdentifier')\n",
    "df_player_round_kills_data = df_player_round_kills_data.withColumnRenamed('Opponentplatforminfo_Avatarurl', 'opponentAvatarUrl')\n",
    "df_player_round_kills_data = df_player_round_kills_data.withColumnRenamed('Opponentplatforminfo_Additionalparameters', 'opponentAdditionalParameters')\n",
    "df_player_round_kills_data = df_player_round_kills_data.withColumnRenamed('Opponentlocation_X', 'opponentLocationX')\n",
    "df_player_round_kills_data = df_player_round_kills_data.withColumnRenamed('Opponentlocation_Y', 'opponentLocationY')\n",
    "df_player_round_kills_data = df_player_round_kills_data.withColumnRenamed('Playerlocations', 'playerLocations')\n",
    "df_player_round_kills_data = df_player_round_kills_data.withColumnRenamed('Finishingdamage_Damagetype', 'finishingDamageType')\n",
    "df_player_round_kills_data = df_player_round_kills_data.withColumnRenamed('Finishingdamage_Damageitem', 'finishingDamageItem')\n",
    "df_player_round_kills_data = df_player_round_kills_data.withColumnRenamed('Finishingdamage_Issecondaryfiremode', 'finishingDamageIsSecondaryFireMode')\n",
    "df_player_round_kills_data = df_player_round_kills_data.withColumnRenamed('Weaponimageurl', 'weaponImageUrl')\n",
    "df_player_round_kills_data = df_player_round_kills_data.withColumnRenamed('Weaponname', 'weaponName')\n",
    "df_player_round_kills_data = df_player_round_kills_data.withColumnRenamed('Weaponcategory', 'weaponCategory')\n",
    "df_player_round_kills_data = df_player_round_kills_data.withColumnRenamed('Gametime', 'gameTime')\n",
    "df_player_round_kills_data = df_player_round_kills_data.withColumnRenamed('Roundtime', 'roundTime')"
   ]
  },
  {
   "attachments": {},
   "cell_type": "markdown",
   "metadata": {},
   "source": [
    "#### df_player_round_damage_data"
   ]
  },
  {
   "cell_type": "code",
   "execution_count": 23,
   "metadata": {},
   "outputs": [],
   "source": [
    "df_player_round_damage_data = df_player_round_damage_data.withColumnRenamed('MatchId', 'matchId')\n",
    "df_player_round_damage_data = df_player_round_damage_data.withColumnRenamed('Round', 'round')\n",
    "df_player_round_damage_data = df_player_round_damage_data.withColumnRenamed('DamageValue', 'damageValue')\n",
    "df_player_round_damage_data = df_player_round_damage_data.withColumnRenamed('LegshotsValue', 'legShotsValue')\n",
    "df_player_round_damage_data = df_player_round_damage_data.withColumnRenamed('BodyshotsValue', 'bodyShotsValue')\n",
    "df_player_round_damage_data = df_player_round_damage_data.withColumnRenamed('HeadshotsValue', 'headShotsValue')\n",
    "df_player_round_damage_data = df_player_round_damage_data.withColumnRenamed('HeadshotsValue', 'headShotsValue')"
   ]
  },
  {
   "attachments": {},
   "cell_type": "markdown",
   "metadata": {},
   "source": [
    "#### df_round_summary_data"
   ]
  },
  {
   "cell_type": "code",
   "execution_count": 24,
   "metadata": {},
   "outputs": [],
   "source": [
    "df_round_summary_data = df_round_summary_data.withColumnRenamed('Round', 'round')\n",
    "df_round_summary_data = df_round_summary_data.withColumnRenamed('RoundresultValue', 'roundResultValue')\n",
    "df_round_summary_data = df_round_summary_data.withColumnRenamed('WinningteamValue', 'winningTeamValue')"
   ]
  },
  {
   "attachments": {},
   "cell_type": "markdown",
   "metadata": {},
   "source": [
    "#### df_player_summary_data"
   ]
  },
  {
   "cell_type": "code",
   "execution_count": 25,
   "metadata": {},
   "outputs": [],
   "source": [
    "df_player_summary_data = df_player_summary_data.withColumnRenamed('MatchId', 'matchId')\n",
    "df_player_summary_data = df_player_summary_data.withColumnRenamed('RankValue', 'rankValue')\n",
    "df_player_summary_data = df_player_summary_data.withColumnRenamed('CurrrankValue', 'currRankValue')\n",
    "df_player_summary_data = df_player_summary_data.withColumnRenamed('ScoreValue', 'scoreValue')\n",
    "df_player_summary_data = df_player_summary_data.withColumnRenamed('ScoreperroundValue', 'scorePerRoundValue')\n",
    "df_player_summary_data = df_player_summary_data.withColumnRenamed('KillsperroundValue', 'killsPerRoundValue')\n",
    "df_player_summary_data = df_player_summary_data.withColumnRenamed('KillsValue', 'killsValue')\n",
    "df_player_summary_data = df_player_summary_data.withColumnRenamed('DeathsValue', 'deathsValue')\n",
    "df_player_summary_data = df_player_summary_data.withColumnRenamed('AssistsValue', 'assistsValue')\n",
    "df_player_summary_data = df_player_summary_data.withColumnRenamed('KdratioValue', 'kdRatioValue')\n",
    "df_player_summary_data = df_player_summary_data.withColumnRenamed('DamageValue', 'damageValue')\n",
    "df_player_summary_data = df_player_summary_data.withColumnRenamed('DamageperroundValue', 'damagePerRoundValue')\n",
    "df_player_summary_data = df_player_summary_data.withColumnRenamed('DamagedeltaperroundValue', 'damageDeltaPerRoundValue')\n",
    "df_player_summary_data = df_player_summary_data.withColumnRenamed('SinglekillsValue', 'singleKillsValue')\n",
    "df_player_summary_data = df_player_summary_data.withColumnRenamed('DoublekillsValue', 'doubleKillsValue')\n",
    "df_player_summary_data = df_player_summary_data.withColumnRenamed('TriplekillsValue', 'tripleKillsValue')\n",
    "df_player_summary_data = df_player_summary_data.withColumnRenamed('QuadrakillsValue', 'quadraKillsValue')\n",
    "df_player_summary_data = df_player_summary_data.withColumnRenamed('PentakillsValue', 'pentaKillsValue')\n",
    "df_player_summary_data = df_player_summary_data.withColumnRenamed('MultikillsValue', 'multiKillsValue')\n",
    "df_player_summary_data = df_player_summary_data.withColumnRenamed('GrenadecastsValue', 'grenadeCastsValue')\n",
    "df_player_summary_data = df_player_summary_data.withColumnRenamed('Ability1CastsValue', 'ability1CastsValue')\n",
    "df_player_summary_data = df_player_summary_data.withColumnRenamed('Ability2CastsValue', 'ability2CastsValue')\n",
    "df_player_summary_data = df_player_summary_data.withColumnRenamed('UltimatecastsValue', 'ultimateCastsValue')\n",
    "df_player_summary_data = df_player_summary_data.withColumnRenamed('GrenadecastsperroundValue', 'grenadeCastsPerRoundValue')\n",
    "df_player_summary_data = df_player_summary_data.withColumnRenamed('Ability1CastsperroundValue', 'ability1CastsPerRoundValue')\n",
    "df_player_summary_data = df_player_summary_data.withColumnRenamed('Ability2CastsperroundValue', 'ability2CastsPerRoundValue')\n",
    "df_player_summary_data = df_player_summary_data.withColumnRenamed('UltimatecastsperroundValue', 'ultimateCastsPerRoundValue')\n",
    "df_player_summary_data = df_player_summary_data.withColumnRenamed('PlantsValue', 'plantsValue')\n",
    "df_player_summary_data = df_player_summary_data.withColumnRenamed('DefusesValue', 'defusesValue')\n",
    "df_player_summary_data = df_player_summary_data.withColumnRenamed('FirstkillsValue', 'firstKillsValue')\n",
    "df_player_summary_data = df_player_summary_data.withColumnRenamed('FirstdeathsValue', 'firstDeathsValue')\n",
    "df_player_summary_data = df_player_summary_data.withColumnRenamed('EsrValue', 'esrValue')\n",
    "df_player_summary_data = df_player_summary_data.withColumnRenamed('FirstkillsperroundValue', 'firstKillsPerRoundValue')\n",
    "df_player_summary_data = df_player_summary_data.withColumnRenamed('FirstdeathsperroundValue', 'firstDeathsPerRoundValue')\n",
    "df_player_summary_data = df_player_summary_data.withColumnRenamed('EconratingValue', 'econRatingValue')\n",
    "df_player_summary_data = df_player_summary_data.withColumnRenamed('HsaccuracyValue', 'hsAccuracyValue')\n",
    "df_player_summary_data = df_player_summary_data.withColumnRenamed('KastValue', 'KastValue')\n",
    "df_player_summary_data = df_player_summary_data.withColumnRenamed('ClutchesValue', 'clutchesValue')\n",
    "df_player_summary_data = df_player_summary_data.withColumnRenamed('RoundswinpctValue', 'roundsWinPctValue')\n",
    "df_player_summary_data = df_player_summary_data.withColumnRenamed('TrnperformancescoreValue', 'trnPerformanceScoreValue')\n",
    "df_player_summary_data = df_player_summary_data.withColumnRenamed('Partyid', 'partyId')\n",
    "df_player_summary_data = df_player_summary_data.withColumnRenamed('Teamid', 'teamId')\n",
    "df_player_summary_data = df_player_summary_data.withColumnRenamed('Agentkey', 'agentKey')\n",
    "df_player_summary_data = df_player_summary_data.withColumnRenamed('Agentname', 'agentName')\n",
    "df_player_summary_data = df_player_summary_data.withColumnRenamed('Agentcolor', 'agentColor')\n",
    "df_player_summary_data = df_player_summary_data.withColumnRenamed('Agentimageurl', 'agentImageUrl')\n",
    "df_player_summary_data = df_player_summary_data.withColumnRenamed('Agentportraiturl', 'agentPortraitUrl')\n",
    "df_player_summary_data = df_player_summary_data.withColumnRenamed('Countrycode', 'countryCode')\n",
    "df_player_summary_data = df_player_summary_data.withColumnRenamed('Platforminfo_Platformslug', 'platformInfoSlug')\n",
    "df_player_summary_data = df_player_summary_data.withColumnRenamed('Platforminfo_Platformuserid', 'PlatformInfoUserId')\n",
    "df_player_summary_data = df_player_summary_data.withColumnRenamed('Platforminfo_Platformuserhandle', 'platformInfoUserHandle')\n",
    "df_player_summary_data = df_player_summary_data.withColumnRenamed('Platforminfo_Avatarurl', 'avatarUrl')\n",
    "df_player_summary_data = df_player_summary_data.withColumnRenamed('Platforminfo_Additionalparameters', 'additionalInfoParameters')"
   ]
  },
  {
   "attachments": {},
   "cell_type": "markdown",
   "metadata": {},
   "source": [
    "### Matches Summary"
   ]
  },
  {
   "cell_type": "code",
   "execution_count": 26,
   "metadata": {},
   "outputs": [],
   "source": [
    "df_matches_summary_book = (\n",
    "    df_matches_summary_data\n",
    "    .select(\n",
    "        'userId', 'matchId', 'agentName', 'modeKey', 'modeName', 'modeMaxRounds', 'isAvailable',\n",
    "        'timestamp', 'metadataResult', 'hasWon', 'result', 'mapName', 'seasonName', 'playtimeValue',\n",
    "        'roundsPlayedValue', 'roundsWonValue', 'roundsLostValue', 'roundsDisconnectedValue',\n",
    "        'placementValue', 'scoreValue', 'killsValue', 'deathsValue', 'assistsValue', 'damageValue',\n",
    "        'damageReceivedValue', 'headshotsValue', 'grenadeCastsValue', 'ability1CastsValue',\n",
    "        'ability2CastsValue', 'ultimateCastsValue', 'dealtHeadshotsValue', 'dealtBodyshotsValue',\n",
    "        'dealtLegshotsValue', 'econRatingValue', 'suicidesValue', 'revivedValue', 'firstBloodsValue',\n",
    "        'firstDeathsValue', 'lastDeathsValue', 'survivedValue', 'tradedValue', 'kastedValue', 'kASTValue',\n",
    "        'flawlessValue', 'thriftyValue', 'acesValue', 'teamAcesValue', 'clutchesValue', 'clutchesLostValue',\n",
    "        'plantsValue', 'defusesValue', 'kdRatioValue', 'scorePerRoundValue', 'damagePerRoundValue',\n",
    "        'headshotsPercentageValue',  'damageDeltaValue', 'damageDeltaPerRoundValue', 'rankValue',\n",
    "        'trnPerformanceScoreValue',\n",
    "        )\n",
    ")"
   ]
  },
  {
   "cell_type": "code",
   "execution_count": 27,
   "metadata": {},
   "outputs": [],
   "source": [
    "save_dataframe_csv('s3-tcc-fia-valorant', 'valorant/refined/matches-summary-book/', 'matches-summary-book', df_matches_summary_book, 'csv')"
   ]
  },
  {
   "attachments": {},
   "cell_type": "markdown",
   "metadata": {},
   "source": [
    "### Match Metadata"
   ]
  },
  {
   "cell_type": "code",
   "execution_count": 28,
   "metadata": {},
   "outputs": [],
   "source": [
    "df_match_metadata_book = (\n",
    "    df_match_metadata_data\n",
    "    .select(\n",
    "        'matchId', 'expiryDate', 'modeKey',\n",
    "        'modeName', 'modeMaxRounds', 'duration',\n",
    "        'dateStarted', 'rounds', 'isRanked',\n",
    "        'queueId', 'mapName', \n",
    "    )\n",
    ")"
   ]
  },
  {
   "cell_type": "code",
   "execution_count": 29,
   "metadata": {},
   "outputs": [],
   "source": [
    "save_dataframe_csv('s3-tcc-fia-valorant', 'valorant/refined/match-metadata-book/', 'match-metadata-book', df_match_metadata_book, 'csv')"
   ]
  },
  {
   "attachments": {},
   "cell_type": "markdown",
   "metadata": {},
   "source": [
    "### Round Summary"
   ]
  },
  {
   "cell_type": "code",
   "execution_count": 30,
   "metadata": {},
   "outputs": [],
   "source": [
    "df_round_summary_book = (\n",
    "    df_round_summary_data\n",
    "    .select(\n",
    "        'matchId', 'round', 'roundResultValue', 'winningTeamValue', \n",
    "    )\n",
    ")"
   ]
  },
  {
   "cell_type": "code",
   "execution_count": 31,
   "metadata": {},
   "outputs": [],
   "source": [
    "save_dataframe_csv('s3-tcc-fia-valorant', 'valorant/refined/round-summary-book/', 'round-summary-book', df_round_summary_book, 'csv')"
   ]
  },
  {
   "attachments": {},
   "cell_type": "markdown",
   "metadata": {},
   "source": [
    "### Player Summary"
   ]
  },
  {
   "cell_type": "code",
   "execution_count": 32,
   "metadata": {},
   "outputs": [],
   "source": [
    "df_player_summary_book = (\n",
    "    df_player_summary_data\n",
    "    .select(\n",
    "        'matchId', 'platformUserIdentifier', 'rankValue', 'currRankValue',\n",
    "        'scoreValue', 'scorePerRoundValue', 'killsPerRoundValue', 'killsValue',\n",
    "        'deathsValue', 'assistsValue', 'kdRatioValue', 'damageValue', 'damagePerRoundValue',\n",
    "        'damageDeltaPerRoundValue', 'singleKillsValue', 'doubleKillsValue', 'tripleKillsValue',\n",
    "        'quadraKillsValue', 'pentaKillsValue', 'multiKillsValue', 'grenadeCastsValue', 'ability1CastsValue',\n",
    "        'ability2CastsValue', 'ultimateCastsValue', 'grenadeCastsPerRoundValue', 'ability1CastsPerRoundValue',\n",
    "        'ability2CastsPerRoundValue', 'ultimateCastsPerRoundValue', 'plantsValue', 'defusesValue', 'firstKillsValue',\n",
    "        'firstDeathsValue', 'esrValue', 'firstKillsPerRoundValue', 'firstDeathsPerRoundValue', 'econRatingValue',\n",
    "        'hsAccuracyValue', 'KastValue', 'clutchesValue', 'roundsWinPctValue', 'trnPerformanceScoreValue', 'partyId',\n",
    "        'teamId', 'agentName'\n",
    "    )\n",
    ")\n"
   ]
  },
  {
   "cell_type": "code",
   "execution_count": 33,
   "metadata": {},
   "outputs": [],
   "source": [
    "save_dataframe_csv('s3-tcc-fia-valorant', 'valorant/refined/player-summary-book/', 'player-summary-book', df_player_summary_book, 'csv')"
   ]
  },
  {
   "attachments": {},
   "cell_type": "markdown",
   "metadata": {},
   "source": [
    "### Player Loadout"
   ]
  },
  {
   "cell_type": "code",
   "execution_count": 34,
   "metadata": {},
   "outputs": [],
   "source": [
    "df_player_loadout_book = (\n",
    "    df_player_loadout_data\n",
    "    .select(\n",
    "        'matchId', 'PlatformUserIdentifier', 'loadout',\n",
    "        'statName', 'statValue'\n",
    "    )\n",
    ")"
   ]
  },
  {
   "cell_type": "code",
   "execution_count": 35,
   "metadata": {},
   "outputs": [],
   "source": [
    "save_dataframe_csv('s3-tcc-fia-valorant', 'valorant/refined/player-loadout-book/', 'player-loadout-book', df_player_loadout_book, 'csv')"
   ]
  },
  {
   "attachments": {},
   "cell_type": "markdown",
   "metadata": {},
   "source": [
    "### Player Round Damage"
   ]
  },
  {
   "cell_type": "code",
   "execution_count": 36,
   "metadata": {},
   "outputs": [],
   "source": [
    "df_player_round_damage_book = (\n",
    "    df_player_round_damage_data\n",
    "    .select(\n",
    "        'matchId', 'platformUserIdentifier', 'opponentPlatformUserIdentifier', 'round',\n",
    "        'damageValue', 'legShotsValue', 'bodyShotsValue', \n",
    "    )\n",
    ")"
   ]
  },
  {
   "cell_type": "code",
   "execution_count": 37,
   "metadata": {},
   "outputs": [
    {
     "name": "stdout",
     "output_type": "stream",
     "text": [
      "Data was written to S3://s3-tcc-fia-valorant/valorant/refined/player-round-damage-book/\n"
     ]
    }
   ],
   "source": [
    "save_dataframe_csv('s3-tcc-fia-valorant', 'valorant/refined/player-round-damage-book/', 'player-round-damage-book', df_player_round_damage_book, 'csv')"
   ]
  },
  {
   "attachments": {},
   "cell_type": "markdown",
   "metadata": {},
   "source": [
    "### Player Round Kills"
   ]
  },
  {
   "cell_type": "code",
   "execution_count": 38,
   "metadata": {},
   "outputs": [],
   "source": [
    "df_player_round_kills_book = (\n",
    "    df_player_round_kills_data\n",
    "    .select(\n",
    "        'matchId', 'platformUserIdentifier', 'opponentPlatformUserIdentifier', 'round', \n",
    "        'damageValue', 'opponentLocationX', 'opponentLocationY', 'finishingDamageType', 'finishingDamageIsSecondaryFireMode',\n",
    "        'weaponName', 'weaponCategory', 'gameTime', 'roundTime'\n",
    "    )\n",
    ")"
   ]
  },
  {
   "cell_type": "code",
   "execution_count": 39,
   "metadata": {},
   "outputs": [
    {
     "name": "stdout",
     "output_type": "stream",
     "text": [
      "Data was written to S3://s3-tcc-fia-valorant/valorant/refined/player-round-kills-book/\n"
     ]
    }
   ],
   "source": [
    "save_dataframe_csv('s3-tcc-fia-valorant', 'valorant/refined/player-round-kills-book/', 'player-round-kills-book', df_player_round_kills_book, 'csv')"
   ]
  },
  {
   "attachments": {},
   "cell_type": "markdown",
   "metadata": {},
   "source": [
    "### Player Round"
   ]
  },
  {
   "cell_type": "code",
   "execution_count": 40,
   "metadata": {},
   "outputs": [],
   "source": [
    "df_player_round_book = (\n",
    "    df_player_round_data\n",
    "    .select(\n",
    "        'matchId', 'platformUserIdentifier', 'round', \n",
    "        'assistsValue', 'damageValue', 'deathsValue', \n",
    "        'kdRatio', 'killsValue', 'loadoutValue', 'remainingCredits',\n",
    "        'scoreValue', 'spentCredits'\n",
    "    )\n",
    ")"
   ]
  },
  {
   "cell_type": "code",
   "execution_count": 41,
   "metadata": {},
   "outputs": [
    {
     "name": "stdout",
     "output_type": "stream",
     "text": [
      "Data was written to S3://s3-tcc-fia-valorant/valorant/refined/player-round-book/\n"
     ]
    }
   ],
   "source": [
    "save_dataframe_csv('s3-tcc-fia-valorant', 'valorant/refined/player-round-book/', 'player-round-book', df_player_round_book, 'csv')"
   ]
  },
  {
   "attachments": {},
   "cell_type": "markdown",
   "metadata": {},
   "source": [
    "### Team Summary"
   ]
  },
  {
   "cell_type": "code",
   "execution_count": 42,
   "metadata": {},
   "outputs": [],
   "source": [
    "df_team_summary_book = (\n",
    "    df_team_summary_data\n",
    "    .select(\n",
    "        'matchId', 'teamId', 'hasWon', 'roundsWonValue', 'roundslostValue',\n",
    "        'scoreValue', 'killsValue', 'deathsValue', 'assistsValue', 'damageValue'\n",
    "    )\n",
    ")"
   ]
  },
  {
   "cell_type": "code",
   "execution_count": 43,
   "metadata": {},
   "outputs": [
    {
     "name": "stdout",
     "output_type": "stream",
     "text": [
      "Data was written to S3://s3-tcc-fia-valorant/valorant/refined/team-summary-book/\n"
     ]
    }
   ],
   "source": [
    "save_dataframe_csv('s3-tcc-fia-valorant', 'valorant/refined/team-summary-book/', 'team-summary-book', df_team_summary_book, 'csv')"
   ]
  },
  {
   "attachments": {},
   "cell_type": "markdown",
   "metadata": {},
   "source": [
    "### Players"
   ]
  },
  {
   "cell_type": "code",
   "execution_count": 44,
   "metadata": {},
   "outputs": [],
   "source": [
    "df_player_book = df_player_summary_book"
   ]
  },
  {
   "cell_type": "code",
   "execution_count": 45,
   "metadata": {},
   "outputs": [],
   "source": [
    "df_player_book = (\n",
    "    df_player_book.alias(\"p\")\n",
    "    .join(df_team_summary_book.alias(\"t\"), \n",
    "          (col(\"p.matchId\") == col(\"t.matchId\")) & \n",
    "          (col(\"p.teamId\") == col(\"t.teamId\")),\n",
    "          \"inner\")\n",
    "    .select(\n",
    "        col(\"p.*\"),\n",
    "        col(\"t.hasWon\"),\n",
    "        col(\"t.roundsWonValue\"),\n",
    "        col(\"t.roundslostValue\"),\n",
    "        col(\"t.scoreValue\").alias(\"teamScoreValue\"),\n",
    "        col(\"t.killsValue\").alias(\"teamKillsValue\"),\n",
    "        col(\"t.deathsValue\").alias(\"teamDeathsValue\"),\n",
    "        col(\"t.assistsValue\").alias(\"teamAssistsValue\"),\n",
    "        col(\"t.damageValue\").alias(\"teamDamageValue\")\n",
    "    )\n",
    ")"
   ]
  },
  {
   "cell_type": "code",
   "execution_count": 46,
   "metadata": {},
   "outputs": [],
   "source": [
    "df_player_book = (\n",
    "    df_player_book.alias(\"p\")\n",
    "    .join(df_player_round_book.alias(\"t\"), \n",
    "          (col(\"p.matchId\") == col(\"t.matchId\")) & \n",
    "          (col(\"p.platformUserIdentifier\") == col(\"t.platformUserIdentifier\")),\n",
    "          \"inner\")\n",
    "    .groupBy(\"p.matchId\", \"p.platformUserIdentifier\")\n",
    "    .agg(\n",
    "        sum(\"t.spentCredits\").alias(\"totalSpentCredits\"),\n",
    "        count(\"t.round\").alias(\"totalRounds\")\n",
    "\n",
    "    )\n",
    "    .join(df_player_book, [\"matchId\", \"platformUserIdentifier\"], \"inner\")\n",
    ")"
   ]
  },
  {
   "cell_type": "code",
   "execution_count": 47,
   "metadata": {},
   "outputs": [],
   "source": [
    "df_player_book = (\n",
    "    df_player_book.alias(\"p\")\n",
    "    .join(df_player_round_kills_book.alias(\"t\"), \n",
    "          (col(\"p.matchId\") == col(\"t.matchId\")) & \n",
    "          (col(\"p.platformUserIdentifier\") == col(\"t.platformUserIdentifier\")),\n",
    "          \"inner\")\n",
    "    .groupBy(\"p.matchId\", \"p.platformUserIdentifier\", \"t.weaponName\")\n",
    "    .agg(\n",
    "        count(\"t.weaponName\").alias(\"totalKillsWeaponName\")\n",
    "    )\n",
    "    .join(df_player_book, [\"matchId\", \"platformUserIdentifier\"], \"inner\")\n",
    ")"
   ]
  },
  {
   "cell_type": "code",
   "execution_count": 48,
   "metadata": {},
   "outputs": [],
   "source": [
    "df_player_round_kills_book_aux = df_player_round_kills_book.groupBy(\"matchId\", \"platformUserIdentifier\", \"weaponName\") \\\n",
    "    .agg(count(\"weaponName\").alias(\"totalKillsWeaponName\"))\n",
    "\n",
    "df_player_book_aux = df_player_book.alias(\"p\") \\\n",
    "    .join(df_player_round_kills_book_aux.alias(\"t\"),\n",
    "          (col(\"p.matchId\") == col(\"t.matchId\")) &\n",
    "          (col(\"p.platformUserIdentifier\") == col(\"t.platformUserIdentifier\")),\n",
    "          \"inner\") \\\n",
    "    .groupBy(\"p.matchId\", \"p.platformUserIdentifier\") \\\n",
    "    .agg(\n",
    "        max(col(\"t.weaponName\")).alias(\"weaponName\"),\n",
    "        max(col(\"t.totalKillsWeaponName\")).alias(\"maxTotalKillsWeaponName\")\n",
    "    )"
   ]
  },
  {
   "cell_type": "code",
   "execution_count": 49,
   "metadata": {},
   "outputs": [],
   "source": [
    "df_player_book = df_player_book.drop(\"weaponName\", \"totalKillsWeaponName\")\n",
    "df_player_book = df_player_book.dropDuplicates([\"matchId\", \"platformUserIdentifier\"])"
   ]
  },
  {
   "cell_type": "code",
   "execution_count": 50,
   "metadata": {},
   "outputs": [],
   "source": [
    "df_player_book = (\n",
    "    df_player_book.alias(\"p\")\n",
    "    .join(df_player_book_aux.alias(\"t\"), \n",
    "          (col(\"p.matchId\") == col(\"t.matchId\")) & \n",
    "          (col(\"p.platformUserIdentifier\") == col(\"t.platformUserIdentifier\")),\n",
    "          \"inner\")\n",
    "          .select(\"p.*\", \"t.weaponName\", \"maxTotalKillsWeaponName\")\n",
    "    )"
   ]
  },
  {
   "cell_type": "code",
   "execution_count": 51,
   "metadata": {},
   "outputs": [],
   "source": [
    "df_player_book = (\n",
    "    df_player_book.alias(\"p\")\n",
    "    .join(df_matches_summary_book.alias(\"t\"), \n",
    "          (col(\"p.matchId\") == col(\"t.matchId\")),\n",
    "          \"inner\")\n",
    "          .select(\"p.*\",\n",
    "                   \"t.isAvailable\",\n",
    "                   \"t.timestamp\",\n",
    "                   \"t.seasonName\",\n",
    "                   \"t.mapName\",\n",
    "                   \"t.playtimeValue\",\n",
    "                   \"t.result\"\n",
    "                   )\n",
    "    )"
   ]
  },
  {
   "cell_type": "code",
   "execution_count": 52,
   "metadata": {},
   "outputs": [],
   "source": [
    "df_player_book = (\n",
    "    df_player_book.alias(\"p\")\n",
    "    .join(df_match_metadata_data.alias(\"t\"), \n",
    "          (col(\"p.matchId\") == col(\"t.matchId\")),\n",
    "          \"inner\")\n",
    "          .select(\"p.*\",\n",
    "                   \"t.expiryDate\",\n",
    "                   \"t.modeKey\",\n",
    "                   \"t.modeName\",\n",
    "                   \"t.modeMaxRounds\",\n",
    "                   \"t.duration\",\n",
    "                   \"t.dateStarted\",\n",
    "                   )\n",
    "    )"
   ]
  },
  {
   "cell_type": "code",
   "execution_count": 53,
   "metadata": {},
   "outputs": [],
   "source": [
    "df_player_book = df_player_book.withColumn(\"dateMatch\", expr(\"date(timestamp)\"))\n",
    "df_player_book = df_player_book.withColumn(\"hourMatch\", expr(\"hour(timestamp)\"))\n",
    "df_player_book = df_player_book.withColumn(\"minutesMatch\", expr(\"minute(timestamp)\"))\n",
    "\n",
    "to_minutes = udf(lambda x: round(x / 60, 2), StringType())\n",
    "to_hours = udf(lambda x: round(x / 3600, 2), StringType())\n",
    "\n",
    "df_player_book = df_player_book.withColumn(\"playtimeMinutesValue\", to_minutes(col(\"playtimeValue\")))\n",
    "df_player_book = df_player_book.withColumn(\"playtimeHoursValue\", to_hours(col(\"playtimeValue\")))\n",
    "\n",
    "df_player_book = df_player_book.withColumn(\"weekDayNumber\", dayofweek(col(\"dateMatch\")))\n",
    "df_player_book = df_player_book.withColumn(\"weekDay\", date_format(col(\"dateMatch\"), \"EEEE\"))"
   ]
  },
  {
   "cell_type": "code",
   "execution_count": 54,
   "metadata": {},
   "outputs": [],
   "source": [
    "df_player_book = (\n",
    "    df_player_book\n",
    "        .withColumn(\"rankNumberValue\",\n",
    "                    when(col(\"rankValue\") == \"Unranked\", 1)\n",
    "                    .when(col(\"rankValue\") == \"Iron 1\", 2)\n",
    "                    .when(col(\"rankValue\") == \"Iron 2\", 3)\n",
    "                    .when(col(\"rankValue\") == \"Iron 3\", 4)\n",
    "                    .when(col(\"rankValue\") == \"Bronze 1\", 5)\n",
    "                    .when(col(\"rankValue\") == \"Bronze 2\", 6)\n",
    "                    .when(col(\"rankValue\") == \"Bronze 3\", 7)\n",
    "                    .when(col(\"rankValue\") == \"Silver 1\", 8)\n",
    "                    .when(col(\"rankValue\") == \"Silver 2\", 9)\n",
    "                    .when(col(\"rankValue\") == \"Silver 3\", 10)\n",
    "                    .when(col(\"rankValue\") == \"Gold 1\", 11)\n",
    "                    .when(col(\"rankValue\") == \"Gold 2\", 12)\n",
    "                    .when(col(\"rankValue\") == \"Gold 3\", 13)\n",
    "                    .when(col(\"rankValue\") == \"Platinum 1\", 14)\n",
    "                    .when(col(\"rankValue\") == \"Platinum 2\", 15)\n",
    "                    .when(col(\"rankValue\") == \"Platinum 3\", 16)\n",
    "                    .when(col(\"rankValue\") == \"Diamond 1\", 17)\n",
    "                    .when(col(\"rankValue\") == \"Diamond 2\", 18)\n",
    "                    .when(col(\"rankValue\") == \"Diamond 3\", 19)\n",
    "                    .when(col(\"rankValue\") == \"Immortal 1\", 20)\n",
    "                    .when(col(\"rankValue\") == \"Immortal 2\", 21)\n",
    "                    .when(col(\"rankValue\") == \"Immortal 3\", 22)\n",
    "                    .when(col(\"rankValue\") == \"Radiant 1\", 23)\n",
    "                    .when(col(\"rankValue\") == \"Radiant 2\", 24)\n",
    "                    .when(col(\"rankValue\") == \"Radiant 3\", 25)\n",
    "                                    .otherwise(0)))"
   ]
  },
  {
   "cell_type": "code",
   "execution_count": 55,
   "metadata": {},
   "outputs": [],
   "source": [
    "df_player_book = (\n",
    "    df_player_book\n",
    "        .withColumn(\"currRankNumberValue\",\n",
    "                    when(col(\"currRankValue\") == \"Unranked\", 1)\n",
    "                    .when(col(\"currRankValue\") == \"Iron 1\", 2)\n",
    "                    .when(col(\"currRankValue\") == \"Iron 2\", 3)\n",
    "                    .when(col(\"currRankValue\") == \"Iron 3\", 4)\n",
    "                    .when(col(\"currRankValue\") == \"Bronze 1\", 5)\n",
    "                    .when(col(\"currRankValue\") == \"Bronze 2\", 6)\n",
    "                    .when(col(\"currRankValue\") == \"Bronze 3\", 7)\n",
    "                    .when(col(\"currRankValue\") == \"Silver 1\", 8)\n",
    "                    .when(col(\"currRankValue\") == \"Silver 2\", 9)\n",
    "                    .when(col(\"currRankValue\") == \"Silver 3\", 10)\n",
    "                    .when(col(\"currRankValue\") == \"Gold 1\", 11)\n",
    "                    .when(col(\"currRankValue\") == \"Gold 2\", 12)\n",
    "                    .when(col(\"currRankValue\") == \"Gold 3\", 13)\n",
    "                    .when(col(\"currRankValue\") == \"Platinum 1\", 14)\n",
    "                    .when(col(\"currRankValue\") == \"Platinum 2\", 15)\n",
    "                    .when(col(\"currRankValue\") == \"Platinum 3\", 16)\n",
    "                    .when(col(\"currRankValue\") == \"Diamond 1\", 17)\n",
    "                    .when(col(\"currRankValue\") == \"Diamond 2\", 18)\n",
    "                    .when(col(\"currRankValue\") == \"Diamond 3\", 19)\n",
    "                    .when(col(\"currRankValue\") == \"Immortal 1\", 20)\n",
    "                    .when(col(\"currRankValue\") == \"Immortal 2\", 21)\n",
    "                    .when(col(\"currRankValue\") == \"Immortal 3\", 22)\n",
    "                    .when(col(\"currRankValue\") == \"Radiant 1\", 23)\n",
    "                    .when(col(\"currRankValue\") == \"Radiant 2\", 24)\n",
    "                    .when(col(\"currRankValue\") == \"Radiant 3\", 25)\n",
    "                                    .otherwise(0)))"
   ]
  },
  {
   "cell_type": "code",
   "execution_count": 56,
   "metadata": {},
   "outputs": [],
   "source": [
    "df_player_book = (\n",
    "    df_player_book\n",
    "        .withColumn(\"teamNumberId\",\n",
    "                    when(col(\"teamId\") == \"Red\", 1)\n",
    "                    .when(col(\"teamId\") == \"Blue\", 2)\n",
    "                                    .otherwise(0)))"
   ]
  },
  {
   "cell_type": "code",
   "execution_count": 57,
   "metadata": {},
   "outputs": [],
   "source": [
    "df_player_book = (\n",
    "    df_player_book\n",
    "        .withColumn(\"teamNumberId\",\n",
    "                    when(col(\"teamId\") == \"Red\", 1)\n",
    "                    .when(col(\"teamId\") == \"Blue\", 2)\n",
    "                                    .otherwise(0)))"
   ]
  },
  {
   "cell_type": "code",
   "execution_count": 58,
   "metadata": {},
   "outputs": [],
   "source": [
    "df_player_book = (\n",
    "    df_player_book\n",
    "        .withColumn(\"agentNameNumber\",\n",
    "                    when(col(\"agentName\") == \"Astra\", 1)\n",
    "                    .when(col(\"agentName\") == \"Phoenix\", 2)\n",
    "                    .when(col(\"agentName\") == \"Raze\", 3)\n",
    "                    .when(col(\"agentName\") == \"Harbor\", 4)\n",
    "                    .when(col(\"agentName\") == \"Gekko\", 5)\n",
    "                    .when(col(\"agentName\") == \"Reyna\", 6)\n",
    "                    .when(col(\"agentName\") == \"Neon\", 7)\n",
    "                    .when(col(\"agentName\") == \"Breach\", 8)\n",
    "                    .when(col(\"agentName\") == \"Sova\", 9)\n",
    "                    .when(col(\"agentName\") == \"Killjoy\", 10)\n",
    "                    .when(col(\"agentName\") == \"Sage\", 11)\n",
    "                    .when(col(\"agentName\") == \"Cypher\", 12)\n",
    "                    .when(col(\"agentName\") == \"Yoru\", 13)\n",
    "                    .when(col(\"agentName\") == \"Skye\", 14)\n",
    "                    .when(col(\"agentName\") == \"Brimstone\", 15)\n",
    "                    .when(col(\"agentName\") == \"Fade\", 16)\n",
    "                    .when(col(\"agentName\") == \"Chamber\", 17)\n",
    "                    .when(col(\"agentName\") == \"KAY/O\", 18)\n",
    "                    .when(col(\"agentName\") == \"Omen\", 19)\n",
    "                    .when(col(\"agentName\") == \"Jett\", 20)\n",
    "                                    .otherwise(0)))"
   ]
  },
  {
   "cell_type": "code",
   "execution_count": 59,
   "metadata": {},
   "outputs": [],
   "source": [
    "df_player_book = (\n",
    "    df_player_book\n",
    "        .withColumn(\"resultNumber\",\n",
    "                    when(col(\"result\") == \"tied\", 1)\n",
    "                    .when(col(\"result\") == \"victory\", 2)\n",
    "                    .when(col(\"result\") == \"defeat\", 3)\n",
    "                    .otherwise(0)))"
   ]
  },
  {
   "cell_type": "code",
   "execution_count": 60,
   "metadata": {},
   "outputs": [],
   "source": [
    "df_player_book = (\n",
    "    df_player_book\n",
    "        .withColumn(\"weaponNameNumber\",\n",
    "                    when(col(\"weaponName\") == \"Phantom\", 1)\n",
    "                    .when(col(\"weaponName\") == \"Vandal\", 2)\n",
    "                    .when(col(\"weaponName\") == \"Sheriff\", 3)\n",
    "                    .when(col(\"weaponName\") == \"Operator\", 4)\n",
    "                    .when(col(\"weaponName\") == \"Ghost\", 5)\n",
    "                    .when(col(\"weaponName\") == \"Marshal\", 6)\n",
    "                    .when(col(\"weaponName\") == \"Spectre\", 7)\n",
    "                    .when(col(\"weaponName\") == \"Shorty\", 8)\n",
    "                    .when(col(\"weaponName\") == \"Stinger\", 9)\n",
    "                    .when(col(\"weaponName\") == \"Guardian\", 10)\n",
    "                    .when(col(\"weaponName\") == \"Judge\", 11)\n",
    "                    .when(col(\"weaponName\") == \"Ares\", 12)\n",
    "                    .when(col(\"weaponName\") == \"Classic\", 13)\n",
    "                    .when(col(\"weaponName\") == \"Odin\", 14)\n",
    "                    .otherwise(0)))"
   ]
  },
  {
   "cell_type": "code",
   "execution_count": 61,
   "metadata": {},
   "outputs": [
    {
     "name": "stdout",
     "output_type": "stream",
     "text": [
      "Data was written to S3://s3-tcc-fia-valorant/valorant/refined/player-book/\n"
     ]
    }
   ],
   "source": [
    "save_dataframe_csv('s3-tcc-fia-valorant', 'valorant/refined/player-book/', 'player-book', df_player_book, 'csv')"
   ]
  }
 ],
 "metadata": {
  "kernelspec": {
   "display_name": "base",
   "language": "python",
   "name": "python3"
  },
  "language_info": {
   "codemirror_mode": {
    "name": "ipython",
    "version": 3
   },
   "file_extension": ".py",
   "mimetype": "text/x-python",
   "name": "python",
   "nbconvert_exporter": "python",
   "pygments_lexer": "ipython3",
   "version": "3.10.11"
  },
  "orig_nbformat": 4
 },
 "nbformat": 4,
 "nbformat_minor": 2
}
