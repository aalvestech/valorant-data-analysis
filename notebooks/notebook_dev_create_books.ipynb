{
 "cells": [
  {
   "attachments": {},
   "cell_type": "markdown",
   "metadata": {},
   "source": [
    "# Data Analisys Valorant"
   ]
  },
  {
   "attachments": {},
   "cell_type": "markdown",
   "metadata": {},
   "source": [
    "## Initial Configs"
   ]
  },
  {
   "attachments": {},
   "cell_type": "markdown",
   "metadata": {},
   "source": [
    "### Imports"
   ]
  },
  {
   "cell_type": "code",
   "execution_count": 3,
   "metadata": {},
   "outputs": [
    {
     "name": "stderr",
     "output_type": "stream",
     "text": [
      "Python-dotenv could not parse statement starting at line 1\n"
     ]
    }
   ],
   "source": [
    "import os\n",
    "from pyspark.sql import SparkSession\n",
    "from pyspark.sql.functions import avg, col, expr, count, sum, max, udf, dayofweek, date_format, when, mean, median\n",
    "from pyspark.sql.types import StringType\n",
    "import sys\n",
    "sys.path.append('../src/')\n",
    "from aws.aws import Aws\n",
    "import io\n",
    "import pandas as pd \n",
    "import boto3\n",
    "from datetime import datetime"
   ]
  },
  {
   "attachments": {},
   "cell_type": "markdown",
   "metadata": {},
   "source": [
    "### Creating a Spark Session"
   ]
  },
  {
   "cell_type": "code",
   "execution_count": 2,
   "metadata": {},
   "outputs": [
    {
     "name": "stderr",
     "output_type": "stream",
     "text": [
      "Setting default log level to \"WARN\".\n",
      "To adjust logging level use sc.setLogLevel(newLevel). For SparkR, use setLogLevel(newLevel).\n",
      "23/05/28 13:51:46 WARN NativeCodeLoader: Unable to load native-hadoop library for your platform... using builtin-java classes where applicable\n"
     ]
    }
   ],
   "source": [
    "spark = SparkSession.builder.appName(\"ValorantDataAnalysis\").getOrCreate()"
   ]
  },
  {
   "cell_type": "code",
   "execution_count": 3,
   "metadata": {},
   "outputs": [],
   "source": [
    "spark.conf.set(\"spark.hadoop.fs.s3a.impl\", \"org.apache.hadoop.fs.s3a.S3AFileSystem\")\n",
    "spark.conf.set(\"spark.hadoop.fs.s3a.access.key\", os.getenv('AWS_ACCESS_KEY_ID'))\n",
    "spark.conf.set(\"spark.hadoop.fs.s3a.secret.key\", os.getenv('AWS_SECRET_ACCESS_KEY'))"
   ]
  },
  {
   "attachments": {},
   "cell_type": "markdown",
   "metadata": {},
   "source": [
    "### Instantiating used classes"
   ]
  },
  {
   "cell_type": "code",
   "execution_count": 13,
   "metadata": {},
   "outputs": [],
   "source": [
    "aws = Aws()"
   ]
  },
  {
   "attachments": {},
   "cell_type": "markdown",
   "metadata": {},
   "source": [
    "## Load Dataframes"
   ]
  },
  {
   "attachments": {},
   "cell_type": "markdown",
   "metadata": {},
   "source": [
    "### Utils"
   ]
  },
  {
   "cell_type": "code",
   "execution_count": 6,
   "metadata": {},
   "outputs": [],
   "source": [
    "def get_files(bucket_name : str, folder_path : str) -> list:\n",
    "    \"\"\"\"\"\"\n",
    "    objects = aws.list_objetcs_s3(bucket_name, folder_path)\n",
    "\n",
    "\n",
    "    return objects"
   ]
  },
  {
   "cell_type": "code",
   "execution_count": 7,
   "metadata": {},
   "outputs": [],
   "source": [
    "def concat_files_s3(objects):\n",
    "    \"\"\"\"\"\"\n",
    "\n",
    "    json_files = [obj['Key'] for obj in objects]\n",
    "\n",
    "    for file in json_files:\n",
    "\n",
    "        response = aws.read_s3_v2(bucket_name='s3-tcc-fia-valorant', folder_path=file)\n",
    "        json_data = response['Body'].read().decode('utf-8')\n",
    "\n",
    "    return io.StringIO(json_data)"
   ]
  },
  {
   "cell_type": "code",
   "execution_count": 8,
   "metadata": {},
   "outputs": [],
   "source": [
    "def read_spark(data_io):\n",
    "    \"\"\"\"\"\"\n",
    "    data_io = pd.read_csv(data_io)\n",
    "    return spark.createDataFrame(data_io)"
   ]
  },
  {
   "cell_type": "code",
   "execution_count": 9,
   "metadata": {},
   "outputs": [],
   "source": [
    "def create_dataframe(bucket_name : str, folder_path : str):\n",
    "    \"\"\"\"\"\"\n",
    "    objects = get_files(bucket_name, folder_path)\n",
    "    data_io = concat_files_s3(objects)\n",
    "    df = read_spark(data_io)\n",
    "\n",
    "    return df"
   ]
  },
  {
   "cell_type": "code",
   "execution_count": 10,
   "metadata": {},
   "outputs": [],
   "source": [
    "def save_dataframe_csv(bucket_name, folder_path, file_name, data, file_format):\n",
    "    # Convert DataFrame to CSV string\n",
    "    csv_buffer = io.StringIO()\n",
    "    data.toPandas().to_csv(csv_buffer, index=False)\n",
    "\n",
    "    # Retrieve CSV data from buffer\n",
    "    csv_buffer_value = csv_buffer.getvalue()\n",
    "\n",
    "    date = datetime.now().strftime(\"%Y%m%d_%H%M%S\")\n",
    "    file_name = file_name + '_' + date + file_format\n",
    "    file_path = folder_path + file_name\n",
    "\n",
    "    # Write CSV string to S3\n",
    "    s3 = boto3.resource('s3')\n",
    "\n",
    "    try:\n",
    "        s3.Object(bucket_name, file_path).put(Body=csv_buffer_value)\n",
    "        print(f\"Data was written to S3://{bucket_name}/{folder_path}\")\n",
    "\n",
    "    except Exception as e:\n",
    "\n",
    "        print(f\"Error: {e}\")\n",
    "    \n",
    "        return False"
   ]
  },
  {
   "attachments": {},
   "cell_type": "markdown",
   "metadata": {},
   "source": [
    "### df_matches_summary_data"
   ]
  },
  {
   "cell_type": "code",
   "execution_count": 10,
   "metadata": {},
   "outputs": [],
   "source": [
    "df_matches_summary_data = create_dataframe('s3-tcc-fia-valorant', 'valorant/raw/summary/matches/')"
   ]
  },
  {
   "attachments": {},
   "cell_type": "markdown",
   "metadata": {},
   "source": [
    "### df_match_metadata_data"
   ]
  },
  {
   "cell_type": "code",
   "execution_count": 11,
   "metadata": {},
   "outputs": [],
   "source": [
    "df_match_metadata_data = create_dataframe('s3-tcc-fia-valorant', 'valorant/cleaned/details/metadata/')"
   ]
  },
  {
   "attachments": {},
   "cell_type": "markdown",
   "metadata": {},
   "source": [
    "### df_round_summary_data"
   ]
  },
  {
   "cell_type": "code",
   "execution_count": 12,
   "metadata": {},
   "outputs": [],
   "source": [
    "df_round_summary_data = create_dataframe('s3-tcc-fia-valorant', 'valorant/cleaned/details/round_summary/')"
   ]
  },
  {
   "attachments": {},
   "cell_type": "markdown",
   "metadata": {},
   "source": [
    "### df_player_summary_data"
   ]
  },
  {
   "cell_type": "code",
   "execution_count": 13,
   "metadata": {},
   "outputs": [],
   "source": [
    "df_player_summary_data = create_dataframe('s3-tcc-fia-valorant', 'valorant/cleaned/details/player_summary/')"
   ]
  },
  {
   "attachments": {},
   "cell_type": "markdown",
   "metadata": {},
   "source": [
    "### df_player_loadout_data"
   ]
  },
  {
   "cell_type": "code",
   "execution_count": 14,
   "metadata": {},
   "outputs": [],
   "source": [
    "df_player_loadout_data = create_dataframe('s3-tcc-fia-valorant', 'valorant/cleaned/details/player_loadout/')"
   ]
  },
  {
   "attachments": {},
   "cell_type": "markdown",
   "metadata": {},
   "source": [
    "### df_player_round_damage_data"
   ]
  },
  {
   "cell_type": "code",
   "execution_count": 15,
   "metadata": {},
   "outputs": [
    {
     "name": "stderr",
     "output_type": "stream",
     "text": [
      "/tmp/ipykernel_1380/1347267086.py:3: DtypeWarning: Columns (5) have mixed types. Specify dtype option on import or set low_memory=False.\n",
      "  data_io = pd.read_csv(data_io)\n"
     ]
    }
   ],
   "source": [
    "df_player_round_damage_data = create_dataframe('s3-tcc-fia-valorant', 'valorant/cleaned/details/player_round_damage/')"
   ]
  },
  {
   "attachments": {},
   "cell_type": "markdown",
   "metadata": {},
   "source": [
    "### df_player_round_kills_data"
   ]
  },
  {
   "cell_type": "code",
   "execution_count": 16,
   "metadata": {},
   "outputs": [
    {
     "name": "stderr",
     "output_type": "stream",
     "text": [
      "/tmp/ipykernel_1380/1347267086.py:3: DtypeWarning: Columns (32) have mixed types. Specify dtype option on import or set low_memory=False.\n",
      "  data_io = pd.read_csv(data_io)\n"
     ]
    }
   ],
   "source": [
    "df_player_round_kills_data = create_dataframe('s3-tcc-fia-valorant', 'valorant/cleaned/details/player_round_kills/')"
   ]
  },
  {
   "attachments": {},
   "cell_type": "markdown",
   "metadata": {},
   "source": [
    "### df_player_round_data"
   ]
  },
  {
   "cell_type": "code",
   "execution_count": 17,
   "metadata": {},
   "outputs": [],
   "source": [
    "df_player_round_data = create_dataframe('s3-tcc-fia-valorant', 'valorant/cleaned/details/player_round/')"
   ]
  },
  {
   "attachments": {},
   "cell_type": "markdown",
   "metadata": {},
   "source": [
    "### df_team_summary_data"
   ]
  },
  {
   "cell_type": "code",
   "execution_count": 18,
   "metadata": {},
   "outputs": [],
   "source": [
    "df_team_summary_data = create_dataframe('s3-tcc-fia-valorant', 'valorant/cleaned/details/team_summary/')"
   ]
  },
  {
   "attachments": {},
   "cell_type": "markdown",
   "metadata": {},
   "source": [
    "## Books"
   ]
  },
  {
   "attachments": {},
   "cell_type": "markdown",
   "metadata": {},
   "source": [
    "### Rename Columns"
   ]
  },
  {
   "attachments": {},
   "cell_type": "markdown",
   "metadata": {},
   "source": [
    "#### df_team_summary_data"
   ]
  },
  {
   "cell_type": "code",
   "execution_count": 19,
   "metadata": {},
   "outputs": [],
   "source": [
    "df_team_summary_data = df_team_summary_data.withColumnRenamed('RoundswonValue', 'roundsWonValue')\n",
    "df_team_summary_data = df_team_summary_data.withColumnRenamed('RoundslostValue', 'roundslostValue')\n",
    "df_team_summary_data = df_team_summary_data.withColumnRenamed('ScoreValue', 'scoreValue')\n",
    "df_team_summary_data = df_team_summary_data.withColumnRenamed('KillsValue', 'killsValue')\n",
    "df_team_summary_data = df_team_summary_data.withColumnRenamed('DeathsValue', 'deathsValue')\n",
    "df_team_summary_data = df_team_summary_data.withColumnRenamed('AssistsValue', 'assistsValue')\n",
    "df_team_summary_data = df_team_summary_data.withColumnRenamed('DamageValue', 'damageValue')"
   ]
  },
  {
   "attachments": {},
   "cell_type": "markdown",
   "metadata": {},
   "source": [
    "#### df_player_round_data"
   ]
  },
  {
   "cell_type": "code",
   "execution_count": 20,
   "metadata": {},
   "outputs": [],
   "source": [
    "df_player_round_data = df_player_round_data.withColumnRenamed('MatchId', 'matchId')\n",
    "df_player_round_data = df_player_round_data.withColumnRenamed('Round', 'round')\n",
    "df_player_round_data = df_player_round_data.withColumnRenamed('StatValue_Assists', 'assistsValue')\n",
    "df_player_round_data = df_player_round_data.withColumnRenamed('StatValue_Damage', 'damageValue')\n",
    "df_player_round_data = df_player_round_data.withColumnRenamed('StatValue_Deaths', 'deathsValue')\n",
    "df_player_round_data = df_player_round_data.withColumnRenamed('StatValue_Deaths', 'deathsValue')\n",
    "df_player_round_data = df_player_round_data.withColumnRenamed('StatValue_Kdratio', 'kdRatio')\n",
    "df_player_round_data = df_player_round_data.withColumnRenamed('StatValue_Kills', 'killsValue')\n",
    "df_player_round_data = df_player_round_data.withColumnRenamed('StatValue_Loadoutvalue', 'loadoutValue')\n",
    "df_player_round_data = df_player_round_data.withColumnRenamed('StatValue_Remainingcredits', 'remainingCredits')\n",
    "df_player_round_data = df_player_round_data.withColumnRenamed('StatValue_Score', 'scoreValue')\n",
    "df_player_round_data = df_player_round_data.withColumnRenamed('StatValue_Spentcredits', 'spentCredits')"
   ]
  },
  {
   "attachments": {},
   "cell_type": "markdown",
   "metadata": {},
   "source": [
    "#### df_player_loadout_data"
   ]
  },
  {
   "cell_type": "code",
   "execution_count": 21,
   "metadata": {},
   "outputs": [],
   "source": [
    "df_player_loadout_data = df_player_loadout_data.withColumnRenamed('MatchId', 'matchId')\n",
    "df_player_loadout_data = df_player_loadout_data.withColumnRenamed('latformUserIdentifier', 'platformUserIdentifier')\n",
    "df_player_loadout_data = df_player_loadout_data.withColumnRenamed('Loadout', 'loadout')\n",
    "df_player_loadout_data = df_player_loadout_data.withColumnRenamed('StatName', 'statName')\n",
    "df_player_loadout_data = df_player_loadout_data.withColumnRenamed('StatValue', 'statValue')"
   ]
  },
  {
   "attachments": {},
   "cell_type": "markdown",
   "metadata": {},
   "source": [
    "#### df_player_round_kills_data"
   ]
  },
  {
   "cell_type": "code",
   "execution_count": 22,
   "metadata": {},
   "outputs": [],
   "source": [
    "df_player_round_kills_data = df_player_round_kills_data.withColumnRenamed('MatchId', 'matchId')\n",
    "df_player_round_kills_data = df_player_round_kills_data.withColumnRenamed('Round', 'round')\n",
    "df_player_round_kills_data = df_player_round_kills_data.withColumnRenamed('DamageValue', 'damageValue')\n",
    "df_player_round_kills_data = df_player_round_kills_data.withColumnRenamed('Platforminfo_Platformslug', 'platformInfoSlug')\n",
    "df_player_round_kills_data = df_player_round_kills_data.withColumnRenamed('Platforminfo_Platformuserid', 'platformInfoUserId')\n",
    "df_player_round_kills_data = df_player_round_kills_data.withColumnRenamed('Platforminfo_Platformuserhandle', 'platformInfoUserHandle')\n",
    "df_player_round_kills_data = df_player_round_kills_data.withColumnRenamed('Platforminfo_Platformuseridentifier', 'platformInfoUserIdentifier')\n",
    "df_player_round_kills_data = df_player_round_kills_data.withColumnRenamed('Platforminfo_Avatarurl', 'avatarUrl')\n",
    "df_player_round_kills_data = df_player_round_kills_data.withColumnRenamed('Platforminfo_Additionalparameters', 'additionalParameters')\n",
    "df_player_round_kills_data = df_player_round_kills_data.withColumnRenamed('Opponentplatforminfo_Platformslug', 'opponentPlatformInfoSlug')\n",
    "df_player_round_kills_data = df_player_round_kills_data.withColumnRenamed('Opponentplatforminfo_Platformuserid', 'opponentPlatformInfoUserId')\n",
    "df_player_round_kills_data = df_player_round_kills_data.withColumnRenamed('Opponentplatforminfo_Platformuserhandle', 'opponentPlatformInfoUserHandle')\n",
    "df_player_round_kills_data = df_player_round_kills_data.withColumnRenamed('Opponentplatforminfo_Platformuseridentifier', 'opponentPlatformInfoUserIdentifier')\n",
    "df_player_round_kills_data = df_player_round_kills_data.withColumnRenamed('Opponentplatforminfo_Avatarurl', 'opponentAvatarUrl')\n",
    "df_player_round_kills_data = df_player_round_kills_data.withColumnRenamed('Opponentplatforminfo_Additionalparameters', 'opponentAdditionalParameters')\n",
    "df_player_round_kills_data = df_player_round_kills_data.withColumnRenamed('Opponentlocation_X', 'opponentLocationX')\n",
    "df_player_round_kills_data = df_player_round_kills_data.withColumnRenamed('Opponentlocation_Y', 'opponentLocationY')\n",
    "df_player_round_kills_data = df_player_round_kills_data.withColumnRenamed('Playerlocations', 'playerLocations')\n",
    "df_player_round_kills_data = df_player_round_kills_data.withColumnRenamed('Finishingdamage_Damagetype', 'finishingDamageType')\n",
    "df_player_round_kills_data = df_player_round_kills_data.withColumnRenamed('Finishingdamage_Damageitem', 'finishingDamageItem')\n",
    "df_player_round_kills_data = df_player_round_kills_data.withColumnRenamed('Finishingdamage_Issecondaryfiremode', 'finishingDamageIsSecondaryFireMode')\n",
    "df_player_round_kills_data = df_player_round_kills_data.withColumnRenamed('Weaponimageurl', 'weaponImageUrl')\n",
    "df_player_round_kills_data = df_player_round_kills_data.withColumnRenamed('Weaponname', 'weaponName')\n",
    "df_player_round_kills_data = df_player_round_kills_data.withColumnRenamed('Weaponcategory', 'weaponCategory')\n",
    "df_player_round_kills_data = df_player_round_kills_data.withColumnRenamed('Gametime', 'gameTime')\n",
    "df_player_round_kills_data = df_player_round_kills_data.withColumnRenamed('Roundtime', 'roundTime')"
   ]
  },
  {
   "attachments": {},
   "cell_type": "markdown",
   "metadata": {},
   "source": [
    "#### df_player_round_damage_data"
   ]
  },
  {
   "cell_type": "code",
   "execution_count": 23,
   "metadata": {},
   "outputs": [],
   "source": [
    "df_player_round_damage_data = df_player_round_damage_data.withColumnRenamed('MatchId', 'matchId')\n",
    "df_player_round_damage_data = df_player_round_damage_data.withColumnRenamed('Round', 'round')\n",
    "df_player_round_damage_data = df_player_round_damage_data.withColumnRenamed('DamageValue', 'damageValue')\n",
    "df_player_round_damage_data = df_player_round_damage_data.withColumnRenamed('LegshotsValue', 'legShotsValue')\n",
    "df_player_round_damage_data = df_player_round_damage_data.withColumnRenamed('BodyshotsValue', 'bodyShotsValue')\n",
    "df_player_round_damage_data = df_player_round_damage_data.withColumnRenamed('HeadshotsValue', 'headShotsValue')\n",
    "df_player_round_damage_data = df_player_round_damage_data.withColumnRenamed('HeadshotsValue', 'headShotsValue')"
   ]
  },
  {
   "attachments": {},
   "cell_type": "markdown",
   "metadata": {},
   "source": [
    "#### df_round_summary_data"
   ]
  },
  {
   "cell_type": "code",
   "execution_count": 24,
   "metadata": {},
   "outputs": [],
   "source": [
    "df_round_summary_data = df_round_summary_data.withColumnRenamed('Round', 'round')\n",
    "df_round_summary_data = df_round_summary_data.withColumnRenamed('RoundresultValue', 'roundResultValue')\n",
    "df_round_summary_data = df_round_summary_data.withColumnRenamed('WinningteamValue', 'winningTeamValue')"
   ]
  },
  {
   "attachments": {},
   "cell_type": "markdown",
   "metadata": {},
   "source": [
    "#### df_player_summary_data"
   ]
  },
  {
   "cell_type": "code",
   "execution_count": 25,
   "metadata": {},
   "outputs": [],
   "source": [
    "df_player_summary_data = df_player_summary_data.withColumnRenamed('MatchId', 'matchId')\n",
    "df_player_summary_data = df_player_summary_data.withColumnRenamed('RankValue', 'rankValue')\n",
    "df_player_summary_data = df_player_summary_data.withColumnRenamed('CurrrankValue', 'currRankValue')\n",
    "df_player_summary_data = df_player_summary_data.withColumnRenamed('ScoreValue', 'scoreValue')\n",
    "df_player_summary_data = df_player_summary_data.withColumnRenamed('ScoreperroundValue', 'scorePerRoundValue')\n",
    "df_player_summary_data = df_player_summary_data.withColumnRenamed('KillsperroundValue', 'killsPerRoundValue')\n",
    "df_player_summary_data = df_player_summary_data.withColumnRenamed('KillsValue', 'killsValue')\n",
    "df_player_summary_data = df_player_summary_data.withColumnRenamed('DeathsValue', 'deathsValue')\n",
    "df_player_summary_data = df_player_summary_data.withColumnRenamed('AssistsValue', 'assistsValue')\n",
    "df_player_summary_data = df_player_summary_data.withColumnRenamed('KdratioValue', 'kdRatioValue')\n",
    "df_player_summary_data = df_player_summary_data.withColumnRenamed('DamageValue', 'damageValue')\n",
    "df_player_summary_data = df_player_summary_data.withColumnRenamed('DamageperroundValue', 'damagePerRoundValue')\n",
    "df_player_summary_data = df_player_summary_data.withColumnRenamed('DamagedeltaperroundValue', 'damageDeltaPerRoundValue')\n",
    "df_player_summary_data = df_player_summary_data.withColumnRenamed('SinglekillsValue', 'singleKillsValue')\n",
    "df_player_summary_data = df_player_summary_data.withColumnRenamed('DoublekillsValue', 'doubleKillsValue')\n",
    "df_player_summary_data = df_player_summary_data.withColumnRenamed('TriplekillsValue', 'tripleKillsValue')\n",
    "df_player_summary_data = df_player_summary_data.withColumnRenamed('QuadrakillsValue', 'quadraKillsValue')\n",
    "df_player_summary_data = df_player_summary_data.withColumnRenamed('PentakillsValue', 'pentaKillsValue')\n",
    "df_player_summary_data = df_player_summary_data.withColumnRenamed('MultikillsValue', 'multiKillsValue')\n",
    "df_player_summary_data = df_player_summary_data.withColumnRenamed('GrenadecastsValue', 'grenadeCastsValue')\n",
    "df_player_summary_data = df_player_summary_data.withColumnRenamed('Ability1CastsValue', 'ability1CastsValue')\n",
    "df_player_summary_data = df_player_summary_data.withColumnRenamed('Ability2CastsValue', 'ability2CastsValue')\n",
    "df_player_summary_data = df_player_summary_data.withColumnRenamed('UltimatecastsValue', 'ultimateCastsValue')\n",
    "df_player_summary_data = df_player_summary_data.withColumnRenamed('GrenadecastsperroundValue', 'grenadeCastsPerRoundValue')\n",
    "df_player_summary_data = df_player_summary_data.withColumnRenamed('Ability1CastsperroundValue', 'ability1CastsPerRoundValue')\n",
    "df_player_summary_data = df_player_summary_data.withColumnRenamed('Ability2CastsperroundValue', 'ability2CastsPerRoundValue')\n",
    "df_player_summary_data = df_player_summary_data.withColumnRenamed('UltimatecastsperroundValue', 'ultimateCastsPerRoundValue')\n",
    "df_player_summary_data = df_player_summary_data.withColumnRenamed('PlantsValue', 'plantsValue')\n",
    "df_player_summary_data = df_player_summary_data.withColumnRenamed('DefusesValue', 'defusesValue')\n",
    "df_player_summary_data = df_player_summary_data.withColumnRenamed('FirstkillsValue', 'firstKillsValue')\n",
    "df_player_summary_data = df_player_summary_data.withColumnRenamed('FirstdeathsValue', 'firstDeathsValue')\n",
    "df_player_summary_data = df_player_summary_data.withColumnRenamed('EsrValue', 'esrValue')\n",
    "df_player_summary_data = df_player_summary_data.withColumnRenamed('FirstkillsperroundValue', 'firstKillsPerRoundValue')\n",
    "df_player_summary_data = df_player_summary_data.withColumnRenamed('FirstdeathsperroundValue', 'firstDeathsPerRoundValue')\n",
    "df_player_summary_data = df_player_summary_data.withColumnRenamed('EconratingValue', 'econRatingValue')\n",
    "df_player_summary_data = df_player_summary_data.withColumnRenamed('HsaccuracyValue', 'hsAccuracyValue')\n",
    "df_player_summary_data = df_player_summary_data.withColumnRenamed('KastValue', 'KastValue')\n",
    "df_player_summary_data = df_player_summary_data.withColumnRenamed('ClutchesValue', 'clutchesValue')\n",
    "df_player_summary_data = df_player_summary_data.withColumnRenamed('RoundswinpctValue', 'roundsWinPctValue')\n",
    "df_player_summary_data = df_player_summary_data.withColumnRenamed('TrnperformancescoreValue', 'trnPerformanceScoreValue')\n",
    "df_player_summary_data = df_player_summary_data.withColumnRenamed('Partyid', 'partyId')\n",
    "df_player_summary_data = df_player_summary_data.withColumnRenamed('Teamid', 'teamId')\n",
    "df_player_summary_data = df_player_summary_data.withColumnRenamed('Agentkey', 'agentKey')\n",
    "df_player_summary_data = df_player_summary_data.withColumnRenamed('Agentname', 'agentName')\n",
    "df_player_summary_data = df_player_summary_data.withColumnRenamed('Agentcolor', 'agentColor')\n",
    "df_player_summary_data = df_player_summary_data.withColumnRenamed('Agentimageurl', 'agentImageUrl')\n",
    "df_player_summary_data = df_player_summary_data.withColumnRenamed('Agentportraiturl', 'agentPortraitUrl')\n",
    "df_player_summary_data = df_player_summary_data.withColumnRenamed('Countrycode', 'countryCode')\n",
    "df_player_summary_data = df_player_summary_data.withColumnRenamed('Platforminfo_Platformslug', 'platformInfoSlug')\n",
    "df_player_summary_data = df_player_summary_data.withColumnRenamed('Platforminfo_Platformuserid', 'PlatformInfoUserId')\n",
    "df_player_summary_data = df_player_summary_data.withColumnRenamed('Platforminfo_Platformuserhandle', 'platformInfoUserHandle')\n",
    "df_player_summary_data = df_player_summary_data.withColumnRenamed('Platforminfo_Avatarurl', 'avatarUrl')\n",
    "df_player_summary_data = df_player_summary_data.withColumnRenamed('Platforminfo_Additionalparameters', 'additionalInfoParameters')"
   ]
  },
  {
   "attachments": {},
   "cell_type": "markdown",
   "metadata": {},
   "source": [
    "### Matches Summary"
   ]
  },
  {
   "cell_type": "code",
   "execution_count": 26,
   "metadata": {},
   "outputs": [],
   "source": [
    "df_matches_summary_book = (\n",
    "    df_matches_summary_data\n",
    "    .select(\n",
    "        'userId', 'matchId', 'agentName', 'modeKey', 'modeName', 'modeMaxRounds', 'isAvailable',\n",
    "        'timestamp', 'metadataResult', 'hasWon', 'result', 'mapName', 'seasonName', 'playtimeValue',\n",
    "        'roundsPlayedValue', 'roundsWonValue', 'roundsLostValue', 'roundsDisconnectedValue',\n",
    "        'placementValue', 'scoreValue', 'killsValue', 'deathsValue', 'assistsValue', 'damageValue',\n",
    "        'damageReceivedValue', 'headshotsValue', 'grenadeCastsValue', 'ability1CastsValue',\n",
    "        'ability2CastsValue', 'ultimateCastsValue', 'dealtHeadshotsValue', 'dealtBodyshotsValue',\n",
    "        'dealtLegshotsValue', 'econRatingValue', 'suicidesValue', 'revivedValue', 'firstBloodsValue',\n",
    "        'firstDeathsValue', 'lastDeathsValue', 'survivedValue', 'tradedValue', 'kastedValue', 'kASTValue',\n",
    "        'flawlessValue', 'thriftyValue', 'acesValue', 'teamAcesValue', 'clutchesValue', 'clutchesLostValue',\n",
    "        'plantsValue', 'defusesValue', 'kdRatioValue', 'scorePerRoundValue', 'damagePerRoundValue',\n",
    "        'headshotsPercentageValue',  'damageDeltaValue', 'damageDeltaPerRoundValue', 'rankValue',\n",
    "        'trnPerformanceScoreValue',\n",
    "        )\n",
    ")"
   ]
  },
  {
   "cell_type": "code",
   "execution_count": 27,
   "metadata": {},
   "outputs": [
    {
     "name": "stderr",
     "output_type": "stream",
     "text": [
      "23/05/28 13:52:46 WARN package: Truncated the string representation of a plan since it was too large. This behavior can be adjusted by setting 'spark.sql.debug.maxToStringFields'.\n",
      "[Stage 0:>                                                          (0 + 1) / 1]\r"
     ]
    },
    {
     "name": "stdout",
     "output_type": "stream",
     "text": [
      "+---------------+--------------------+---------+-------+-----------+-------------+-----------+--------------------+--------------+------+-------+--------+----------+-------------+-----------------+--------------+---------------+-----------------------+--------------+----------+----------+-----------+------------+-----------+-------------------+--------------+-----------------+------------------+------------------+------------------+-------------------+-------------------+------------------+---------------+-------------+------------+----------------+----------------+---------------+-------------+-----------+-----------+---------+-------------+------------+---------+-------------+-------------+-----------------+-----------+------------+------------------+------------------+-------------------+------------------------+----------------+------------------------+---------+------------------------+\n",
      "|         userId|             matchId|agentName|modeKey|   modeName|modeMaxRounds|isAvailable|           timestamp|metadataResult|hasWon| result| mapName|seasonName|playtimeValue|roundsPlayedValue|roundsWonValue|roundsLostValue|roundsDisconnectedValue|placementValue|scoreValue|killsValue|deathsValue|assistsValue|damageValue|damageReceivedValue|headshotsValue|grenadeCastsValue|ability1CastsValue|ability2CastsValue|ultimateCastsValue|dealtHeadshotsValue|dealtBodyshotsValue|dealtLegshotsValue|econRatingValue|suicidesValue|revivedValue|firstBloodsValue|firstDeathsValue|lastDeathsValue|survivedValue|tradedValue|kastedValue|kASTValue|flawlessValue|thriftyValue|acesValue|teamAcesValue|clutchesValue|clutchesLostValue|plantsValue|defusesValue|      kdRatioValue|scorePerRoundValue|damagePerRoundValue|headshotsPercentageValue|damageDeltaValue|damageDeltaPerRoundValue|rankValue|trnPerformanceScoreValue|\n",
      "+---------------+--------------------+---------+-------+-----------+-------------+-----------+--------------------+--------------+------+-------+--------+----------+-------------+-----------------+--------------+---------------+-----------------------+--------------+----------+----------+-----------+------------+-----------+-------------------+--------------+-----------------+------------------+------------------+------------------+-------------------+-------------------+------------------+---------------+-------------+------------+----------------+----------------+---------------+-------------+-----------+-----------+---------+-------------+------------+---------+-------------+-------------+-----------------+-----------+------------+------------------+------------------+-------------------+------------------------+----------------+------------------------+---------+------------------------+\n",
      "|RayzenSama#6999|a8713cc0-c452-450...|     Fade|   bomb|Competitive|           25|       true|2023-05-18T03:51:...|       victory|  true|victory|    Bind|    E6: A3|         2568|               22|            13|              9|                    0.0|             5|      4736|        14|         17|           6|       2938|               3098|             7|             26.0|               6.0|              23.0|               3.0|                  9|                 50|                20|             51|            0|         0.0|               3|               3|              1|            5|          1|        NaN|     64.0|            0|         NaN|        0|            0|          NaN|              1.0|          1|           0|0.8235294117647058|215.27272727272728| 133.54545454545453|       11.39240506329114|            -160|      -7.272727272727272|      NaN|                     449|\n",
      "|RayzenSama#6999|ad35f083-1177-412...|     Raze|   bomb|Competitive|           25|       true|2023-05-18T03:14:...|        defeat| false| defeat|   Split|    E6: A3|         1962|               18|             5|             13|                    0.0|             6|      3335|        10|         15|           4|       2073|               2944|             2|             16.0|              11.0|              17.0|               2.0|                  5|                 43|                14|             46|            0|         0.0|               2|               4|              3|            3|          3|        NaN|     56.0|            0|         NaN|        0|            0|          NaN|              5.0|          0|           0|0.6666666666666666|185.27777777777777| 115.16666666666669|       8.064516129032258|            -871|     -48.388888888888886|      NaN|                      57|\n",
      "|RayzenSama#6999|f3f9571a-8e74-413...|     Fade|   bomb|Competitive|           25|       true|2023-05-18T02:39:...|        defeat| false| defeat|    Bind|    E6: A3|         1829|               18|             5|             13|                    0.0|             7|      3095|         8|         16|           6|       2360|               2637|             3|             13.0|               3.0|              20.0|               2.0|                  3|                 44|                 7|             56|            0|         0.0|               0|               6|              3|            2|          2|        NaN|     56.0|            0|         NaN|        0|            0|          NaN|              3.0|          0|           0|               0.5|171.94444444444446| 131.11111111111111|       5.555555555555555|            -277|      -15.38888888888889|      NaN|                      85|\n",
      "|RayzenSama#6999|e8fa4f68-e04c-4a8...|     Raze|   bomb|Competitive|           25|       true|2023-05-17T19:24:...|        defeat| false| defeat|   Lotus|    E6: A3|         2718|               26|            12|             14|                    0.0|             1|      7372|        25|         21|           3|       4394|               3436|             7|             21.0|              18.0|              24.0|               4.0|                  8|                 79|                20|             55|            0|         0.0|               6|               1|              3|            5|          5|        NaN|     73.0|            0|         NaN|        0|            0|          NaN|              2.0|          0|           0|1.1904761904761905|283.53846153846155|              169.0|       7.476635514018691|             958|       36.84615384615385|      NaN|                     720|\n",
      "|RayzenSama#6999|5a39151b-4f99-45c...|     Raze|   bomb|Competitive|           25|       true|2023-05-17T17:31:...|        defeat| false| defeat|   Pearl|    E6: A3|         2133|               22|             9|             13|                    0.0|             9|      3488|        13|         17|           5|       2235|               2856|             6|             17.0|              10.0|              16.0|               3.0|                  6|                 42|                 7|             40|            1|         0.0|               3|               2|              0|            5|          2|        NaN|     73.0|            0|         NaN|        0|            0|          NaN|              1.0|          1|           0|0.7647058823529411|158.54545454545453|  101.5909090909091|      10.909090909090908|            -621|     -28.227272727272727|      NaN|                     240|\n",
      "|RayzenSama#6999|96a89a26-1195-4f1...|     Fade|   bomb|Competitive|           25|       true|2023-05-16T23:28:...|        defeat| false| defeat|Fracture|    E6: A3|         2237|               22|             9|             13|                    0.0|             3|      5097|        14|         18|          10|       3280|               2930|             6|             16.0|               2.0|              23.0|               4.0|                  6|                 55|                18|             56|            0|         0.0|               2|               4|              0|            4|          0|        NaN|     64.0|            0|         NaN|        0|            0|          NaN|              NaN|          3|           0|0.7777777777777778| 231.6818181818182|  149.0909090909091|        7.59493670886076|             350|      15.909090909090908|      NaN|                     406|\n",
      "|RayzenSama#6999|30fafff3-f305-4a4...|    Reyna|   bomb|Competitive|           25|       true|2023-05-16T18:08:...|       victory|  true|victory|   Lotus|    E6: A3|         2149|               22|            13|              9|                    0.0|             8|      3138|        11|         15|           3|       1974|               3009|             5|             34.0|              11.0|               3.0|               1.0|                  5|                 30|                 6|             38|            0|         0.0|               1|               3|              1|            7|          4|        NaN|     64.0|            2|         NaN|        0|            0|          1.0|              NaN|          2|           0|0.7333333333333333|142.63636363636363|  89.72727272727273|      12.195121951219512|           -1035|      -47.04545454545455|      NaN|                     226|\n",
      "|RayzenSama#6999|094d9829-9ee7-4b2...|     Fade|   bomb|Competitive|           25|       true|2023-05-13T22:43:...|        defeat| false| defeat|  Ascent|    E6: A3|         1899|               17|             4|             13|                    0.0|             7|      3364|        12|         15|           0|       1838|               3269|             3|             13.0|               3.0|              21.0|               3.0|                  5|                 51|                 6|             44|            0|         0.0|               1|               1|              2|            2|          1|        NaN|     53.0|            1|         NaN|        0|            0|          NaN|              2.0|          1|           0|               0.8| 197.8823529411765| 108.11764705882354|       8.064516129032258|           -1431|      -84.17647058823529|      NaN|                      82|\n",
      "|RayzenSama#6999|f780e0df-0539-472...|     Omen|   bomb|Competitive|           25|       true|2023-05-12T16:34:...|       victory|  true|victory|Fracture|    E6: A3|         2991|               28|            15|             13|                    0.0|            10|      3591|        12|         20|           6|       2413|               3784|             6|              8.0|              11.0|              32.0|               2.0|                  7|                 42|                 8|             30|            0|         0.0|               3|               3|              3|            8|          3|        NaN|     68.0|            1|         NaN|        0|            0|          NaN|              3.0|          8|           0|               0.6|            128.25|  86.17857142857143|      12.280701754385964|           -1371|      -48.96428571428572|      NaN|                     253|\n",
      "|RayzenSama#6999|2161d9b7-22f7-4b8...|     Raze|   bomb|Competitive|           25|       true|2023-05-12T14:36:...|        defeat| false| defeat|   Split|    E6: A3|         1584|               15|             2|             13|                    0.0|            10|      1550|         4|         15|           1|       1119|               2598|             1|             11.0|               5.0|              12.0|               2.0|                  1|                 23|                 7|             31|            0|         0.0|               1|               6|              1|            1|          0|        NaN|     27.0|            0|         NaN|        0|            0|          NaN|              1.0|          3|           0|0.2666666666666666|103.33333333333331|               74.6|       3.225806451612903|           -1479|                   -98.6|      NaN|                       1|\n",
      "|RayzenSama#6999|5c749f3c-f2be-401...|     Sage|   bomb|Competitive|           25|       true|2023-05-12T12:23:...|       victory|  true|victory|   Pearl|    E6: A3|         1862|               18|            13|              5|                    0.0|             8|      3024|        10|         10|           5|       2028|               2540|             3|             10.0|               8.0|              13.0|               1.0|                  4|                 47|                10|             47|            0|         0.0|               1|               3|              0|            8|          2|        NaN|     67.0|            1|         NaN|        0|            1|          2.0|              1.0|          0|           0|               1.0|             168.0| 112.66666666666669|       6.557377049180328|            -512|     -28.444444444444443|      NaN|                     291|\n",
      "|RayzenSama#6999|edcb0152-48ca-47b...|     Fade|   bomb|Competitive|           25|       true|2023-05-12T00:30:...|       victory|  true|victory|    Bind|    E6: A3|         2243|               21|            13|              8|                    0.0|             3|      5073|        17|         14|          11|       2812|               2606|             3|             28.0|              10.0|              26.0|               3.0|                  3|                 68|                15|             62|            0|         0.0|               2|               2|              2|            8|          3|        NaN|     76.0|            0|         NaN|        1|            0|          NaN|              2.0|          1|           0|1.2142857142857142|241.57142857142856|  133.9047619047619|       3.488372093023256|             206|        9.80952380952381|      NaN|                     841|\n",
      "|RayzenSama#6999|534a5d0b-0ee4-490...|     Sova|   bomb|Competitive|           25|       true|2023-05-11T22:45:...|        defeat| false| defeat|   Haven|    E6: A3|         1796|               18|             5|             13|                    0.0|             8|      2755|         8|         17|           6|       1859|               2887|             4|              1.0|               0.0|              17.0|               1.0|                  5|                 41|                 9|             45|            0|         1.0|               1|               3|              2|            1|          0|        NaN|     67.0|            1|         NaN|        0|            0|          NaN|              2.0|          0|           0|0.4705882352941176|153.05555555555554| 103.27777777777776|       9.090909090909092|           -1028|      -57.11111111111112|      NaN|                      57|\n",
      "|RayzenSama#6999|0b171f6a-ef53-40f...|    Reyna|   bomb|Competitive|           25|       true|2023-05-11T16:30:...|       victory|  true|victory|   Lotus|    E6: A3|         2584|               26|            14|             12|                    0.0|             1|      8094|        31|         16|           3|       4961|               4246|            15|             36.0|              25.0|               8.0|               3.0|                 15|                 68|                11|             62|            0|         0.0|               5|               0|              2|           10|          5|        NaN|     77.0|            1|         NaN|        0|            0|          2.0|              NaN|          4|           0|            1.9375| 311.3076923076923| 190.80769230769232|       15.95744680851064|             715|                    27.5|      NaN|                     936|\n",
      "|RayzenSama#6999|c6b5dd73-e8b6-48b...|    Reyna|   bomb|Competitive|           25|       true|2023-05-10T23:57:...|        defeat| false| defeat|  Ascent|    E6: A3|         2079|               19|             6|             13|                    0.0|             4|      4315|        14|         14|           4|       2612|               2096|             6|             16.0|              10.0|               6.0|               2.0|                  6|                 50|                20|             59|            0|         0.0|               2|               3|              1|            5|          2|        NaN|     74.0|            0|         NaN|        0|            0|          NaN|              1.0|          0|           1|               1.0|227.10526315789477| 137.47368421052633|       7.894736842105263|             516|      27.157894736842103|      NaN|                     634|\n",
      "|RayzenSama#6999|213e9acd-3f7b-4a8...|    Reyna|   bomb|Competitive|           25|       true|2023-05-10T00:33:...|       victory|  true|victory|  Ascent|    E6: A3|         2643|               24|            13|             11|                    0.0|             9|      4481|        14|         19|          11|       2897|               3461|             6|             25.0|              12.0|               4.0|               4.0|                  9|                 45|                11|             47|            0|         0.0|               5|               3|              1|            5|          4|        NaN|     75.0|            0|         NaN|        0|            0|          NaN|              1.0|          1|           0|0.7368421052631579|186.70833333333331| 120.70833333333331|      13.846153846153848|            -564|                   -23.5|      NaN|                     513|\n",
      "|RayzenSama#6999|50d20626-8aae-487...|     Neon|   bomb|Competitive|           25|       true|2023-05-06T19:39:...|       victory|  true|victory|Fracture|    E6: A3|         2189|               24|            13|             11|                    0.0|             4|      6252|        21|         18|           6|       3967|               3079|             9|              6.0|               2.0|              12.0|               2.0|                 12|                 98|                24|             65|            0|         0.0|               4|               2|              3|            6|          3|        NaN|     75.0|            1|         NaN|        0|            0|          NaN|              3.0|          1|           0|1.1666666666666667|             260.5| 165.29166666666666|       8.955223880597014|             888|                    37.0|      NaN|                     912|\n",
      "|RayzenSama#6999|fa0c2c74-c764-493...|     Raze|   bomb|Competitive|           25|       true|2023-05-06T18:58:...|        defeat| false| defeat|   Split|    E6: A3|         2334|               22|             9|             13|                    0.0|             4|      5201|        17|         17|           7|       3338|               2843|             6|             15.0|               7.0|              18.0|               3.0|                  9|                 61|                17|             64|            0|         0.0|               2|               6|              1|            5|          3|        NaN|     68.0|            0|         NaN|        0|            0|          1.0|              1.0|          1|           0|               1.0| 236.4090909090909| 151.72727272727272|      10.344827586206897|             495|                    22.5|      NaN|                     489|\n",
      "|RayzenSama#6999|a4914d94-3f66-483...|     Raze|   bomb|Competitive|           25|       true|2023-05-06T03:12:...|       victory|  true|victory|    Bind|    E6: A3|         1689|               16|            13|              3|                    0.0|             6|      3039|        10|         10|           8|       2070|               2154|             3|             14.0|               7.0|              13.0|               1.0|                  8|                 32|                14|             55|            0|         0.0|               0|               2|              0|            7|          2|        NaN|     81.0|            1|         NaN|        0|            0|          NaN|              NaN|          0|           0|               1.0|          189.9375|            129.375|      14.814814814814811|             -84|                   -5.25|      NaN|                     630|\n",
      "|RayzenSama#6999|cddedd61-90c0-4e6...|     Sova|   bomb|Competitive|           25|       true|2023-05-06T02:31:...|       victory|  true|victory|   Haven|    E6: A3|         2211|               20|            13|              7|                    0.0|             9|      3052|        12|         13|           5|       1833|               2117|             2|              1.0|              14.0|              32.0|               3.0|                  2|                 32|                 9|             44|            0|         0.0|               2|               1|              2|            7|          1|        NaN|     75.0|            1|         NaN|        0|            0|          1.0|              1.0|         10|           0|0.9230769230769232|             152.6|              91.65|       4.651162790697675|            -284|                   -14.2|      NaN|                     509|\n",
      "+---------------+--------------------+---------+-------+-----------+-------------+-----------+--------------------+--------------+------+-------+--------+----------+-------------+-----------------+--------------+---------------+-----------------------+--------------+----------+----------+-----------+------------+-----------+-------------------+--------------+-----------------+------------------+------------------+------------------+-------------------+-------------------+------------------+---------------+-------------+------------+----------------+----------------+---------------+-------------+-----------+-----------+---------+-------------+------------+---------+-------------+-------------+-----------------+-----------+------------+------------------+------------------+-------------------+------------------------+----------------+------------------------+---------+------------------------+\n",
      "only showing top 20 rows\n",
      "\n"
     ]
    },
    {
     "name": "stderr",
     "output_type": "stream",
     "text": [
      "                                                                                \r"
     ]
    }
   ],
   "source": [
    "df_matches_summary_book.show()"
   ]
  },
  {
   "cell_type": "code",
   "execution_count": 28,
   "metadata": {},
   "outputs": [
    {
     "name": "stdout",
     "output_type": "stream",
     "text": [
      "Data was written to S3://s3-tcc-fia-valorant/valorant/refined/matches-summary-book/\n"
     ]
    }
   ],
   "source": [
    "save_dataframe_csv('s3-tcc-fia-valorant', 'valorant/refined/matches-summary-book/', 'matches-summary-book', df_matches_summary_book, '.csv')"
   ]
  },
  {
   "attachments": {},
   "cell_type": "markdown",
   "metadata": {},
   "source": [
    "### Match Metadata"
   ]
  },
  {
   "cell_type": "code",
   "execution_count": 29,
   "metadata": {},
   "outputs": [],
   "source": [
    "df_match_metadata_book = (\n",
    "    df_match_metadata_data\n",
    "    .select(\n",
    "        'matchId', 'expiryDate', 'modeKey',\n",
    "        'modeName', 'modeMaxRounds', 'duration',\n",
    "        'dateStarted', 'rounds', 'isRanked',\n",
    "        'queueId', 'mapName', \n",
    "    )\n",
    ")"
   ]
  },
  {
   "cell_type": "code",
   "execution_count": 30,
   "metadata": {},
   "outputs": [
    {
     "name": "stdout",
     "output_type": "stream",
     "text": [
      "Data was written to S3://s3-tcc-fia-valorant/valorant/refined/match-metadata-book/\n"
     ]
    }
   ],
   "source": [
    "save_dataframe_csv('s3-tcc-fia-valorant', 'valorant/refined/match-metadata-book/', 'match-metadata-book', df_match_metadata_book, '.csv')"
   ]
  },
  {
   "attachments": {},
   "cell_type": "markdown",
   "metadata": {},
   "source": [
    "### Round Summary"
   ]
  },
  {
   "cell_type": "code",
   "execution_count": 31,
   "metadata": {},
   "outputs": [],
   "source": [
    "df_round_summary_book = (\n",
    "    df_round_summary_data\n",
    "    .select(\n",
    "        'matchId', 'round', 'roundResultValue', 'winningTeamValue', \n",
    "    )\n",
    ")"
   ]
  },
  {
   "cell_type": "code",
   "execution_count": 32,
   "metadata": {},
   "outputs": [
    {
     "name": "stdout",
     "output_type": "stream",
     "text": [
      "Data was written to S3://s3-tcc-fia-valorant/valorant/refined/round-summary-book/\n"
     ]
    }
   ],
   "source": [
    "save_dataframe_csv('s3-tcc-fia-valorant', 'valorant/refined/round-summary-book/', 'round-summary-book', df_round_summary_book, '.csv')"
   ]
  },
  {
   "attachments": {},
   "cell_type": "markdown",
   "metadata": {},
   "source": [
    "### Player Summary"
   ]
  },
  {
   "cell_type": "code",
   "execution_count": 33,
   "metadata": {},
   "outputs": [],
   "source": [
    "df_player_summary_book = (\n",
    "    df_player_summary_data\n",
    "    .select(\n",
    "        'matchId', 'platformUserIdentifier', 'rankValue', 'currRankValue',\n",
    "        'scoreValue', 'scorePerRoundValue', 'killsPerRoundValue', 'killsValue',\n",
    "        'deathsValue', 'assistsValue', 'kdRatioValue', 'damageValue', 'damagePerRoundValue',\n",
    "        'damageDeltaPerRoundValue', 'singleKillsValue', 'doubleKillsValue', 'tripleKillsValue',\n",
    "        'quadraKillsValue', 'pentaKillsValue', 'multiKillsValue', 'grenadeCastsValue', 'ability1CastsValue',\n",
    "        'ability2CastsValue', 'ultimateCastsValue', 'grenadeCastsPerRoundValue', 'ability1CastsPerRoundValue',\n",
    "        'ability2CastsPerRoundValue', 'ultimateCastsPerRoundValue', 'plantsValue', 'defusesValue', 'firstKillsValue',\n",
    "        'firstDeathsValue', 'esrValue', 'firstKillsPerRoundValue', 'firstDeathsPerRoundValue', 'econRatingValue',\n",
    "        'hsAccuracyValue', 'KastValue', 'clutchesValue', 'roundsWinPctValue', 'trnPerformanceScoreValue', 'partyId',\n",
    "        'teamId', 'agentName'\n",
    "    )\n",
    ")"
   ]
  },
  {
   "cell_type": "code",
   "execution_count": 34,
   "metadata": {},
   "outputs": [
    {
     "name": "stdout",
     "output_type": "stream",
     "text": [
      "Data was written to S3://s3-tcc-fia-valorant/valorant/refined/player-summary-book/\n"
     ]
    }
   ],
   "source": [
    "save_dataframe_csv('s3-tcc-fia-valorant', 'valorant/refined/player-summary-book/', 'player-summary-book', df_player_summary_book, '.csv')"
   ]
  },
  {
   "attachments": {},
   "cell_type": "markdown",
   "metadata": {},
   "source": [
    "### Player Loadout"
   ]
  },
  {
   "cell_type": "code",
   "execution_count": 35,
   "metadata": {},
   "outputs": [],
   "source": [
    "df_player_loadout_book = (\n",
    "    df_player_loadout_data\n",
    "    .select(\n",
    "        'matchId', 'PlatformUserIdentifier', 'loadout',\n",
    "        'statName', 'statValue'\n",
    "    )\n",
    ")"
   ]
  },
  {
   "cell_type": "code",
   "execution_count": 36,
   "metadata": {},
   "outputs": [
    {
     "name": "stderr",
     "output_type": "stream",
     "text": [
      "23/05/28 13:52:53 WARN TaskSetManager: Stage 5 contains a task of very large size (1176 KiB). The maximum recommended task size is 1000 KiB.\n"
     ]
    },
    {
     "name": "stdout",
     "output_type": "stream",
     "text": [
      "Data was written to S3://s3-tcc-fia-valorant/valorant/refined/player-loadout-book/\n"
     ]
    }
   ],
   "source": [
    "save_dataframe_csv('s3-tcc-fia-valorant', 'valorant/refined/player-loadout-book/', 'player-loadout-book', df_player_loadout_book, '.csv')"
   ]
  },
  {
   "attachments": {},
   "cell_type": "markdown",
   "metadata": {},
   "source": [
    "### Player Round Damage"
   ]
  },
  {
   "cell_type": "code",
   "execution_count": 37,
   "metadata": {},
   "outputs": [],
   "source": [
    "df_player_round_damage_book = (\n",
    "    df_player_round_damage_data\n",
    "    .select(\n",
    "        'matchId', 'platformUserIdentifier', 'opponentPlatformUserIdentifier', 'round',\n",
    "        'damageValue', 'legShotsValue', 'bodyShotsValue', \n",
    "    )\n",
    ")"
   ]
  },
  {
   "cell_type": "code",
   "execution_count": 38,
   "metadata": {},
   "outputs": [
    {
     "name": "stderr",
     "output_type": "stream",
     "text": [
      "23/05/28 13:52:56 WARN TaskSetManager: Stage 6 contains a task of very large size (6506 KiB). The maximum recommended task size is 1000 KiB.\n",
      "                                                                                \r"
     ]
    },
    {
     "name": "stdout",
     "output_type": "stream",
     "text": [
      "Data was written to S3://s3-tcc-fia-valorant/valorant/refined/player-round-damage-book/\n"
     ]
    }
   ],
   "source": [
    "save_dataframe_csv('s3-tcc-fia-valorant', 'valorant/refined/player-round-damage-book/', 'player-round-damage-book', df_player_round_damage_book, '.csv')"
   ]
  },
  {
   "attachments": {},
   "cell_type": "markdown",
   "metadata": {},
   "source": [
    "### Player Round Kills"
   ]
  },
  {
   "cell_type": "code",
   "execution_count": 39,
   "metadata": {},
   "outputs": [],
   "source": [
    "df_player_round_kills_book = (\n",
    "    df_player_round_kills_data\n",
    "    .select(\n",
    "        'matchId', 'platformUserIdentifier', 'opponentPlatformUserIdentifier', 'round', \n",
    "        'damageValue', 'opponentLocationX', 'opponentLocationY', 'finishingDamageType', 'finishingDamageIsSecondaryFireMode',\n",
    "        'weaponName', 'weaponCategory', 'gameTime', 'roundTime'\n",
    "    )\n",
    ")"
   ]
  },
  {
   "cell_type": "code",
   "execution_count": 40,
   "metadata": {},
   "outputs": [
    {
     "name": "stderr",
     "output_type": "stream",
     "text": [
      "23/05/28 13:53:00 WARN TaskSetManager: Stage 7 contains a task of very large size (10779 KiB). The maximum recommended task size is 1000 KiB.\n",
      "                                                                                \r"
     ]
    },
    {
     "name": "stdout",
     "output_type": "stream",
     "text": [
      "Data was written to S3://s3-tcc-fia-valorant/valorant/refined/player-round-kills-book/\n"
     ]
    }
   ],
   "source": [
    "save_dataframe_csv('s3-tcc-fia-valorant', 'valorant/refined/player-round-kills-book/', 'player-round-kills-book', df_player_round_kills_book, '.csv')"
   ]
  },
  {
   "attachments": {},
   "cell_type": "markdown",
   "metadata": {},
   "source": [
    "### Player Round"
   ]
  },
  {
   "cell_type": "code",
   "execution_count": 41,
   "metadata": {},
   "outputs": [],
   "source": [
    "df_player_round_book = (\n",
    "    df_player_round_data\n",
    "    .select(\n",
    "        'matchId', 'platformUserIdentifier', 'round', \n",
    "        'assistsValue', 'damageValue', 'deathsValue', \n",
    "        'kdRatio', 'killsValue', 'loadoutValue', 'remainingCredits',\n",
    "        'scoreValue', 'spentCredits'\n",
    "    )\n",
    ")"
   ]
  },
  {
   "cell_type": "code",
   "execution_count": 42,
   "metadata": {},
   "outputs": [
    {
     "name": "stderr",
     "output_type": "stream",
     "text": [
      "23/05/28 13:53:03 WARN TaskSetManager: Stage 8 contains a task of very large size (2644 KiB). The maximum recommended task size is 1000 KiB.\n"
     ]
    },
    {
     "name": "stdout",
     "output_type": "stream",
     "text": [
      "Data was written to S3://s3-tcc-fia-valorant/valorant/refined/player-round-book/\n"
     ]
    }
   ],
   "source": [
    "save_dataframe_csv('s3-tcc-fia-valorant', 'valorant/refined/player-round-book/', 'player-round-book', df_player_round_book, '.csv')"
   ]
  },
  {
   "attachments": {},
   "cell_type": "markdown",
   "metadata": {},
   "source": [
    "### Team Summary"
   ]
  },
  {
   "cell_type": "code",
   "execution_count": 43,
   "metadata": {},
   "outputs": [],
   "source": [
    "df_team_summary_book = (\n",
    "    df_team_summary_data\n",
    "    .select(\n",
    "        'matchId', 'teamId', 'hasWon', 'roundsWonValue', 'roundslostValue',\n",
    "        'scoreValue', 'killsValue', 'deathsValue', 'assistsValue', 'damageValue'\n",
    "    )\n",
    ")"
   ]
  },
  {
   "cell_type": "code",
   "execution_count": 44,
   "metadata": {},
   "outputs": [
    {
     "name": "stdout",
     "output_type": "stream",
     "text": [
      "Data was written to S3://s3-tcc-fia-valorant/valorant/refined/team-summary-book/\n"
     ]
    }
   ],
   "source": [
    "save_dataframe_csv('s3-tcc-fia-valorant', 'valorant/refined/team-summary-book/', 'team-summary-book', df_team_summary_book, '.csv')"
   ]
  },
  {
   "attachments": {},
   "cell_type": "markdown",
   "metadata": {},
   "source": [
    "### Players"
   ]
  },
  {
   "cell_type": "code",
   "execution_count": 45,
   "metadata": {},
   "outputs": [],
   "source": [
    "df_player_book = df_player_summary_book"
   ]
  },
  {
   "cell_type": "code",
   "execution_count": 46,
   "metadata": {},
   "outputs": [],
   "source": [
    "df_player_book = (\n",
    "    df_player_book.alias(\"p\")\n",
    "    .join(df_team_summary_book.alias(\"t\"), \n",
    "          (col(\"p.matchId\") == col(\"t.matchId\")) & \n",
    "          (col(\"p.teamId\") == col(\"t.teamId\")),\n",
    "          \"inner\")\n",
    "    .select(\n",
    "        col(\"p.*\"),\n",
    "        col(\"t.hasWon\"),\n",
    "        col(\"t.roundsWonValue\"),\n",
    "        col(\"t.roundslostValue\"),\n",
    "        col(\"t.scoreValue\").alias(\"teamScoreValue\"),\n",
    "        col(\"t.killsValue\").alias(\"teamKillsValue\"),\n",
    "        col(\"t.deathsValue\").alias(\"teamDeathsValue\"),\n",
    "        col(\"t.assistsValue\").alias(\"teamAssistsValue\"),\n",
    "        col(\"t.damageValue\").alias(\"teamDamageValue\")\n",
    "    )\n",
    ")"
   ]
  },
  {
   "cell_type": "code",
   "execution_count": 47,
   "metadata": {},
   "outputs": [],
   "source": [
    "df_player_book = (\n",
    "    df_player_book.alias(\"p\")\n",
    "    .join(df_player_round_book.alias(\"t\"), \n",
    "          (col(\"p.matchId\") == col(\"t.matchId\")) & \n",
    "          (col(\"p.platformUserIdentifier\") == col(\"t.platformUserIdentifier\")),\n",
    "          \"inner\")\n",
    "    .groupBy(\"p.matchId\", \"p.platformUserIdentifier\")\n",
    "    .agg(\n",
    "        sum(\"t.spentCredits\").alias(\"totalSpentCredits\"),\n",
    "        count(\"t.round\").alias(\"totalRounds\")\n",
    "\n",
    "    )\n",
    "    .join(df_player_book, [\"matchId\", \"platformUserIdentifier\"], \"inner\")\n",
    ")"
   ]
  },
  {
   "cell_type": "code",
   "execution_count": 48,
   "metadata": {},
   "outputs": [],
   "source": [
    "df_player_book = (\n",
    "    df_player_book.alias(\"p\")\n",
    "    .join(df_player_round_kills_book.alias(\"t\"), \n",
    "          (col(\"p.matchId\") == col(\"t.matchId\")) & \n",
    "          (col(\"p.platformUserIdentifier\") == col(\"t.platformUserIdentifier\")),\n",
    "          \"inner\")\n",
    "    .groupBy(\"p.matchId\", \"p.platformUserIdentifier\", \"t.weaponName\")\n",
    "    .agg(\n",
    "        count(\"t.weaponName\").alias(\"totalKillsWeaponName\")\n",
    "    )\n",
    "    .join(df_player_book, [\"matchId\", \"platformUserIdentifier\"], \"inner\")\n",
    ")"
   ]
  },
  {
   "cell_type": "code",
   "execution_count": 49,
   "metadata": {},
   "outputs": [],
   "source": [
    "df_player_round_kills_book_aux = df_player_round_kills_book.groupBy(\"matchId\", \"platformUserIdentifier\", \"weaponName\") \\\n",
    "    .agg(count(\"weaponName\").alias(\"totalKillsWeaponName\"))\n",
    "\n",
    "df_player_book_aux = df_player_book.alias(\"p\") \\\n",
    "    .join(df_player_round_kills_book_aux.alias(\"t\"),\n",
    "          (col(\"p.matchId\") == col(\"t.matchId\")) &\n",
    "          (col(\"p.platformUserIdentifier\") == col(\"t.platformUserIdentifier\")),\n",
    "          \"inner\") \\\n",
    "    .groupBy(\"p.matchId\", \"p.platformUserIdentifier\") \\\n",
    "    .agg(\n",
    "        max(col(\"t.weaponName\")).alias(\"weaponName\"),\n",
    "        max(col(\"t.totalKillsWeaponName\")).alias(\"maxTotalKillsWeaponName\")\n",
    "    )"
   ]
  },
  {
   "cell_type": "code",
   "execution_count": 50,
   "metadata": {},
   "outputs": [],
   "source": [
    "df_player_book = df_player_book.drop(\"weaponName\", \"totalKillsWeaponName\")\n",
    "df_player_book = df_player_book.dropDuplicates([\"matchId\", \"platformUserIdentifier\"])"
   ]
  },
  {
   "cell_type": "code",
   "execution_count": 51,
   "metadata": {},
   "outputs": [],
   "source": [
    "df_player_book = (\n",
    "    df_player_book.alias(\"p\")\n",
    "    .join(df_player_book_aux.alias(\"t\"), \n",
    "          (col(\"p.matchId\") == col(\"t.matchId\")) & \n",
    "          (col(\"p.platformUserIdentifier\") == col(\"t.platformUserIdentifier\")),\n",
    "          \"inner\")\n",
    "          .select(\"p.*\", \"t.weaponName\", \"maxTotalKillsWeaponName\")\n",
    "    )"
   ]
  },
  {
   "cell_type": "code",
   "execution_count": 52,
   "metadata": {},
   "outputs": [],
   "source": [
    "df_player_book = (\n",
    "    df_player_book.alias(\"p\")\n",
    "    .join(df_matches_summary_book.alias(\"t\"), \n",
    "          (col(\"p.matchId\") == col(\"t.matchId\")),\n",
    "          \"inner\")\n",
    "          .select(\"p.*\",\n",
    "                   \"t.isAvailable\",\n",
    "                   \"t.timestamp\",\n",
    "                   \"t.seasonName\",\n",
    "                   \"t.mapName\",\n",
    "                   \"t.playtimeValue\",\n",
    "                   \"t.result\"\n",
    "                   )\n",
    "    )"
   ]
  },
  {
   "cell_type": "code",
   "execution_count": 53,
   "metadata": {},
   "outputs": [],
   "source": [
    "df_player_book = (\n",
    "    df_player_book.alias(\"p\")\n",
    "    .join(df_match_metadata_data.alias(\"t\"), \n",
    "          (col(\"p.matchId\") == col(\"t.matchId\")),\n",
    "          \"inner\")\n",
    "          .select(\"p.*\",\n",
    "                   \"t.expiryDate\",\n",
    "                   \"t.modeKey\",\n",
    "                   \"t.modeName\",\n",
    "                   \"t.modeMaxRounds\",\n",
    "                   \"t.duration\",\n",
    "                   \"t.dateStarted\",\n",
    "                   )\n",
    "    )"
   ]
  },
  {
   "cell_type": "code",
   "execution_count": 54,
   "metadata": {},
   "outputs": [],
   "source": [
    "total_players_per_matches =(\n",
    "     df_player_book\n",
    "        .groupBy('matchId')\n",
    "        .agg(count(col('platformUserIdentifier'))\n",
    "             .alias('totalPlayersMatch'))\n",
    "             )"
   ]
  },
  {
   "cell_type": "code",
   "execution_count": 55,
   "metadata": {},
   "outputs": [],
   "source": [
    "df_player_book = (\n",
    "    df_player_book.alias(\"p\")\n",
    "    .join(total_players_per_matches.alias(\"t\"), \n",
    "          (col(\"p.matchId\") == col(\"t.matchId\")),\n",
    "          \"inner\")\n",
    "          .select(\"p.*\",\n",
    "                  \"t.totalPlayersMatch\")\n",
    ")"
   ]
  },
  {
   "cell_type": "code",
   "execution_count": 56,
   "metadata": {},
   "outputs": [],
   "source": [
    "total_players_per_matches =(\n",
    "     df_player_book\n",
    "        .groupBy('matchId', 'teamId')\n",
    "        .agg(count(col('teamId'))\n",
    "             .alias('totalPlayersTeam'))\n",
    "             )"
   ]
  },
  {
   "cell_type": "code",
   "execution_count": 57,
   "metadata": {},
   "outputs": [],
   "source": [
    "df_player_book = (\n",
    "    df_player_book.alias(\"p\")\n",
    "    .join(total_players_per_matches.alias(\"t\"), \n",
    "          (col(\"p.matchId\") == col(\"t.matchId\")) & (col(\"p.teamId\") == col(\"t.teamId\")),\n",
    "          \"inner\")\n",
    "    .select(\"p.*\",\"t.totalPlayersTeam\")\n",
    ")"
   ]
  },
  {
   "cell_type": "code",
   "execution_count": 58,
   "metadata": {},
   "outputs": [],
   "source": [
    "df_player_book = df_player_book.withColumn(\"dateMatch\", expr(\"date(timestamp)\"))\n",
    "df_player_book = df_player_book.withColumn(\"hourMatch\", expr(\"hour(timestamp)\"))\n",
    "df_player_book = df_player_book.withColumn(\"minutesMatch\", expr(\"minute(timestamp)\"))"
   ]
  },
  {
   "cell_type": "code",
   "execution_count": 59,
   "metadata": {},
   "outputs": [],
   "source": [
    "to_minutes = udf(lambda x: round(x / 60, 2), StringType())\n",
    "to_hours = udf(lambda x: round(x / 3600, 2), StringType())"
   ]
  },
  {
   "cell_type": "code",
   "execution_count": 60,
   "metadata": {},
   "outputs": [],
   "source": [
    "df_player_book = df_player_book.withColumn(\"playtimeMinutesValue\", to_minutes(col(\"playtimeValue\")))\n",
    "df_player_book = df_player_book.withColumn(\"playtimeHoursValue\", to_hours(col(\"playtimeValue\")))"
   ]
  },
  {
   "cell_type": "code",
   "execution_count": 61,
   "metadata": {},
   "outputs": [],
   "source": [
    "df_player_book = df_player_book.withColumn(\"weekDayNumber\", dayofweek(col(\"dateMatch\")))\n",
    "df_player_book = df_player_book.withColumn(\"weekDay\", date_format(col(\"dateMatch\"), \"EEEE\"))"
   ]
  },
  {
   "cell_type": "code",
   "execution_count": 62,
   "metadata": {},
   "outputs": [],
   "source": [
    "df_player_book = (\n",
    "    df_player_book\n",
    "        .withColumn(\"rankNumberValue\",\n",
    "                    when(col(\"rankValue\") == \"Unranked\", 1)\n",
    "                    .when(col(\"rankValue\") == \"Iron 1\", 2)\n",
    "                    .when(col(\"rankValue\") == \"Iron 2\", 3)\n",
    "                    .when(col(\"rankValue\") == \"Iron 3\", 4)\n",
    "                    .when(col(\"rankValue\") == \"Bronze 1\", 5)\n",
    "                    .when(col(\"rankValue\") == \"Bronze 2\", 6)\n",
    "                    .when(col(\"rankValue\") == \"Bronze 3\", 7)\n",
    "                    .when(col(\"rankValue\") == \"Silver 1\", 8)\n",
    "                    .when(col(\"rankValue\") == \"Silver 2\", 9)\n",
    "                    .when(col(\"rankValue\") == \"Silver 3\", 10)\n",
    "                    .when(col(\"rankValue\") == \"Gold 1\", 11)\n",
    "                    .when(col(\"rankValue\") == \"Gold 2\", 12)\n",
    "                    .when(col(\"rankValue\") == \"Gold 3\", 13)\n",
    "                    .when(col(\"rankValue\") == \"Platinum 1\", 14)\n",
    "                    .when(col(\"rankValue\") == \"Platinum 2\", 15)\n",
    "                    .when(col(\"rankValue\") == \"Platinum 3\", 16)\n",
    "                    .when(col(\"rankValue\") == \"Diamond 1\", 17)\n",
    "                    .when(col(\"rankValue\") == \"Diamond 2\", 18)\n",
    "                    .when(col(\"rankValue\") == \"Diamond 3\", 19)\n",
    "                    .when(col(\"rankValue\") == \"Immortal 1\", 20)\n",
    "                    .when(col(\"rankValue\") == \"Immortal 2\", 21)\n",
    "                    .when(col(\"rankValue\") == \"Immortal 3\", 22)\n",
    "                    .when(col(\"rankValue\") == \"Radiant 1\", 23)\n",
    "                    .when(col(\"rankValue\") == \"Radiant 2\", 24)\n",
    "                    .when(col(\"rankValue\") == \"Radiant 3\", 25)\n",
    "                                    .otherwise(0)))"
   ]
  },
  {
   "cell_type": "code",
   "execution_count": 63,
   "metadata": {},
   "outputs": [],
   "source": [
    "df_player_book = (\n",
    "    df_player_book\n",
    "        .withColumn(\"currRankNumberValue\",\n",
    "                    when(col(\"currRankValue\") == \"Unranked\", 1)\n",
    "                    .when(col(\"currRankValue\") == \"Iron 1\", 2)\n",
    "                    .when(col(\"currRankValue\") == \"Iron 2\", 3)\n",
    "                    .when(col(\"currRankValue\") == \"Iron 3\", 4)\n",
    "                    .when(col(\"currRankValue\") == \"Bronze 1\", 5)\n",
    "                    .when(col(\"currRankValue\") == \"Bronze 2\", 6)\n",
    "                    .when(col(\"currRankValue\") == \"Bronze 3\", 7)\n",
    "                    .when(col(\"currRankValue\") == \"Silver 1\", 8)\n",
    "                    .when(col(\"currRankValue\") == \"Silver 2\", 9)\n",
    "                    .when(col(\"currRankValue\") == \"Silver 3\", 10)\n",
    "                    .when(col(\"currRankValue\") == \"Gold 1\", 11)\n",
    "                    .when(col(\"currRankValue\") == \"Gold 2\", 12)\n",
    "                    .when(col(\"currRankValue\") == \"Gold 3\", 13)\n",
    "                    .when(col(\"currRankValue\") == \"Platinum 1\", 14)\n",
    "                    .when(col(\"currRankValue\") == \"Platinum 2\", 15)\n",
    "                    .when(col(\"currRankValue\") == \"Platinum 3\", 16)\n",
    "                    .when(col(\"currRankValue\") == \"Diamond 1\", 17)\n",
    "                    .when(col(\"currRankValue\") == \"Diamond 2\", 18)\n",
    "                    .when(col(\"currRankValue\") == \"Diamond 3\", 19)\n",
    "                    .when(col(\"currRankValue\") == \"Immortal 1\", 20)\n",
    "                    .when(col(\"currRankValue\") == \"Immortal 2\", 21)\n",
    "                    .when(col(\"currRankValue\") == \"Immortal 3\", 22)\n",
    "                    .when(col(\"currRankValue\") == \"Radiant 1\", 23)\n",
    "                    .when(col(\"currRankValue\") == \"Radiant 2\", 24)\n",
    "                    .when(col(\"currRankValue\") == \"Radiant 3\", 25)\n",
    "                                    .otherwise(0)))"
   ]
  },
  {
   "cell_type": "code",
   "execution_count": 64,
   "metadata": {},
   "outputs": [],
   "source": [
    "df_player_book = (\n",
    "    df_player_book\n",
    "        .withColumn(\"teamNumberId\",\n",
    "                    when(col(\"teamId\") == \"Red\", 1)\n",
    "                    .when(col(\"teamId\") == \"Blue\", 2)\n",
    "                                    .otherwise(0)))"
   ]
  },
  {
   "cell_type": "code",
   "execution_count": 65,
   "metadata": {},
   "outputs": [],
   "source": [
    "df_player_book = (\n",
    "    df_player_book\n",
    "        .withColumn(\"teamNumberId\",\n",
    "                    when(col(\"teamId\") == \"Red\", 1)\n",
    "                    .when(col(\"teamId\") == \"Blue\", 2)\n",
    "                                    .otherwise(0)))"
   ]
  },
  {
   "cell_type": "code",
   "execution_count": 66,
   "metadata": {},
   "outputs": [],
   "source": [
    "df_player_book = (\n",
    "    df_player_book\n",
    "        .withColumn(\"agentNameNumber\",\n",
    "                    when(col(\"agentName\") == \"Astra\", 1)\n",
    "                    .when(col(\"agentName\") == \"Phoenix\", 2)\n",
    "                    .when(col(\"agentName\") == \"Raze\", 3)\n",
    "                    .when(col(\"agentName\") == \"Harbor\", 4)\n",
    "                    .when(col(\"agentName\") == \"Gekko\", 5)\n",
    "                    .when(col(\"agentName\") == \"Reyna\", 6)\n",
    "                    .when(col(\"agentName\") == \"Neon\", 7)\n",
    "                    .when(col(\"agentName\") == \"Breach\", 8)\n",
    "                    .when(col(\"agentName\") == \"Sova\", 9)\n",
    "                    .when(col(\"agentName\") == \"Killjoy\", 10)\n",
    "                    .when(col(\"agentName\") == \"Sage\", 11)\n",
    "                    .when(col(\"agentName\") == \"Cypher\", 12)\n",
    "                    .when(col(\"agentName\") == \"Yoru\", 13)\n",
    "                    .when(col(\"agentName\") == \"Skye\", 14)\n",
    "                    .when(col(\"agentName\") == \"Brimstone\", 15)\n",
    "                    .when(col(\"agentName\") == \"Fade\", 16)\n",
    "                    .when(col(\"agentName\") == \"Chamber\", 17)\n",
    "                    .when(col(\"agentName\") == \"KAY/O\", 18)\n",
    "                    .when(col(\"agentName\") == \"Omen\", 19)\n",
    "                    .when(col(\"agentName\") == \"Jett\", 20)\n",
    "                                    .otherwise(0)))"
   ]
  },
  {
   "cell_type": "code",
   "execution_count": 67,
   "metadata": {},
   "outputs": [],
   "source": [
    "df_player_book = (\n",
    "    df_player_book\n",
    "        .withColumn(\"resultNumber\",\n",
    "                    when(col(\"result\") == \"tied\", 1)\n",
    "                    .when(col(\"result\") == \"victory\", 2)\n",
    "                    .when(col(\"result\") == \"defeat\", 3)\n",
    "                    .otherwise(0)))"
   ]
  },
  {
   "cell_type": "code",
   "execution_count": 68,
   "metadata": {},
   "outputs": [],
   "source": [
    "df_player_book = (\n",
    "    df_player_book\n",
    "        .withColumn(\"weaponNameNumber\",\n",
    "                    when(col(\"weaponName\") == \"Phantom\", 1)\n",
    "                    .when(col(\"weaponName\") == \"Vandal\", 2)\n",
    "                    .when(col(\"weaponName\") == \"Sheriff\", 3)\n",
    "                    .when(col(\"weaponName\") == \"Operator\", 4)\n",
    "                    .when(col(\"weaponName\") == \"Ghost\", 5)\n",
    "                    .when(col(\"weaponName\") == \"Marshal\", 6)\n",
    "                    .when(col(\"weaponName\") == \"Spectre\", 7)\n",
    "                    .when(col(\"weaponName\") == \"Shorty\", 8)\n",
    "                    .when(col(\"weaponName\") == \"Stinger\", 9)\n",
    "                    .when(col(\"weaponName\") == \"Guardian\", 10)\n",
    "                    .when(col(\"weaponName\") == \"Judge\", 11)\n",
    "                    .when(col(\"weaponName\") == \"Ares\", 12)\n",
    "                    .when(col(\"weaponName\") == \"Classic\", 13)\n",
    "                    .when(col(\"weaponName\") == \"Odin\", 14)\n",
    "                    .otherwise(0)))"
   ]
  },
  {
   "cell_type": "code",
   "execution_count": 69,
   "metadata": {},
   "outputs": [],
   "source": [
    "df_player_book = (\n",
    "    df_player_book\n",
    "        .withColumn(\"isAvailableNumber\",\n",
    "                    when(col(\"isAvailable\") == \"true\", 1)\n",
    "                    .when(col(\"isAvailable\") == \"false\", 2)\n",
    "                    .otherwise(0)))"
   ]
  },
  {
   "cell_type": "code",
   "execution_count": 70,
   "metadata": {},
   "outputs": [],
   "source": [
    "df_player_book = (\n",
    "    df_player_book\n",
    "        .withColumn(\"mapNameNumber\",\n",
    "                    when(col(\"mapName\") == \"Ascent\", 1)\n",
    "                    .when(col(\"mapName\") == \"Split\", 2)\n",
    "                    .when(col(\"mapName\") == \"Haven\", 3)\n",
    "                    .when(col(\"mapName\") == \"Fracture\", 4)\n",
    "                    .when(col(\"mapName\") == \"Breeze\", 5)\n",
    "                    .when(col(\"mapName\") == \"Pearl\", 6)\n",
    "                    .when(col(\"mapName\") == \"Icebox\", 7)\n",
    "                    .when(col(\"mapName\") == \"Lotus\", 8)\n",
    "                    .when(col(\"mapName\") == \"Bind\", 9)\n",
    "                    .otherwise(0)))"
   ]
  },
  {
   "cell_type": "code",
   "execution_count": 71,
   "metadata": {},
   "outputs": [],
   "source": [
    "df_player_book = (\n",
    "    df_player_book\n",
    "        .withColumn(\"modeKeyNumber\",\n",
    "                    when(col(\"modeKey\") == \"bomb\", 1)\n",
    "                    .otherwise(0)))"
   ]
  },
  {
   "cell_type": "code",
   "execution_count": 72,
   "metadata": {},
   "outputs": [],
   "source": [
    "df_player_book = (\n",
    "    df_player_book\n",
    "        .withColumn(\"modeNameNumber\",\n",
    "                    when(col(\"modeName\") == \"Competitive\", 1)\n",
    "                    .otherwise(0)))"
   ]
  },
  {
   "cell_type": "code",
   "execution_count": 73,
   "metadata": {},
   "outputs": [],
   "source": [
    "df_player_book = (\n",
    "    df_player_book\n",
    "       .withColumn('avgSpentCredits', (col('totalSpentCredits') / col('totalRounds')).cast('int'))\n",
    "       .withColumn('avgScoreValue', (col('scoreValue') / col('totalRounds')).cast('double'))\n",
    "       .withColumn('avgKillsValue', (col('killsValue') / col('totalRounds')).cast('double'))\n",
    "       .withColumn('avgDeathsValue', (col('deathsValue') / col('totalRounds')).cast('double'))\n",
    "       .withColumn('avgAssistsValue', (col('assistsValue') / col('totalRounds')).cast('double'))\n",
    "       .withColumn('avgDamageValue', (col('damageValue') / col('totalRounds')).cast('double'))\n",
    "       .withColumn('avgGrenadeCastsValue', (col('grenadeCastsValue') / col('totalRounds')).cast('double'))\n",
    "       .withColumn('avgAbility1CastsValue', (col('ability1CastsValue') / col('totalRounds')).cast('double'))\n",
    "       .withColumn('avgAbility2CastsValue', (col('ability2CastsValue') / col('totalRounds')).cast('double'))\n",
    "       .withColumn('avgUltimateCastsValue', (col('ultimateCastsValue') / col('totalRounds')).cast('double'))\n",
    "       .withColumn('avgPlantsValue', (col('plantsValue') / col('totalRounds')).cast('double'))\n",
    "       .withColumn('avgDefusesValue', (col('defusesValue') / col('totalRounds')).cast('double'))\n",
    "       .withColumn('avgFirstKillsValue', (col('firstKillsValue') / col('totalRounds')).cast('double'))\n",
    "       .withColumn('avgFirstDeathsValue', (col('firstDeathsValue') / col('totalRounds')).cast('double'))\n",
    "       .withColumn('avgEsrValue', (col('esrValue') / col('totalRounds')).cast('double'))\n",
    "       .withColumn('avgEconRatingValue', (col('econRatingValue') / col('totalRounds')).cast('double'))\n",
    "       .withColumn('avgKastValue', (col('KastValue') / col('totalRounds')).cast('double'))\n",
    "       .withColumn('avgClutchesValue', (col('clutchesValue') / col('totalRounds')).cast('double'))\n",
    "       .withColumn('avgTrnPerformanceScoreValue', (col('trnPerformanceScoreValue') / col('totalRounds')).cast('double'))\n",
    "       .withColumn('avgTeamScoreValue', (col('teamScoreValue') / col('totalRounds')).cast('double'))\n",
    "       .withColumn('avgTeamKillsValue', (col('teamKillsValue') / col('totalRounds')).cast('double'))\n",
    "       .withColumn('avgTeamDeathsValue', (col('teamDeathsValue') / col('totalRounds')).cast('double'))\n",
    "       .withColumn('avgTeamAssistsValue', (col('teamAssistsValue') / col('totalRounds')).cast('double'))\n",
    "       .withColumn('avgTeamDamageValue', (col('teamDamageValue') / col('totalRounds')).cast('double'))\n",
    ")"
   ]
  },
  {
   "cell_type": "code",
   "execution_count": 74,
   "metadata": {},
   "outputs": [],
   "source": [
    "df_player_book = (\n",
    "    df_player_book\n",
    "      .withColumnRenamed('matchId', 'match_id')\n",
    "      .withColumnRenamed('platformUserIdentifier', 'platform_user_identifier')\n",
    "      .withColumnRenamed('totalSpentCredits', 'total_spent_credits')\n",
    "      .withColumnRenamed('totalRounds', 'total_rounds')\n",
    "      .withColumnRenamed('rankValue', 'rank_value')\n",
    "      .withColumnRenamed('currRankValue', 'current_rank_value')\n",
    "      .withColumnRenamed('scoreValue', 'score_value')\n",
    "      .withColumnRenamed('scorePerRoundValue', 'score_per_round_value')\n",
    "      .withColumnRenamed('killsPerRoundValue', 'kills_per_round_value')\n",
    "      .withColumnRenamed('killsValue', 'kills_value')\n",
    "      .withColumnRenamed('deathsValue', 'deaths_value')\n",
    "      .withColumnRenamed('assistsValue', 'assists_value')\n",
    "      .withColumnRenamed('kdRatioValue', 'kd_ratio_value')\n",
    "      .withColumnRenamed('damageValue', 'damage_value')\n",
    "      .withColumnRenamed('damagePerRoundValue', 'damage_per_round_value')\n",
    "      .withColumnRenamed('damageDeltaPerRoundValue', 'damage_delta_per_round_value')\n",
    "      .withColumnRenamed('singleKillsValue', 'single_kills_value')\n",
    "      .withColumnRenamed('doubleKillsValue', 'double_kills_value')\n",
    "      .withColumnRenamed('tripleKillsValue', 'triple_kills_value')\n",
    "      .withColumnRenamed('quadraKillsValue', 'quadra_kills_value')\n",
    "      .withColumnRenamed('pentaKillsValue', 'penta_kills_value')\n",
    "      .withColumnRenamed('multiKillsValue', 'multi_kills_value')\n",
    "      .withColumnRenamed('grenadeCastsValue', 'grenade_casts_value')\n",
    "      .withColumnRenamed('ability1CastsValue', 'ability1_casts_value')\n",
    "      .withColumnRenamed('ability2CastsValue', 'ability2_casts_value')\n",
    "      .withColumnRenamed('ultimateCastsValue', 'ultimate_casts_value')\n",
    "      .withColumnRenamed('grenadeCastsPerRoundValue', 'grenade_casts_per_round_value')\n",
    "      .withColumnRenamed('ability1CastsPerRoundValue', 'ability1_casts_per_round_value')\n",
    "      .withColumnRenamed('ability2CastsPerRoundValue', 'ability2_casts_per_round_value')\n",
    "      .withColumnRenamed('ultimateCastsPerRoundValue', 'ultimate_casts_per_round_value')\n",
    "      .withColumnRenamed('plantsValue', 'plants_value')\n",
    "      .withColumnRenamed('defusesValue', 'defuses_value')\n",
    "      .withColumnRenamed('firstKillsValue', 'first_kills_value')\n",
    "      .withColumnRenamed('firstDeathsValue', 'first_deaths_value')\n",
    "      .withColumnRenamed('esrValue', 'esr_value')\n",
    "      .withColumnRenamed('firstKillsPerRoundValue', 'first_kills_per_round_value')\n",
    "      .withColumnRenamed('firstDeathsPerRoundValue', 'first_deaths_per_round_value')\n",
    "      .withColumnRenamed('econRatingValue', 'econ_rating_value')\n",
    "      .withColumnRenamed('hsAccuracyValue', 'hs_accuracy_value')\n",
    "      .withColumnRenamed('KastValue', 'kast_value')\n",
    "      .withColumnRenamed('clutchesValue', 'clutches_value')\n",
    "      .withColumnRenamed('roundsWinPctValue', 'rounds_win_pct_value')\n",
    "      .withColumnRenamed('trnPerformanceScoreValue', 'trn_performance_score_value')\n",
    "      .withColumnRenamed('partyId', 'party_id')\n",
    "      .withColumnRenamed('teamId', 'team_id')\n",
    "      .withColumnRenamed('agentName', 'agent_name')\n",
    "      .withColumnRenamed('hasWon', 'has_won')\n",
    "      .withColumnRenamed('roundsWonValue', 'rounds_won_value')\n",
    "      .withColumnRenamed('roundslostValue', 'rounds_lost_value')\n",
    "      .withColumnRenamed('teamScoreValue', 'team_score_value')\n",
    "      .withColumnRenamed('teamKillsValue', 'team_kills_value')\n",
    "      .withColumnRenamed('teamDeathsValue', 'team_deaths_value')\n",
    "      .withColumnRenamed('teamAssistsValue', 'team_assists_value')\n",
    "      .withColumnRenamed('teamDamageValue', 'team_damage_value')\n",
    "      .withColumnRenamed('weaponName', 'weapon_name')\n",
    "      .withColumnRenamed('maxTotalKillsWeaponName', 'max_total_kills_weapon_name')\n",
    "      .withColumnRenamed('isAvailable', 'is_available')\n",
    "      .withColumnRenamed('timestamp', 'timestamp')\n",
    "      .withColumnRenamed('seasonName', 'season_name')\n",
    "      .withColumnRenamed('mapName', 'map_name')\n",
    "      .withColumnRenamed('playtimeValue', 'playtime_value')\n",
    "      .withColumnRenamed('result', 'result')\n",
    "      .withColumnRenamed('expiryDate', 'expiry_date')\n",
    "      .withColumnRenamed('modeKey', 'mode_key')\n",
    "      .withColumnRenamed('modeName', 'mode_name')\n",
    "      .withColumnRenamed('modeMaxRounds', 'mode_max_rounds')\n",
    "      .withColumnRenamed('duration', 'duration')\n",
    "      .withColumnRenamed('dateStarted', 'date_started')\n",
    "      .withColumnRenamed('totalPlayersMatch', 'total_players_match')\n",
    "      .withColumnRenamed('totalPlayersTeam', 'total_players_team')\n",
    "      .withColumnRenamed('dateMatch', 'date_match')\n",
    "      .withColumnRenamed('hourMatch', 'hour_match')\n",
    "      .withColumnRenamed('minutesMatch', 'minutes_match')\n",
    "      .withColumnRenamed('playtimeMinutesValue', 'playtime_minutes_value')\n",
    "      .withColumnRenamed('playtimeHoursValue', 'playtime_hours_value')\n",
    "      .withColumnRenamed('weekDayNumber', 'week_day_number')\n",
    "      .withColumnRenamed('weekDay', 'week_day')\n",
    "      .withColumnRenamed('rankNumberValue', 'rank_number_value')\n",
    "      .withColumnRenamed('currRankNumberValue', 'current_rank_number_value')\n",
    "      .withColumnRenamed('teamNumberId', 'team_number_id')\n",
    "      .withColumnRenamed('agentNameNumber', 'agent_name_number')\n",
    "      .withColumnRenamed('resultNumber', 'result_number')\n",
    "      .withColumnRenamed('weaponNameNumber', 'weapon_name_number')\n",
    "      .withColumnRenamed('isAvailableNumber', 'is_available_number')\n",
    "      .withColumnRenamed('mapNameNumber', 'map_name_number')\n",
    "      .withColumnRenamed('modeKeyNumber', 'mode_key_number')\n",
    "      .withColumnRenamed('modeNameNumber', 'mode_name_number')\n",
    "      .withColumnRenamed('avgSpentCredits', 'avg_spent_credits')\n",
    "      .withColumnRenamed('avgScoreValue', 'avg_score_value')\n",
    "      .withColumnRenamed('avgKillsValue', 'avg_kills_value')\n",
    "      .withColumnRenamed('avgDeathsValue', 'avg_deaths_value')\n",
    "      .withColumnRenamed('avgAssistsValue', 'avg_assists_value')\n",
    "      .withColumnRenamed('avgDamageValue', 'avg_damage_value')\n",
    "      .withColumnRenamed('avgGrenadeCastsValue', 'avg_grenade_casts_value')\n",
    "      .withColumnRenamed('avgAbility1CastsValue', 'avg_ability1_casts_value')\n",
    "      .withColumnRenamed('avgAbility2CastsValue', 'avg_ability2_casts_value')\n",
    "      .withColumnRenamed('avgUltimateCastsValue', 'avg_ultimate_casts_value')\n",
    "      .withColumnRenamed('avgPlantsValue', 'avg_plants_value')\n",
    "      .withColumnRenamed('avgDefusesValue', 'avg_defuses_value')\n",
    "      .withColumnRenamed('avgFirstKillsValue', 'avg_first_kills_value')\n",
    "      .withColumnRenamed('avgFirstDeathsValue', 'avg_first_deaths_value')\n",
    "      .withColumnRenamed('avgEsrValue', 'avg_esr_value')\n",
    "      .withColumnRenamed('avgEconRatingValue', 'avg_econ_rating_value')\n",
    "      .withColumnRenamed('avgKastValue', 'avg_kast_value')\n",
    "      .withColumnRenamed('avgClutchesValue', 'avg_clutches_value')\n",
    "      .withColumnRenamed('avgTrnPerformanceScoreValue', 'avg_trn_performance_score_value')\n",
    "      .withColumnRenamed('avgTeamScoreValue', 'avg_team_score_value')\n",
    "      .withColumnRenamed('avgTeamKillsValue', 'avg_team_kills_value')\n",
    "      .withColumnRenamed('avgTeamDeathsValue', 'avg_team_deaths_value')\n",
    "      .withColumnRenamed('avgTeamAssistsValue', 'avg_team_assists_value')\n",
    "      .withColumnRenamed('avgTeamDamageValue', 'avg_team_damage_value')\n",
    ")"
   ]
  },
  {
   "cell_type": "code",
   "execution_count": 75,
   "metadata": {},
   "outputs": [
    {
     "name": "stderr",
     "output_type": "stream",
     "text": [
      "23/05/28 13:54:21 WARN TaskSetManager: Stage 12 contains a task of very large size (2644 KiB). The maximum recommended task size is 1000 KiB.\n",
      "23/05/28 13:54:22 WARN TaskSetManager: Stage 13 contains a task of very large size (10779 KiB). The maximum recommended task size is 1000 KiB.\n",
      "23/05/28 13:54:23 WARN TaskSetManager: Stage 14 contains a task of very large size (2644 KiB). The maximum recommended task size is 1000 KiB.\n",
      "23/05/28 13:54:24 WARN TaskSetManager: Stage 17 contains a task of very large size (10779 KiB). The maximum recommended task size is 1000 KiB.\n",
      "23/05/28 13:54:25 WARN TaskSetManager: Stage 20 contains a task of very large size (10779 KiB). The maximum recommended task size is 1000 KiB.\n",
      "                                                                                \r"
     ]
    },
    {
     "name": "stdout",
     "output_type": "stream",
     "text": [
      "Data was written to S3://s3-tcc-fia-valorant/valorant/refined/player-book/\n"
     ]
    }
   ],
   "source": [
    "save_dataframe_csv('s3-tcc-fia-valorant', 'valorant/refined/player-book/', 'player-book', df_player_book, '.csv')"
   ]
  }
 ],
 "metadata": {
  "kernelspec": {
   "display_name": "base",
   "language": "python",
   "name": "python3"
  },
  "language_info": {
   "codemirror_mode": {
    "name": "ipython",
    "version": 3
   },
   "file_extension": ".py",
   "mimetype": "text/x-python",
   "name": "python",
   "nbconvert_exporter": "python",
   "pygments_lexer": "ipython3",
   "version": "3.10.6"
  },
  "orig_nbformat": 4
 },
 "nbformat": 4,
 "nbformat_minor": 2
}
